{
 "cells": [
  {
   "cell_type": "markdown",
   "metadata": {},
   "source": [
    "# query execution plans\n",
    "\n",
    "whenever we write a sql query, the database system first parses our code to generate a query tree.\n",
    "\n",
    "then the optimizer modifies the query tree either based on relational algebra or cost-based optimization to generate an execution plan.\n",
    "\n",
    "the execution plan is a sequence of operations that the database system will perform to execute the query.\n",
    "\n",
    "the operations are things like \"scan this table\", \"filter out rows that don't satisfy this condition\", \"join these two tables\", and so on.\n",
    "\n",
    "using the `explain` command, we can see the execution plan that the system came up with for our query."
   ]
  },
  {
   "cell_type": "code",
   "execution_count": 41,
   "metadata": {},
   "outputs": [
    {
     "name": "stdout",
     "output_type": "stream",
     "text": [
      "Command:     EXPLAIN\n",
      "Description: show the execution plan of a statement\n",
      "Syntax:\n",
      "EXPLAIN [ ( option [, ...] ) ] statement\n",
      "EXPLAIN [ ANALYZE ] [ VERBOSE ] statement\n",
      "\n",
      "where option can be one of:\n",
      "\n",
      "    ANALYZE [ boolean ]\n",
      "    VERBOSE [ boolean ]\n",
      "    COSTS [ boolean ]\n",
      "    SETTINGS [ boolean ]\n",
      "    GENERIC_PLAN [ boolean ]\n",
      "    BUFFERS [ boolean ]\n",
      "    WAL [ boolean ]\n",
      "    TIMING [ boolean ]\n",
      "    SUMMARY [ boolean ]\n",
      "    FORMAT { TEXT | XML | JSON | YAML }\n",
      "\n",
      "URL: https://www.postgresql.org/docs/16/sql-explain.html\n",
      "\n"
     ]
    }
   ],
   "source": [
    "!psql postgres -c \"\\h explain\""
   ]
  },
  {
   "cell_type": "markdown",
   "metadata": {},
   "source": [
    "since the execution plan is a tree, you have to read it from the leaf nodes to the root node.\n",
    "\n",
    "each child node provides the input to the parent node.\n",
    "\n",
    "the root node is the final result of the query that aggregates all the intermediate results (and costs).\n",
    "\n",
    "learn more through the following resources:\n",
    "\n",
    "_docs_\n",
    "\n",
    "- https://www.postgresql.org/docs/current/sql-explain.html\n",
    "- https://www.postgresql.org/docs/9.5/using-explain.html\n",
    "- overview: https://www.postgresql.org/docs/current/index.html\n",
    "- performance tips: https://www.postgresql.org/docs/current/performance-tips.html\n",
    "- glossary: https://www.pgmustard.com/docs/explain\n",
    "\n",
    "_visualization tools_\n",
    "\n",
    "- https://explain.dalibo.com/\n",
    "     - source: https://github.com/dalibo/pev2\n",
    "- https://www.pgexplain.dev/ (pev2 but with a backend)\n",
    "     - source: https://github.com/lfborjas/postgres-explain-visualizer\n",
    "- https://tatiyants.com/pev/\n",
    "     - source: https://github.com/AlexTatiyants/pev/\n",
    "- https://explain.depesz.com/\n",
    "- https://explain-postgresql.com/ (not so good)"
   ]
  },
  {
   "cell_type": "markdown",
   "metadata": {},
   "source": [
    "# 1) what is the default triangle-join plan?\n",
    "\n",
    "what is the most common execution plan for the following query: $r \\bowtie s \\bowtie t$?\n",
    "\n",
    "the default join strategy for $r \\bowtie s \\bowtie t$ is a hash join first, combined with a merge join:\n",
    "\n",
    "1. hash join $r \\bowtie s$ (using $s$ to build the hash table)\n",
    "    \n",
    "    then sort the result and materialize it (turn it into a table so it doesn't have to be recomputed).\n",
    "\n",
    "2. sort $t$ and merge join with the result from step 1.\n",
    "\n",
    "<br>\n",
    "\n",
    "**_what is a hash join?_**\n",
    "\n",
    "assume we want to equi join: $R \\bowtie_{\\text{A}=\\text{B}} S$\n",
    "\n",
    "- 1) partition phase:\n",
    "\t- find a hash function that can map values in the join columns to a buffer frame index between $[1;B\\text{-}1]$. → the buffer frames we map the rows to are called \"buckets\" and the 1 remaining buffer frame is used to read new pages in.\n",
    "\t- read each page $p_R$ of $R$ to memory. then hash the join value of each row to find the right bucket to store a pointer in. → if buffer frames overflow, write them back to disk.\n",
    "\t- repeat for $p_S$ of $S$.\n",
    "\t- total cost: $2 \\cdot (b_R  + b_S)$ → factor of 2 because of initial reading and writing back the potentially full buckets to disk.\n",
    "- 2) probing phase:\n",
    "\t- assuming $R_i$ and $S_i$ are all rows in the $i$ th-bucket (and $R_i$ is the smaller one of them): read $R_i$ to $B\\text-2$ buffer frames. → if not possible, either hash recursively or try another algorithm. the 2 remaining buffer frames are used to read new $S_i$ pages in and store the final result.\n",
    "\t- read each page of $S_i$ into memory. then check each row for matches with $R_i$.\n",
    "\t- if a matching row is found, write it into the buffer frame dedicated to results.\n",
    "\t- total cost: $b_i  + b_s$\n",
    "- total cost of both phases: $3 \\cdot (b_R  + b_S)$"
   ]
  },
  {
   "cell_type": "code",
   "execution_count": 60,
   "metadata": {},
   "outputs": [],
   "source": [
    "# reset the environment\n",
    "!chmod +x ./reset.sh && ./reset.sh >> /dev/null"
   ]
  },
  {
   "cell_type": "code",
   "execution_count": 61,
   "metadata": {},
   "outputs": [
    {
     "name": "stdout",
     "output_type": "stream",
     "text": [
      "                                      List of relations\n",
      " Schema |    Name     | Type  |  Owner  | Persistence | Access method |  Size   | Description \n",
      "--------+-------------+-------+---------+-------------+---------------+---------+-------------\n",
      " public | badges      | table | sueszli | permanent   | heap          | 1800 kB | \n",
      " public | comments    | table | sueszli | permanent   | heap          | 8296 kB | \n",
      " public | posthistory | table | sueszli | permanent   | heap          | 31 MB   | \n",
      " public | postlinks   | table | sueszli | permanent   | heap          | 112 kB  | \n",
      " public | posts       | table | sueszli | permanent   | heap          | 15 MB   | \n",
      " public | r           | table | sueszli | permanent   | heap          | 744 kB  | \n",
      " public | s           | table | sueszli | permanent   | heap          | 104 kB  | \n",
      " public | t           | table | sueszli | permanent   | heap          | 744 kB  | \n",
      " public | tags        | table | sueszli | permanent   | heap          | 56 kB   | \n",
      " public | users       | table | sueszli | permanent   | heap          | 3864 kB | \n",
      " public | votes       | table | sueszli | permanent   | heap          | 4512 kB | \n",
      "(11 rows)\n",
      "\n"
     ]
    }
   ],
   "source": [
    "# print all tables\n",
    "!psql postgres -c \"\\dt+\""
   ]
  },
  {
   "cell_type": "code",
   "execution_count": 62,
   "metadata": {},
   "outputs": [
    {
     "name": "stdout",
     "output_type": "stream",
     "text": [
      "                 Table \"public.r\"\n",
      " Column |  Type   | Collation | Nullable | Default \n",
      "--------+---------+-----------+----------+---------\n",
      " a      | integer |           |          | \n",
      " b      | integer |           |          | \n",
      "\n",
      "                 Table \"public.s\"\n",
      " Column |  Type   | Collation | Nullable | Default \n",
      "--------+---------+-----------+----------+---------\n",
      " b      | integer |           |          | \n",
      " c      | integer |           |          | \n",
      "\n",
      "                 Table \"public.t\"\n",
      " Column |  Type   | Collation | Nullable | Default \n",
      "--------+---------+-----------+----------+---------\n",
      " a      | integer |           |          | \n",
      " c      | integer |           |          | \n",
      "\n"
     ]
    }
   ],
   "source": [
    "# print schema of r, s, t tables\n",
    "!psql postgres -c \"\\d r\"\n",
    "!psql postgres -c \"\\d s\"\n",
    "!psql postgres -c \"\\d t\""
   ]
  },
  {
   "cell_type": "code",
   "execution_count": 101,
   "metadata": {},
   "outputs": [
    {
     "name": "stdout",
     "output_type": "stream",
     "text": [
      "                                                           QUERY PLAN                                                           \n",
      "--------------------------------------------------------------------------------------------------------------------------------\n",
      " Merge Join  (cost=52724.37..89027.34 rows=2010918 width=12) (actual time=127.162..322.327 rows=2008672 loops=1)\n",
      "   Merge Cond: ((t.c = s.c) AND (t.a = r.a))\n",
      "   ->  Sort  (cost=1717.77..1767.77 rows=20000 width=8) (actual time=7.572..8.591 rows=10264 loops=1)\n",
      "         Sort Key: t.c, t.a\n",
      "         Sort Method: quicksort  Memory: 1394kB\n",
      "         ->  Seq Scan on t  (cost=0.00..289.00 rows=20000 width=8) (actual time=0.009..1.607 rows=20000 loops=1)\n",
      "   ->  Materialize  (cost=51006.60..53076.46 rows=413972 width=12) (actual time=119.581..199.888 rows=2216058 loops=1)\n",
      "         ->  Sort  (cost=51006.60..52041.53 rows=413972 width=12) (actual time=119.578..142.644 rows=413972 loops=1)\n",
      "               Sort Key: s.c, r.a\n",
      "               Sort Method: external merge  Disk: 8960kB\n",
      "               ->  Hash Join  (cost=54.00..5307.72 rows=413972 width=12) (actual time=0.525..26.869 rows=413972 loops=1)\n",
      "                     Hash Cond: (r.b = s.b)\n",
      "                     ->  Seq Scan on r  (cost=0.00..289.00 rows=20000 width=8) (actual time=0.015..0.970 rows=20000 loops=1)\n",
      "                     ->  Hash  (cost=29.00..29.00 rows=2000 width=8) (actual time=0.492..0.492 rows=2000 loops=1)\n",
      "                           Buckets: 2048  Batches: 1  Memory Usage: 95kB\n",
      "                           ->  Seq Scan on s  (cost=0.00..29.00 rows=2000 width=8) (actual time=0.012..0.254 rows=2000 loops=1)\n",
      " Planning Time: 0.532 ms\n",
      " Execution Time: 358.284 ms\n",
      "(18 rows)\n",
      "\n"
     ]
    }
   ],
   "source": [
    "!psql postgres -c \"explain analyze SELECT a,b,c FROM r NATURAL JOIN s NATURAL JOIN t;\""
   ]
  },
  {
   "cell_type": "code",
   "execution_count": 103,
   "metadata": {},
   "outputs": [
    {
     "name": "stdout",
     "output_type": "stream",
     "text": [
      "                 QUERY PLAN                  \n",
      "---------------------------------------------\n",
      " Merge Join\n",
      "   Merge Cond: ((t.c = s.c) AND (t.a = r.a))\n",
      "   ->  Sort\n",
      "         Sort Key: t.c, t.a\n",
      "         ->  Seq Scan on t\n",
      "   ->  Materialize\n",
      "         ->  Sort\n",
      "               Sort Key: s.c, r.a\n",
      "               ->  Hash Join\n",
      "                     Hash Cond: (r.b = s.b)\n",
      "                     ->  Seq Scan on r\n",
      "                     ->  Hash\n",
      "                           ->  Seq Scan on s\n",
      "(13 rows)\n",
      "\n"
     ]
    }
   ],
   "source": [
    "!psql postgres -c \"explain (costs off) SELECT a,b,c FROM r NATURAL JOIN s NATURAL JOIN t;\""
   ]
  },
  {
   "cell_type": "markdown",
   "metadata": {},
   "source": [
    "# 2) which join strategy is fastest for a triangle-join?\n",
    "\n",
    "next we want to force the optimizer to use just one join strategy, benchmark the execution time and compare the results:\n",
    "\n",
    "- **hash join**\n",
    "    - avg execution time: `232.71 ms`\n",
    "    - query plan: just sequential scans and hash joins.\n",
    "    - the hash join strategy was the fastest - even faster than the default strategy that the optimizer came up with. one reason for this could be that the hash join is more cache-friendly than the merge join because it doesn't require any sorting.\n",
    "- **merge join**\n",
    "    - avg execution time: `369.47 ms`\n",
    "    - query plan: additionally sorting with quicksort and materializing the results before the root node.\n",
    "- **nested loop join**\n",
    "    - avg execution time: timed out (over 10 minutes)\n",
    "    - query plan: not quite clear, but it seems to have tried to materialize an entire table at leaf level. the attempted materialization of an entire table probably lead to reaching memory or disk limits.\n",
    "- **default** (hash join + merge join)\n",
    "    - avg execution time: `357.69 ms`\n",
    "    - query plan: as explained above.\n",
    "    - since its average runtime falls between the pure hash and pure merge cases, the optimizer seems to have chosen a good strategy for the default case.\n",
    "\n",
    "by allocating data differently or manipulating the environment, we can strongly influence the effectiveness of the different join strategies:\n",
    "\n",
    "- **favoring hash joins:**\n",
    "    - if one table is smaller, allowing for a quick in-memory hash table construction.\n",
    "    - if you create indexes on columns involved in join conditions (`r.a`, `s.b`, `t.c`).\n",
    "- **favoring merge joins:**\n",
    "    - if the join columns are already sorted.\n",
    "    - if you create indexes on columns involved in join conditions (`r.a`, `s.b`, `t.c`).\n",
    "- **favoring nested loop joins:**\n",
    "    - not recommended - wouldn't make any sense to favor this strategy.\n",
    "\n",
    "we could also skew to the data to mess with the optimizer's cost-based optimization:\n",
    "\n",
    "```sql\n",
    "create table r as \n",
    "    select (random()*10)::int as a, -- most 'a' values are low\n",
    "           (random()*30)::int as b from generate_series(1, 20000);\n",
    "```"
   ]
  },
  {
   "cell_type": "code",
   "execution_count": 153,
   "metadata": {},
   "outputs": [
    {
     "name": "stdout",
     "output_type": "stream",
     "text": [
      "Darwin Yahyas-MBP 23.2.0 Darwin Kernel Version 23.2.0: Wed Nov 15 21:55:06 PST 2023; root:xnu-10002.61.3~2/RELEASE_ARM64_T6020 arm64\n"
     ]
    }
   ],
   "source": [
    "!uname -a"
   ]
  },
  {
   "cell_type": "code",
   "execution_count": 54,
   "metadata": {},
   "outputs": [],
   "source": [
    "from enum import Enum\n",
    "import os\n",
    "import json\n",
    "\n",
    "class JoinMode(Enum):\n",
    "    HASHJOIN = \"set enable_hashjoin=1; set enable_mergejoin=0; set enable_nestloop=0;\"\n",
    "    MERGEJOIN = \"set enable_hashjoin=0; set enable_mergejoin=1; set enable_nestloop=0;\"\n",
    "    NESTLOOP = \"set enable_hashjoin=0; set enable_mergejoin=0; set enable_nestloop=1;\"\n",
    "    DEFAULT = \"set enable_hashjoin=1; set enable_mergejoin=1; set enable_nestloop=1;\"\n",
    "\n",
    "# execution plan\n",
    "def print_plan(mode:JoinMode) -> None:\n",
    "    output = os.popen(f'psql postgres -c \"{mode.value} explain (analyze, costs) SELECT a,b,c FROM r NATURAL JOIN s NATURAL JOIN t;\"').read()\n",
    "    print(output)\n",
    "\n",
    "# benchmark\n",
    "def get_exec(mode:JoinMode) -> float:\n",
    "    full_query = f\"{mode.value} explain (analyze, verbose, costs, settings, buffers, wal, timing, summary, format json) SELECT a,b,c FROM r NATURAL JOIN s NATURAL JOIN t;\"\n",
    "    output = os.popen(f'psql postgres -c \"{full_query}\"').read()\n",
    "    output = output.splitlines()[5:-2]\n",
    "    for i in range(len(output)):\n",
    "        if len(output[i]) > 2:\n",
    "            output[i] = output[i][:-1]\n",
    "    output = \"\\n\".join(output)\n",
    "    output = json.loads(output)[0]\n",
    "    output = float(output[\"Execution Time\"])\n",
    "    return output\n",
    "\n",
    "def print_avg_exec(mode:JoinMode, iters:int=10) -> None:\n",
    "    vals = []\n",
    "    for _ in range(iters):\n",
    "        time = get_exec(mode)\n",
    "        vals.append(time)\n",
    "    print(f\"average execution time in {mode.name}-MODE: {sum(vals) / iters:.2f} ms (in {iters} iterations)\")"
   ]
  },
  {
   "cell_type": "markdown",
   "metadata": {},
   "source": [
    "## hash join"
   ]
  },
  {
   "cell_type": "code",
   "execution_count": 55,
   "metadata": {},
   "outputs": [
    {
     "name": "stdout",
     "output_type": "stream",
     "text": [
      "SET\n",
      "SET\n",
      "SET\n",
      "                                                        QUERY PLAN                                                        \n",
      "--------------------------------------------------------------------------------------------------------------------------\n",
      " Hash Join  (cost=13408.40..267441.51 rows=1999411 width=12) (actual time=53.004..186.939 rows=1999499 loops=1)\n",
      "   Hash Cond: ((t.a = r.a) AND (t.c = s.c))\n",
      "   ->  Seq Scan on t  (cost=0.00..289.00 rows=20000 width=8) (actual time=0.007..0.859 rows=20000 loops=1)\n",
      "   ->  Hash  (cost=5297.36..5297.36 rows=407936 width=12) (actual time=52.664..52.666 rows=407936 loops=1)\n",
      "         Buckets: 262144  Batches: 4  Memory Usage: 6475kB\n",
      "         ->  Hash Join  (cost=54.00..5297.36 rows=407936 width=12) (actual time=0.202..19.730 rows=407936 loops=1)\n",
      "               Hash Cond: (r.b = s.b)\n",
      "               ->  Seq Scan on r  (cost=0.00..289.00 rows=20000 width=8) (actual time=0.008..0.877 rows=20000 loops=1)\n",
      "               ->  Hash  (cost=29.00..29.00 rows=2000 width=8) (actual time=0.189..0.189 rows=2000 loops=1)\n",
      "                     Buckets: 2048  Batches: 1  Memory Usage: 95kB\n",
      "                     ->  Seq Scan on s  (cost=0.00..29.00 rows=2000 width=8) (actual time=0.002..0.095 rows=2000 loops=1)\n",
      " Planning Time: 0.271 ms\n",
      " Execution Time: 222.798 ms\n",
      "(13 rows)\n",
      "\n",
      "\n",
      "average execution time in HASHJOIN-MODE: 232.71 ms (in 10 iterations)\n"
     ]
    }
   ],
   "source": [
    "print_plan(JoinMode.HASHJOIN)\n",
    "print_avg_exec(JoinMode.HASHJOIN)"
   ]
  },
  {
   "cell_type": "markdown",
   "metadata": {},
   "source": [
    "## merge join"
   ]
  },
  {
   "cell_type": "code",
   "execution_count": 56,
   "metadata": {},
   "outputs": [
    {
     "name": "stdout",
     "output_type": "stream",
     "text": [
      "SET\n",
      "SET\n",
      "SET\n",
      "                                                            QUERY PLAN                                                             \n",
      "-----------------------------------------------------------------------------------------------------------------------------------\n",
      " Merge Join  (cost=54690.76..90777.15 rows=1999411 width=12) (actual time=106.186..304.897 rows=1999499 loops=1)\n",
      "   Merge Cond: ((t.c = s.c) AND (t.a = r.a))\n",
      "   ->  Sort  (cost=1717.77..1767.77 rows=20000 width=8) (actual time=3.632..4.831 rows=10248 loops=1)\n",
      "         Sort Key: t.c, t.a\n",
      "         Sort Method: quicksort  Memory: 1394kB\n",
      "         ->  Seq Scan on t  (cost=0.00..289.00 rows=20000 width=8) (actual time=0.006..0.639 rows=20000 loops=1)\n",
      "   ->  Materialize  (cost=52972.99..55012.67 rows=407936 width=12) (actual time=102.550..183.899 rows=2201013 loops=1)\n",
      "         ->  Sort  (cost=52972.99..53992.83 rows=407936 width=12) (actual time=102.549..125.767 rows=407936 loops=1)\n",
      "               Sort Key: s.c, r.a\n",
      "               Sort Method: external merge  Disk: 8824kB\n",
      "               ->  Merge Join  (cost=1856.43..7985.47 rows=407936 width=12) (actual time=1.902..30.910 rows=407936 loops=1)\n",
      "                     Merge Cond: (s.b = r.b)\n",
      "                     ->  Sort  (cost=138.66..143.66 rows=2000 width=8) (actual time=0.231..0.282 rows=629 loops=1)\n",
      "                           Sort Key: s.b\n",
      "                           Sort Method: quicksort  Memory: 111kB\n",
      "                           ->  Seq Scan on s  (cost=0.00..29.00 rows=2000 width=8) (actual time=0.007..0.092 rows=2000 loops=1)\n",
      "                     ->  Sort  (cost=1717.77..1767.77 rows=20000 width=8) (actual time=1.669..10.495 rows=407915 loops=1)\n",
      "                           Sort Key: r.b\n",
      "                           Sort Method: quicksort  Memory: 1394kB\n",
      "                           ->  Seq Scan on r  (cost=0.00..289.00 rows=20000 width=8) (actual time=0.004..0.610 rows=20000 loops=1)\n",
      " Planning Time: 0.363 ms\n",
      " Execution Time: 342.902 ms\n",
      "(22 rows)\n",
      "\n",
      "\n",
      "average execution time in MERGEJOIN-MODE: 369.47 ms (in 10 iterations)\n"
     ]
    }
   ],
   "source": [
    "print_plan(JoinMode.MERGEJOIN)\n",
    "print_avg_exec(JoinMode.MERGEJOIN)"
   ]
  },
  {
   "cell_type": "markdown",
   "metadata": {},
   "source": [
    "## nest loop (timed out)"
   ]
  },
  {
   "cell_type": "code",
   "execution_count": 57,
   "metadata": {},
   "outputs": [
    {
     "name": "stdout",
     "output_type": "stream",
     "text": [
      "SET\n",
      "SET\n",
      "SET\n",
      "                                                     QUERY PLAN                                                     \n",
      "--------------------------------------------------------------------------------------------------------------------\n",
      " Nested Loop  (cost=0.00..143378262.00 rows=1999411 width=12) (actual time=0.047..387676.777 rows=1999499 loops=1)\n",
      "   Join Filter: ((r.a = t.a) AND (s.c = t.c))\n",
      "   Rows Removed by Join Filter: 8156720501\n",
      "   ->  Nested Loop  (cost=0.00..600323.00 rows=407936 width=12) (actual time=0.012..1987.080 rows=407936 loops=1)\n",
      "         Join Filter: (r.b = s.b)\n",
      "         Rows Removed by Join Filter: 39592064\n",
      "         ->  Seq Scan on r  (cost=0.00..289.00 rows=20000 width=8) (actual time=0.004..7.961 rows=20000 loops=1)\n",
      "         ->  Materialize  (cost=0.00..39.00 rows=2000 width=8) (actual time=0.000..0.044 rows=2000 loops=20000)\n",
      "               ->  Seq Scan on s  (cost=0.00..29.00 rows=2000 width=8) (actual time=0.002..0.127 rows=2000 loops=1)\n",
      "   ->  Materialize  (cost=0.00..389.00 rows=20000 width=8) (actual time=0.000..0.448 rows=20000 loops=407936)\n",
      "         ->  Seq Scan on t  (cost=0.00..289.00 rows=20000 width=8) (actual time=0.003..0.616 rows=20000 loops=1)\n",
      " Planning Time: 0.245 ms\n",
      " Execution Time: 387728.274 ms\n",
      "(13 rows)\n",
      "\n",
      "\n"
     ]
    },
    {
     "ename": "KeyboardInterrupt",
     "evalue": "",
     "output_type": "error",
     "traceback": [
      "\u001b[0;31m---------------------------------------------------------------------------\u001b[0m",
      "\u001b[0;31mKeyboardInterrupt\u001b[0m                         Traceback (most recent call last)",
      "Cell \u001b[0;32mIn[57], line 2\u001b[0m\n\u001b[1;32m      1\u001b[0m print_plan(JoinMode\u001b[38;5;241m.\u001b[39mNESTLOOP)\n\u001b[0;32m----> 2\u001b[0m \u001b[43mprint_avg_exec\u001b[49m\u001b[43m(\u001b[49m\u001b[43mJoinMode\u001b[49m\u001b[38;5;241;43m.\u001b[39;49m\u001b[43mNESTLOOP\u001b[49m\u001b[43m,\u001b[49m\u001b[43m \u001b[49m\u001b[38;5;241;43m1\u001b[39;49m\u001b[43m)\u001b[49m\n",
      "Cell \u001b[0;32mIn[54], line 32\u001b[0m, in \u001b[0;36mprint_avg_exec\u001b[0;34m(mode, iters)\u001b[0m\n\u001b[1;32m     30\u001b[0m vals \u001b[38;5;241m=\u001b[39m []\n\u001b[1;32m     31\u001b[0m \u001b[38;5;28;01mfor\u001b[39;00m _ \u001b[38;5;129;01min\u001b[39;00m \u001b[38;5;28mrange\u001b[39m(iters):\n\u001b[0;32m---> 32\u001b[0m     time \u001b[38;5;241m=\u001b[39m \u001b[43mget_exec\u001b[49m\u001b[43m(\u001b[49m\u001b[43mmode\u001b[49m\u001b[43m)\u001b[49m\n\u001b[1;32m     33\u001b[0m     vals\u001b[38;5;241m.\u001b[39mappend(time)\n\u001b[1;32m     34\u001b[0m \u001b[38;5;28mprint\u001b[39m(\u001b[38;5;124mf\u001b[39m\u001b[38;5;124m\"\u001b[39m\u001b[38;5;124maverage execution time in \u001b[39m\u001b[38;5;132;01m{\u001b[39;00mmode\u001b[38;5;241m.\u001b[39mname\u001b[38;5;132;01m}\u001b[39;00m\u001b[38;5;124m-MODE: \u001b[39m\u001b[38;5;132;01m{\u001b[39;00m\u001b[38;5;28msum\u001b[39m(vals)\u001b[38;5;250m \u001b[39m\u001b[38;5;241m/\u001b[39m\u001b[38;5;250m \u001b[39miters\u001b[38;5;132;01m:\u001b[39;00m\u001b[38;5;124m.2f\u001b[39m\u001b[38;5;132;01m}\u001b[39;00m\u001b[38;5;124m ms (in \u001b[39m\u001b[38;5;132;01m{\u001b[39;00miters\u001b[38;5;132;01m}\u001b[39;00m\u001b[38;5;124m iterations)\u001b[39m\u001b[38;5;124m\"\u001b[39m)\n",
      "Cell \u001b[0;32mIn[54], line 19\u001b[0m, in \u001b[0;36mget_exec\u001b[0;34m(mode)\u001b[0m\n\u001b[1;32m     17\u001b[0m \u001b[38;5;28;01mdef\u001b[39;00m \u001b[38;5;21mget_exec\u001b[39m(mode:JoinMode) \u001b[38;5;241m-\u001b[39m\u001b[38;5;241m>\u001b[39m \u001b[38;5;28mfloat\u001b[39m:\n\u001b[1;32m     18\u001b[0m     full_query \u001b[38;5;241m=\u001b[39m \u001b[38;5;124mf\u001b[39m\u001b[38;5;124m\"\u001b[39m\u001b[38;5;132;01m{\u001b[39;00mmode\u001b[38;5;241m.\u001b[39mvalue\u001b[38;5;132;01m}\u001b[39;00m\u001b[38;5;124m explain (analyze, verbose, costs, settings, buffers, wal, timing, summary, format json) SELECT a,b,c FROM r NATURAL JOIN s NATURAL JOIN t;\u001b[39m\u001b[38;5;124m\"\u001b[39m\n\u001b[0;32m---> 19\u001b[0m     output \u001b[38;5;241m=\u001b[39m os\u001b[38;5;241m.\u001b[39mpopen(\u001b[38;5;124mf\u001b[39m\u001b[38;5;124m'\u001b[39m\u001b[38;5;124mpsql postgres -c \u001b[39m\u001b[38;5;124m\"\u001b[39m\u001b[38;5;132;01m{\u001b[39;00mfull_query\u001b[38;5;132;01m}\u001b[39;00m\u001b[38;5;124m\"\u001b[39m\u001b[38;5;124m'\u001b[39m)\u001b[38;5;241m.\u001b[39mread()\n\u001b[1;32m     20\u001b[0m     output \u001b[38;5;241m=\u001b[39m output\u001b[38;5;241m.\u001b[39msplitlines()[\u001b[38;5;241m5\u001b[39m:\u001b[38;5;241m-\u001b[39m\u001b[38;5;241m2\u001b[39m]\n\u001b[1;32m     21\u001b[0m     \u001b[38;5;28;01mfor\u001b[39;00m i \u001b[38;5;129;01min\u001b[39;00m \u001b[38;5;28mrange\u001b[39m(\u001b[38;5;28mlen\u001b[39m(output)):\n",
      "\u001b[0;31mKeyboardInterrupt\u001b[0m: "
     ]
    }
   ],
   "source": [
    "print_plan(JoinMode.NESTLOOP)\n",
    "print_avg_exec(JoinMode.NESTLOOP, 1)"
   ]
  },
  {
   "cell_type": "markdown",
   "metadata": {},
   "source": [
    "## default (hash join + merge join)"
   ]
  },
  {
   "cell_type": "code",
   "execution_count": 58,
   "metadata": {},
   "outputs": [
    {
     "name": "stdout",
     "output_type": "stream",
     "text": [
      "SET\n",
      "SET\n",
      "SET\n",
      "                                                           QUERY PLAN                                                           \n",
      "--------------------------------------------------------------------------------------------------------------------------------\n",
      " Merge Join  (cost=52002.65..88089.04 rows=1999411 width=12) (actual time=133.156..329.885 rows=1999499 loops=1)\n",
      "   Merge Cond: ((t.c = s.c) AND (t.a = r.a))\n",
      "   ->  Sort  (cost=1717.77..1767.77 rows=20000 width=8) (actual time=7.724..9.038 rows=10248 loops=1)\n",
      "         Sort Key: t.c, t.a\n",
      "         Sort Method: quicksort  Memory: 1394kB\n",
      "         ->  Seq Scan on t  (cost=0.00..289.00 rows=20000 width=8) (actual time=0.015..0.668 rows=20000 loops=1)\n",
      "   ->  Materialize  (cost=50284.88..52324.56 rows=407936 width=12) (actual time=125.425..206.156 rows=2201013 loops=1)\n",
      "         ->  Sort  (cost=50284.88..51304.72 rows=407936 width=12) (actual time=125.401..148.574 rows=407936 loops=1)\n",
      "               Sort Key: s.c, r.a\n",
      "               Sort Method: external merge  Disk: 8824kB\n",
      "               ->  Hash Join  (cost=54.00..5297.36 rows=407936 width=12) (actual time=0.726..20.357 rows=407936 loops=1)\n",
      "                     Hash Cond: (r.b = s.b)\n",
      "                     ->  Seq Scan on r  (cost=0.00..289.00 rows=20000 width=8) (actual time=0.024..0.925 rows=20000 loops=1)\n",
      "                     ->  Hash  (cost=29.00..29.00 rows=2000 width=8) (actual time=0.691..0.691 rows=2000 loops=1)\n",
      "                           Buckets: 2048  Batches: 1  Memory Usage: 95kB\n",
      "                           ->  Seq Scan on s  (cost=0.00..29.00 rows=2000 width=8) (actual time=0.005..0.188 rows=2000 loops=1)\n",
      " Planning Time: 0.719 ms\n",
      " Execution Time: 367.976 ms\n",
      "(18 rows)\n",
      "\n",
      "\n",
      "average execution time in DEFAULT-MODE: 357.69 ms (in 10 iterations)\n"
     ]
    }
   ],
   "source": [
    "print_plan(JoinMode.DEFAULT)\n",
    "print_avg_exec(JoinMode.DEFAULT)"
   ]
  },
  {
   "cell_type": "markdown",
   "metadata": {},
   "source": [
    "# 3) can we go faster by using indexes?\n",
    "\n",
    "we can create indexes on the join columns to speed up the query.\n",
    "\n",
    "- **hash join**\n",
    "    - old avg execution time: `232.71 ms`\n",
    "    - new avg execution time: `222.87 ms`\n",
    "- **merge join**\n",
    "    - old avg execution time: `369.47 ms`\n",
    "    - new avg execution time: `354.38 ms`\n",
    "- **nested loop join**\n",
    "    - old avg execution time: timed out (over 10 minutes)\n",
    "    - new avg execution time: `4611.20 ms`\n",
    "- **default** (hash join + merge join)\n",
    "    - old avg execution time: `357.69 ms`\n",
    "    - new avg execution time: `344.17 ms`\n",
    "    - change in query plan: none - stayed the same.\n"
   ]
  },
  {
   "cell_type": "code",
   "execution_count": 128,
   "metadata": {},
   "outputs": [
    {
     "name": "stdout",
     "output_type": "stream",
     "text": [
      "Did not find any relations.\n",
      "psql: error: connection to server on socket \"/tmp/.s.PGSQL.5432\" failed: FATAL:  database \"sueszli\" does not exist\n",
      "Did not find any relations.\n",
      "ERROR:  cannot drop the currently open database\n",
      "ERROR:  current user cannot be dropped\n",
      "CREATE INDEX\n",
      "CREATE INDEX\n",
      "CREATE INDEX\n"
     ]
    }
   ],
   "source": [
    "# reset the environment\n",
    "!chmod +x ./reset.sh && ./reset.sh > /dev/null\n",
    "\n",
    "# add index to r, s, t\n",
    "!psql postgres -c \"CREATE INDEX r_a ON r(a);\"\n",
    "!psql postgres -c \"CREATE INDEX s_b ON s(b);\"\n",
    "!psql postgres -c \"CREATE INDEX t_c ON t(c);\""
   ]
  },
  {
   "cell_type": "code",
   "execution_count": 78,
   "metadata": {},
   "outputs": [
    {
     "name": "stdout",
     "output_type": "stream",
     "text": [
      "average execution time in HASHJOIN-MODE: 222.87 ms (in 10 iterations)\n"
     ]
    }
   ],
   "source": [
    "print_avg_exec(JoinMode.HASHJOIN)"
   ]
  },
  {
   "cell_type": "code",
   "execution_count": 66,
   "metadata": {},
   "outputs": [
    {
     "name": "stdout",
     "output_type": "stream",
     "text": [
      "average execution time in MERGEJOIN-MODE: 354.38 ms (in 10 iterations)\n"
     ]
    }
   ],
   "source": [
    "print_avg_exec(JoinMode.MERGEJOIN)"
   ]
  },
  {
   "cell_type": "code",
   "execution_count": 68,
   "metadata": {},
   "outputs": [
    {
     "name": "stdout",
     "output_type": "stream",
     "text": [
      "average execution time in NESTLOOP-MODE: 4611.20 ms (in 10 iterations)\n"
     ]
    }
   ],
   "source": [
    "print_avg_exec(JoinMode.NESTLOOP)"
   ]
  },
  {
   "cell_type": "code",
   "execution_count": 70,
   "metadata": {},
   "outputs": [
    {
     "name": "stdout",
     "output_type": "stream",
     "text": [
      "SET\n",
      "SET\n",
      "SET\n",
      "                                                           QUERY PLAN                                                           \n",
      "--------------------------------------------------------------------------------------------------------------------------------\n",
      " Merge Join  (cost=52002.65..88089.04 rows=1999411 width=12) (actual time=125.600..316.176 rows=1999499 loops=1)\n",
      "   Merge Cond: ((t.c = s.c) AND (t.a = r.a))\n",
      "   ->  Sort  (cost=1717.77..1767.77 rows=20000 width=8) (actual time=9.337..10.376 rows=10248 loops=1)\n",
      "         Sort Key: t.c, t.a\n",
      "         Sort Method: quicksort  Memory: 1394kB\n",
      "         ->  Seq Scan on t  (cost=0.00..289.00 rows=20000 width=8) (actual time=0.007..1.711 rows=20000 loops=1)\n",
      "   ->  Materialize  (cost=50284.88..52324.56 rows=407936 width=12) (actual time=116.258..194.594 rows=2201013 loops=1)\n",
      "         ->  Sort  (cost=50284.88..51304.72 rows=407936 width=12) (actual time=116.255..138.487 rows=407936 loops=1)\n",
      "               Sort Key: s.c, r.a\n",
      "               Sort Method: external merge  Disk: 8824kB\n",
      "               ->  Hash Join  (cost=54.00..5297.36 rows=407936 width=12) (actual time=0.935..28.335 rows=407936 loops=1)\n",
      "                     Hash Cond: (r.b = s.b)\n",
      "                     ->  Seq Scan on r  (cost=0.00..289.00 rows=20000 width=8) (actual time=0.016..1.014 rows=20000 loops=1)\n",
      "                     ->  Hash  (cost=29.00..29.00 rows=2000 width=8) (actual time=0.896..0.897 rows=2000 loops=1)\n",
      "                           Buckets: 2048  Batches: 1  Memory Usage: 95kB\n",
      "                           ->  Seq Scan on s  (cost=0.00..29.00 rows=2000 width=8) (actual time=0.011..0.460 rows=2000 loops=1)\n",
      " Planning Time: 0.766 ms\n",
      " Execution Time: 351.574 ms\n",
      "(18 rows)\n",
      "\n",
      "\n",
      "average execution time in DEFAULT-MODE: 344.17 ms (in 10 iterations)\n"
     ]
    }
   ],
   "source": [
    "print_plan(JoinMode.DEFAULT)\n",
    "print_avg_exec(JoinMode.DEFAULT)"
   ]
  },
  {
   "cell_type": "markdown",
   "metadata": {},
   "source": [
    "# 4) can we go faster by also using a semi-join?\n",
    "\n",
    "with the given data schema using a semi-join is algebraically equivalent to a natural join but has the potential to be faster.\n",
    "\n",
    "keep in mind: $\\text{R}_1\\ltimes\\text{R}_2$ or $\\text{R}_1\\rtimes\\text{R}_2$ means $\\pi_{\\text{R}_1}$ or $\\pi_{\\text{R}_2} (\\text{R}_1\\bowtie\\text{R}_2)$\n",
    "\n",
    "for the sake of simplicity, we will just use the postgres stats instead of taking the average of multiple runs in this section:\n",
    "\n",
    "- $R \\bowtie S \\bowtie T$ (see above)\n",
    "\n",
    "    - execution time without index: `358.284 ms` → strategy: hash join + merge join\n",
    "        - first we generate a hash table for $s$ in memory\n",
    "        - then we sequantially read $r$ and $s$ and, filter by matching hash values\n",
    "        - we sort the result and materialize it (slow)\n",
    "        - then we sort $t$ and merge join with the result from the previous step (slow)\n",
    "    - execution time with index: `351.574 ms` → strategy: stayed the same\n",
    "\n",
    "- $(R \\bowtie S) \\ltimes T \\equiv \\pi_{(R \\bowtie S)} ((R \\bowtie S) \\bowtie T)$\n",
    "\n",
    "    - execution time without index: `120.725 ms` → strategy: hash join + hash join\n",
    "        - first we group $t$ by $t.a$ and $t.c$ through a hash aggregate which we turn into a hash table\n",
    "        - in the following steps we just hash-join $t$ with $s$ and then the result with $r$\n",
    "    - execution time with index: `119.577 ms` → strategy: hash join + merge join\n",
    "        - same order as before, but the optimizer choses to sort and merge join the result with $r$ in the last step\n",
    "\n",
    "- $(T \\bowtie S) \\ltimes R \\equiv \\pi_{(T \\bowtie S)} ((T \\bowtie S) \\bowtie R)$\n",
    "\n",
    "    - execution time without index: `108.822 ms` → strategy: hash join + hash join\n",
    "        - same as RS with index but $r$ and $s$ are joined first\n",
    "    - execution time with index: `111.315 ms` → strategy: stayed the same"
   ]
  },
  {
   "cell_type": "code",
   "execution_count": 163,
   "metadata": {},
   "outputs": [
    {
     "name": "stdout",
     "output_type": "stream",
     "text": [
      "Did not find any relations.\n",
      "psql: error: connection to server on socket \"/tmp/.s.PGSQL.5432\" failed: FATAL:  database \"sueszli\" does not exist\n",
      "ERROR:  cannot drop the currently open database\n",
      "ERROR:  current user cannot be dropped\n",
      "zsh:1: unmatched \"\n"
     ]
    }
   ],
   "source": [
    "!chmod +x ./reset.sh && ./reset.sh > /dev/null\n",
    "!psql postgres -c \"reset all;\"\""
   ]
  },
  {
   "cell_type": "code",
   "execution_count": 164,
   "metadata": {},
   "outputs": [
    {
     "name": "stdout",
     "output_type": "stream",
     "text": [
      "                                                                  QUERY PLAN                                                                   \n",
      "-----------------------------------------------------------------------------------------------------------------------------------------------\n",
      " Unique  (cost=3874.50..8650.30 rows=130754 width=12) (actual time=54.688..118.280 rows=20432 loops=1)\n",
      "   ->  Incremental Sort  (cost=3874.50..7669.64 rows=130754 width=12) (actual time=54.688..110.181 rows=207350 loops=1)\n",
      "         Sort Key: r.a, r.b, s.c\n",
      "         Presorted Key: r.a, r.b\n",
      "         Full-sort Groups: 1516  Sort Method: quicksort  Average Memory: 27kB  Peak Memory: 27kB\n",
      "         Pre-sorted Groups: 1405  Sort Method: quicksort  Average Memory: 28kB  Peak Memory: 28kB\n",
      "         ->  Merge Join  (cost=3874.47..4118.07 rows=130754 width=12) (actual time=54.655..82.085 rows=207350 loops=1)\n",
      "               Merge Cond: ((t.a = r.a) AND (s.b = r.b))\n",
      "               ->  Sort  (cost=1313.60..1318.12 rows=1808 width=12) (actual time=49.529..54.389 rows=102000 loops=1)\n",
      "                     Sort Key: t.a, s.b\n",
      "                     Sort Method: external merge  Disk: 2208kB\n",
      "                     ->  Hash Join  (cost=627.01..1215.78 rows=1808 width=12) (actual time=7.057..18.820 rows=102000 loops=1)\n",
      "                           Hash Cond: (s.c = t.c)\n",
      "                           ->  Seq Scan on s  (cost=0.00..52.16 rows=3616 width=8) (actual time=0.016..0.277 rows=2000 loops=1)\n",
      "                           ->  Hash  (cost=590.85..590.85 rows=2893 width=8) (actual time=7.026..7.027 rows=2091 loops=1)\n",
      "                                 Buckets: 4096  Batches: 1  Memory Usage: 114kB\n",
      "                                 ->  HashAggregate  (cost=561.92..590.85 rows=2893 width=8) (actual time=6.515..6.771 rows=2091 loops=1)\n",
      "                                       Group Key: t.a, t.c\n",
      "                                       Batches: 1  Memory Usage: 241kB\n",
      "                                       ->  Seq Scan on t  (cost=0.00..417.28 rows=28928 width=8) (actual time=0.011..2.255 rows=20000 loops=1)\n",
      "               ->  Sort  (cost=2560.87..2633.19 rows=28928 width=8) (actual time=5.123..10.355 rows=207351 loops=1)\n",
      "                     Sort Key: r.a, r.b\n",
      "                     Sort Method: quicksort  Memory: 1394kB\n",
      "                     ->  Seq Scan on r  (cost=0.00..417.28 rows=28928 width=8) (actual time=0.015..1.169 rows=20000 loops=1)\n",
      " Planning Time: 0.384 ms\n",
      " Execution Time: 120.725 ms\n",
      "(26 rows)\n",
      "\n"
     ]
    }
   ],
   "source": [
    "# RS semi join\n",
    "!psql postgres -c \"explain analyze SELECT DISTINCT r.a, r.b, s.c FROM r JOIN s ON r.b = s.b WHERE EXISTS (SELECT 1 FROM t WHERE t.a = r.a AND t.c = s.c);\"\n",
    "\n",
    "import os\n",
    "q1 = os.popen(\"psql postgres -c 'SELECT DISTINCT r.a, r.b, s.c FROM r JOIN s ON r.b = s.b WHERE EXISTS (SELECT 1 FROM t WHERE t.a = r.a AND t.c = s.c);'\").read()\n",
    "q2 = os.popen(\"psql postgres -c 'SELECT DISTINCT a, b, c FROM r NATURAL JOIN s NATURAL JOIN t;'\").read()\n",
    "assert len(q1) == len(q2)"
   ]
  },
  {
   "cell_type": "code",
   "execution_count": 165,
   "metadata": {},
   "outputs": [
    {
     "name": "stdout",
     "output_type": "stream",
     "text": [
      "                                                                  QUERY PLAN                                                                   \n",
      "-----------------------------------------------------------------------------------------------------------------------------------------------\n",
      " Unique  (cost=3906.26..12851.62 rows=130754 width=12) (actual time=37.092..118.951 rows=20432 loops=1)\n",
      "   ->  Incremental Sort  (cost=3906.26..11870.97 rows=130754 width=12) (actual time=37.091..107.510 rows=308658 loops=1)\n",
      "         Sort Key: t.a, s.b, t.c\n",
      "         Presorted Key: t.a\n",
      "         Full-sort Groups: 51  Sort Method: quicksort  Average Memory: 27kB  Peak Memory: 27kB\n",
      "         Pre-sorted Groups: 51  Sort Method: quicksort  Average Memory: 453kB  Peak Memory: 469kB\n",
      "         ->  Merge Join  (cost=3874.47..4118.07 rows=130754 width=12) (actual time=36.354..66.012 rows=308658 loops=1)\n",
      "               Merge Cond: ((r.a = t.a) AND (s.c = t.c))\n",
      "               ->  Sort  (cost=1313.60..1318.12 rows=1808 width=12) (actual time=31.348..32.310 rows=32130 loops=1)\n",
      "                     Sort Key: r.a, s.c\n",
      "                     Sort Method: quicksort  Memory: 4020kB\n",
      "                     ->  Hash Join  (cost=627.01..1215.78 rows=1808 width=12) (actual time=7.913..15.889 rows=63568 loops=1)\n",
      "                           Hash Cond: (s.b = r.b)\n",
      "                           ->  Seq Scan on s  (cost=0.00..52.16 rows=3616 width=8) (actual time=0.016..0.227 rows=2000 loops=1)\n",
      "                           ->  Hash  (cost=590.85..590.85 rows=2893 width=8) (actual time=7.878..7.879 rows=3116 loops=1)\n",
      "                                 Buckets: 4096  Batches: 1  Memory Usage: 154kB\n",
      "                                 ->  HashAggregate  (cost=561.92..590.85 rows=2893 width=8) (actual time=6.368..7.097 rows=3116 loops=1)\n",
      "                                       Group Key: r.a, r.b\n",
      "                                       Batches: 1  Memory Usage: 241kB\n",
      "                                       ->  Seq Scan on r  (cost=0.00..417.28 rows=28928 width=8) (actual time=0.007..1.899 rows=20000 loops=1)\n",
      "               ->  Sort  (cost=2560.87..2633.19 rows=28928 width=8) (actual time=5.002..12.432 rows=318489 loops=1)\n",
      "                     Sort Key: t.a, t.c\n",
      "                     Sort Method: quicksort  Memory: 1394kB\n",
      "                     ->  Seq Scan on t  (cost=0.00..417.28 rows=28928 width=8) (actual time=0.016..1.403 rows=20000 loops=1)\n",
      " Planning Time: 0.419 ms\n",
      " Execution Time: 119.577 ms\n",
      "(26 rows)\n",
      "\n"
     ]
    }
   ],
   "source": [
    "# TS semi join\n",
    "!psql postgres -c \"explain analyze SELECT DISTINCT t.a, s.b, t.c FROM t JOIN s ON t.c = s.c WHERE EXISTS (SELECT 1 FROM r WHERE r.a = t.a AND r.b = s.b);\"\n",
    "\n",
    "import os\n",
    "q1 = os.popen(\"psql postgres -c 'SELECT DISTINCT t.a, s.b, t.c FROM t JOIN s ON t.c = s.c WHERE EXISTS (SELECT 1 FROM r WHERE r.a = t.a AND r.b = s.b);'\").read()\n",
    "q2 = os.popen(\"psql postgres -c 'SELECT DISTINCT a, b, c FROM r NATURAL JOIN s NATURAL JOIN t;'\").read()\n",
    "assert len(q1) == len(q2)"
   ]
  },
  {
   "cell_type": "code",
   "execution_count": 166,
   "metadata": {},
   "outputs": [
    {
     "name": "stdout",
     "output_type": "stream",
     "text": [
      "CREATE INDEX\n",
      "CREATE INDEX\n",
      "CREATE INDEX\n"
     ]
    }
   ],
   "source": [
    "# add index\n",
    "!psql postgres -c \"CREATE INDEX r_a ON r(a);\"\n",
    "!psql postgres -c \"CREATE INDEX s_b ON s(b);\"\n",
    "!psql postgres -c \"CREATE INDEX t_c ON t(c);\""
   ]
  },
  {
   "cell_type": "code",
   "execution_count": 167,
   "metadata": {},
   "outputs": [
    {
     "name": "stdout",
     "output_type": "stream",
     "text": [
      "                                                               QUERY PLAN                                                                \n",
      "-----------------------------------------------------------------------------------------------------------------------------------------\n",
      " HashAggregate  (cost=3060.60..3560.60 rows=50000 width=12) (actual time=106.059..107.214 rows=20432 loops=1)\n",
      "   Group Key: r.a, r.b, s.c\n",
      "   Batches: 1  Memory Usage: 2577kB\n",
      "   ->  Merge Join  (cost=2523.10..2685.60 rows=50000 width=12) (actual time=58.058..86.504 rows=207350 loops=1)\n",
      "         Merge Cond: ((t.a = r.a) AND (s.b = r.b))\n",
      "         ->  Sort  (cost=766.33..768.83 rows=1000 width=12) (actual time=52.254..57.460 rows=102000 loops=1)\n",
      "               Sort Key: t.a, s.b\n",
      "               Sort Method: external merge  Disk: 2208kB\n",
      "               ->  Hash Join  (cost=473.00..716.50 rows=1000 width=12) (actual time=6.532..18.692 rows=102000 loops=1)\n",
      "                     Hash Cond: (s.c = t.c)\n",
      "                     ->  Seq Scan on s  (cost=0.00..36.00 rows=2000 width=8) (actual time=0.013..0.296 rows=2000 loops=1)\n",
      "                     ->  Hash  (cost=448.00..448.00 rows=2000 width=8) (actual time=6.504..6.505 rows=2091 loops=1)\n",
      "                           Buckets: 4096 (originally 2048)  Batches: 1 (originally 1)  Memory Usage: 114kB\n",
      "                           ->  HashAggregate  (cost=428.00..448.00 rows=2000 width=8) (actual time=5.941..6.217 rows=2091 loops=1)\n",
      "                                 Group Key: t.a, t.c\n",
      "                                 Batches: 1  Memory Usage: 241kB\n",
      "                                 ->  Seq Scan on t  (cost=0.00..328.00 rows=20000 width=8) (actual time=0.008..1.839 rows=20000 loops=1)\n",
      "         ->  Sort  (cost=1756.77..1806.77 rows=20000 width=8) (actual time=5.796..10.804 rows=207351 loops=1)\n",
      "               Sort Key: r.a, r.b\n",
      "               Sort Method: quicksort  Memory: 1394kB\n",
      "               ->  Seq Scan on r  (cost=0.00..328.00 rows=20000 width=8) (actual time=0.028..1.220 rows=20000 loops=1)\n",
      " Planning Time: 0.657 ms\n",
      " Execution Time: 108.822 ms\n",
      "(23 rows)\n",
      "\n"
     ]
    }
   ],
   "source": [
    "# RS semi join (with index)\n",
    "!psql postgres -c \"explain analyze SELECT DISTINCT r.a, r.b, s.c FROM r JOIN s ON r.b = s.b WHERE EXISTS (SELECT 1 FROM t WHERE t.a = r.a AND t.c = s.c);\""
   ]
  },
  {
   "cell_type": "code",
   "execution_count": 168,
   "metadata": {},
   "outputs": [
    {
     "name": "stdout",
     "output_type": "stream",
     "text": [
      "                                                               QUERY PLAN                                                                \n",
      "-----------------------------------------------------------------------------------------------------------------------------------------\n",
      " HashAggregate  (cost=3060.60..3560.60 rows=50000 width=12) (actual time=109.195..110.473 rows=20432 loops=1)\n",
      "   Group Key: t.a, s.b, t.c\n",
      "   Batches: 1  Memory Usage: 2577kB\n",
      "   ->  Merge Join  (cost=2523.10..2685.60 rows=50000 width=12) (actual time=41.692..77.796 rows=308658 loops=1)\n",
      "         Merge Cond: ((r.a = t.a) AND (s.c = t.c))\n",
      "         ->  Sort  (cost=766.33..768.83 rows=1000 width=12) (actual time=37.198..39.891 rows=32130 loops=1)\n",
      "               Sort Key: r.a, s.c\n",
      "               Sort Method: quicksort  Memory: 4020kB\n",
      "               ->  Hash Join  (cost=473.00..716.50 rows=1000 width=12) (actual time=7.628..17.852 rows=63568 loops=1)\n",
      "                     Hash Cond: (s.b = r.b)\n",
      "                     ->  Seq Scan on s  (cost=0.00..36.00 rows=2000 width=8) (actual time=0.015..0.303 rows=2000 loops=1)\n",
      "                     ->  Hash  (cost=448.00..448.00 rows=2000 width=8) (actual time=7.596..7.597 rows=3116 loops=1)\n",
      "                           Buckets: 4096 (originally 2048)  Batches: 1 (originally 1)  Memory Usage: 154kB\n",
      "                           ->  HashAggregate  (cost=428.00..448.00 rows=2000 width=8) (actual time=6.815..7.193 rows=3116 loops=1)\n",
      "                                 Group Key: r.a, r.b\n",
      "                                 Batches: 1  Memory Usage: 241kB\n",
      "                                 ->  Seq Scan on r  (cost=0.00..328.00 rows=20000 width=8) (actual time=0.008..1.982 rows=20000 loops=1)\n",
      "         ->  Sort  (cost=1756.77..1806.77 rows=20000 width=8) (actual time=4.484..13.111 rows=318489 loops=1)\n",
      "               Sort Key: t.a, t.c\n",
      "               Sort Method: quicksort  Memory: 1394kB\n",
      "               ->  Seq Scan on t  (cost=0.00..328.00 rows=20000 width=8) (actual time=0.036..0.937 rows=20000 loops=1)\n",
      " Planning Time: 0.593 ms\n",
      " Execution Time: 111.315 ms\n",
      "(23 rows)\n",
      "\n"
     ]
    }
   ],
   "source": [
    "# TS semi join (with index)\n",
    "!psql postgres -c \"explain analyze SELECT DISTINCT t.a, s.b, t.c FROM t JOIN s ON t.c = s.c WHERE EXISTS (SELECT 1 FROM r WHERE r.a = t.a AND r.b = s.b);\""
   ]
  },
  {
   "cell_type": "markdown",
   "metadata": {},
   "source": [
    "## can we force $(R \\bowtie S) \\ltimes T$ to use a \"hash semi join\"?\n",
    "\n",
    "we can force it by setting:\n",
    "\n",
    "- `enable_hashjoin` to `1`: to enable hash join\n",
    "- `cpu_tuple_cost` to `0`: ...\n",
    "- `cpu_operator_cost` to `0`: ...\n",
    "\n",
    "here are the results:\n",
    "\n",
    "- $(R \\bowtie S) \\ltimes T$\n",
    "\n",
    "    - execution time without index: `65.001 ms` → strategy: hash join + hash join\n",
    "        - first we group $t$ by $t.a$ and $t.c$ through a hash aggregate which we turn into a hash table\n",
    "        - in the following steps we just hash-join $t$ with $s$ and then the result with $r$\n",
    "    - execution time with index: `110.995 ms` → strategy: hash join + merge join\n",
    "        - same order as before, but the optimizer choses to sort and merge join the result with $r$ in the last step\n",
    "\n",
    "- $(R \\bowtie S) \\ltimes T$ (using hash semijoin)\n",
    "\n",
    "    - execution time without index: `108.930 ms` → strategy: hash join + hash semi join\n",
    "        - ...\n",
    "    - execution time with index: `89.381 ms` → strategy: hash join + hash semi join\n",
    "        - same as above ..."
   ]
  },
  {
   "cell_type": "code",
   "execution_count": 169,
   "metadata": {},
   "outputs": [
    {
     "name": "stdout",
     "output_type": "stream",
     "text": [
      "Did not find any relations.\n",
      "psql: error: connection to server on socket \"/tmp/.s.PGSQL.5432\" failed: FATAL:  database \"sueszli\" does not exist\n",
      "ERROR:  cannot drop the currently open database\n",
      "ERROR:  current user cannot be dropped\n",
      "zsh:1: unmatched \"\n"
     ]
    }
   ],
   "source": [
    "!chmod +x ./reset.sh && ./reset.sh > /dev/null\n",
    "!psql postgres -c \"reset all;\"\""
   ]
  },
  {
   "cell_type": "code",
   "execution_count": 217,
   "metadata": {},
   "outputs": [
    {
     "name": "stdout",
     "output_type": "stream",
     "text": [
      "SET\n",
      "SET\n",
      "SET\n",
      "SET\n",
      "SET\n",
      "                                     QUERY PLAN                                     \n",
      "------------------------------------------------------------------------------------\n",
      " HashAggregate (actual time=106.908..108.152 rows=20833 loops=1)\n",
      "   Group Key: r.a, r.b, s.c\n",
      "   Batches: 1  Memory Usage: 2577kB\n",
      "   ->  Hash Semi Join (actual time=9.271..77.846 rows=210785 loops=1)\n",
      "         Hash Cond: ((r.a = t.a) AND (s.c = t.c))\n",
      "         ->  Hash Join (actual time=0.500..32.476 rows=415072 loops=1)\n",
      "               Hash Cond: (r.b = s.b)\n",
      "               ->  Seq Scan on r (actual time=0.008..1.048 rows=20000 loops=1)\n",
      "               ->  Hash (actual time=0.484..0.484 rows=2000 loops=1)\n",
      "                     Buckets: 2048  Batches: 1  Memory Usage: 95kB\n",
      "                     ->  Seq Scan on s (actual time=0.009..0.247 rows=2000 loops=1)\n",
      "         ->  Hash (actual time=8.697..8.697 rows=20000 loops=1)\n",
      "               Buckets: 32768  Batches: 1  Memory Usage: 1038kB\n",
      "               ->  Seq Scan on t (actual time=0.006..3.207 rows=20000 loops=1)\n",
      " Planning Time: 0.427 ms\n",
      " Execution Time: 108.930 ms\n",
      "(16 rows)\n",
      "\n"
     ]
    }
   ],
   "source": [
    "config1 = \"set enable_hashjoin=1; set enable_mergejoin=0; set enable_nestloop=0;\"\n",
    "config2 = \"set cpu_tuple_cost = 0; set cpu_operator_cost = 0;\"\n",
    "full_query = f\"{config1} {config2} explain (analyze, costs false) SELECT DISTINCT r.a, r.b, s.c FROM r JOIN s ON r.b = s.b WHERE EXISTS (SELECT 1 FROM t WHERE t.a = r.a AND t.c = s.c);\"\n",
    "!psql postgres -c \"{full_query}\"\n"
   ]
  },
  {
   "cell_type": "code",
   "execution_count": 218,
   "metadata": {},
   "outputs": [
    {
     "name": "stdout",
     "output_type": "stream",
     "text": [
      "CREATE INDEX\n",
      "CREATE INDEX\n",
      "CREATE INDEX\n"
     ]
    }
   ],
   "source": [
    "# add index\n",
    "!psql postgres -c \"CREATE INDEX r_a ON r(a);\"\n",
    "!psql postgres -c \"CREATE INDEX s_b ON s(b);\"\n",
    "!psql postgres -c \"CREATE INDEX t_c ON t(c);\""
   ]
  },
  {
   "cell_type": "code",
   "execution_count": 219,
   "metadata": {},
   "outputs": [
    {
     "name": "stdout",
     "output_type": "stream",
     "text": [
      "SET\n",
      "SET\n",
      "SET\n",
      "SET\n",
      "SET\n",
      "                                     QUERY PLAN                                     \n",
      "------------------------------------------------------------------------------------\n",
      " HashAggregate (actual time=87.248..88.588 rows=20833 loops=1)\n",
      "   Group Key: r.a, r.b, s.c\n",
      "   Batches: 1  Memory Usage: 2577kB\n",
      "   ->  Hash Semi Join (actual time=5.183..61.647 rows=210785 loops=1)\n",
      "         Hash Cond: ((r.a = t.a) AND (s.c = t.c))\n",
      "         ->  Hash Join (actual time=0.600..26.250 rows=415072 loops=1)\n",
      "               Hash Cond: (r.b = s.b)\n",
      "               ->  Seq Scan on r (actual time=0.011..0.941 rows=20000 loops=1)\n",
      "               ->  Hash (actual time=0.569..0.569 rows=2000 loops=1)\n",
      "                     Buckets: 2048  Batches: 1  Memory Usage: 95kB\n",
      "                     ->  Seq Scan on s (actual time=0.010..0.258 rows=2000 loops=1)\n",
      "         ->  Hash (actual time=4.509..4.509 rows=20000 loops=1)\n",
      "               Buckets: 32768  Batches: 1  Memory Usage: 1038kB\n",
      "               ->  Seq Scan on t (actual time=0.010..1.618 rows=20000 loops=1)\n",
      " Planning Time: 0.951 ms\n",
      " Execution Time: 89.381 ms\n",
      "(16 rows)\n",
      "\n"
     ]
    }
   ],
   "source": [
    "config1 = \"set enable_hashjoin=1; set enable_mergejoin=0; set enable_nestloop=0;\"\n",
    "config2 = \"set cpu_tuple_cost = 0; set cpu_operator_cost = 0;\"\n",
    "full_query = f\"{config1} {config2} explain (analyze, costs false) SELECT DISTINCT r.a, r.b, s.c FROM r JOIN s ON r.b = s.b WHERE EXISTS (SELECT 1 FROM t WHERE t.a = r.a AND t.c = s.c);\"\n",
    "!psql postgres -c \"{full_query}\"\n"
   ]
  },
  {
   "cell_type": "code",
   "execution_count": null,
   "metadata": {},
   "outputs": [],
   "source": []
  }
 ],
 "metadata": {
  "kernelspec": {
   "display_name": "Python 3",
   "language": "python",
   "name": "python3"
  },
  "language_info": {
   "codemirror_mode": {
    "name": "ipython",
    "version": 3
   },
   "file_extension": ".py",
   "mimetype": "text/x-python",
   "name": "python",
   "nbconvert_exporter": "python",
   "pygments_lexer": "ipython3",
   "version": "3.11.8"
  }
 },
 "nbformat": 4,
 "nbformat_minor": 2
}
