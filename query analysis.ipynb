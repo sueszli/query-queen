{
 "cells": [
  {
   "cell_type": "markdown",
   "metadata": {},
   "source": [
    "# query execution plans\n",
    "\n",
    "whenever we write a sql query, the database system first parses our code to generate a query tree.\n",
    "\n",
    "then the optimizer modifies the query tree either based on relational algebra or cost-based optimization to generate an execution plan.\n",
    "\n",
    "the execution plan is a sequence of operations that the database system will perform to execute the query.\n",
    "\n",
    "the operations are things like \"scan this table\", \"filter out rows that don't satisfy this condition\", \"join these two tables\", and so on.\n",
    "\n",
    "using the `explain` command, we can see the execution plan that the system came up with for our query."
   ]
  },
  {
   "cell_type": "code",
   "execution_count": 41,
   "metadata": {},
   "outputs": [
    {
     "name": "stdout",
     "output_type": "stream",
     "text": [
      "Command:     EXPLAIN\n",
      "Description: show the execution plan of a statement\n",
      "Syntax:\n",
      "EXPLAIN [ ( option [, ...] ) ] statement\n",
      "EXPLAIN [ ANALYZE ] [ VERBOSE ] statement\n",
      "\n",
      "where option can be one of:\n",
      "\n",
      "    ANALYZE [ boolean ]\n",
      "    VERBOSE [ boolean ]\n",
      "    COSTS [ boolean ]\n",
      "    SETTINGS [ boolean ]\n",
      "    GENERIC_PLAN [ boolean ]\n",
      "    BUFFERS [ boolean ]\n",
      "    WAL [ boolean ]\n",
      "    TIMING [ boolean ]\n",
      "    SUMMARY [ boolean ]\n",
      "    FORMAT { TEXT | XML | JSON | YAML }\n",
      "\n",
      "URL: https://www.postgresql.org/docs/16/sql-explain.html\n",
      "\n"
     ]
    }
   ],
   "source": [
    "!psql postgres -c \"\\h explain\""
   ]
  },
  {
   "cell_type": "markdown",
   "metadata": {},
   "source": [
    "since the execution plan is a tree, you have to read it from the leaf nodes to the root node.\n",
    "\n",
    "each child node provides the input to the parent node.\n",
    "\n",
    "the root node is the final result of the query that aggregates all the intermediate results (and costs).\n",
    "\n",
    "learn more through the following resources:\n",
    "\n",
    "_docs_\n",
    "\n",
    "- https://www.postgresql.org/docs/current/sql-explain.html\n",
    "- https://www.postgresql.org/docs/9.5/using-explain.html\n",
    "- overview: https://www.postgresql.org/docs/current/index.html\n",
    "- performance tips: https://www.postgresql.org/docs/current/performance-tips.html\n",
    "- glossary: https://www.pgmustard.com/docs/explain\n",
    "\n",
    "_visualization tools_\n",
    "\n",
    "- https://explain.dalibo.com/\n",
    "     - source: https://github.com/dalibo/pev2\n",
    "- https://www.pgexplain.dev/ (pev2 but with a backend)\n",
    "     - source: https://github.com/lfborjas/postgres-explain-visualizer\n",
    "- https://tatiyants.com/pev/\n",
    "     - source: https://github.com/AlexTatiyants/pev/\n",
    "- https://explain.depesz.com/\n",
    "- https://explain-postgresql.com/ (not so good)"
   ]
  },
  {
   "cell_type": "markdown",
   "metadata": {},
   "source": [
    "# 1) what is the default triangle-join plan?\n",
    "\n",
    "what is the most common execution plan for the following query: $r \\bowtie s \\bowtie t$?"
   ]
  },
  {
   "cell_type": "code",
   "execution_count": 114,
   "metadata": {},
   "outputs": [
    {
     "name": "stdout",
     "output_type": "stream",
     "text": [
      "./reset.sh: line 10: return: can only `return' from a function or sourced script\n",
      "Did not find any relations.\n",
      "ERROR:  cannot drop the currently open database\n",
      "ERROR:  current user cannot be dropped\n"
     ]
    }
   ],
   "source": [
    "# reset the environment\n",
    "!chmod +x ./reset.sh && ./reset.sh >> /dev/null"
   ]
  },
  {
   "cell_type": "code",
   "execution_count": 43,
   "metadata": {},
   "outputs": [
    {
     "name": "stdout",
     "output_type": "stream",
     "text": [
      "                                      List of relations\n",
      " Schema |    Name     | Type  |  Owner  | Persistence | Access method |  Size   | Description \n",
      "--------+-------------+-------+---------+-------------+---------------+---------+-------------\n",
      " public | badges      | table | sueszli | permanent   | heap          | 2144 kB | \n",
      " public | comments    | table | sueszli | permanent   | heap          | 8288 kB | \n",
      " public | posthistory | table | sueszli | permanent   | heap          | 31 MB   | \n",
      " public | postlinks   | table | sueszli | permanent   | heap          | 152 kB  | \n",
      " public | posts       | table | sueszli | permanent   | heap          | 15 MB   | \n",
      " public | r           | table | sueszli | permanent   | heap          | 1024 kB | \n",
      " public | s           | table | sueszli | permanent   | heap          | 128 kB  | \n",
      " public | t           | table | sueszli | permanent   | heap          | 1024 kB | \n",
      " public | tags        | table | sueszli | permanent   | heap          | 56 kB   | \n",
      " public | users       | table | sueszli | permanent   | heap          | 4248 kB | \n",
      " public | votes       | table | sueszli | permanent   | heap          | 4504 kB | \n",
      "(11 rows)\n",
      "\n"
     ]
    }
   ],
   "source": [
    "# print all tables\n",
    "!psql postgres -c \"\\dt+\""
   ]
  },
  {
   "cell_type": "code",
   "execution_count": 44,
   "metadata": {},
   "outputs": [
    {
     "name": "stdout",
     "output_type": "stream",
     "text": [
      "                 Table \"public.r\"\n",
      " Column |  Type   | Collation | Nullable | Default \n",
      "--------+---------+-----------+----------+---------\n",
      " a      | integer |           |          | \n",
      " b      | integer |           |          | \n",
      "\n",
      "                 Table \"public.s\"\n",
      " Column |  Type   | Collation | Nullable | Default \n",
      "--------+---------+-----------+----------+---------\n",
      " b      | integer |           |          | \n",
      " c      | integer |           |          | \n",
      "\n",
      "                 Table \"public.t\"\n",
      " Column |  Type   | Collation | Nullable | Default \n",
      "--------+---------+-----------+----------+---------\n",
      " a      | integer |           |          | \n",
      " c      | integer |           |          | \n",
      "\n"
     ]
    }
   ],
   "source": [
    "# print schema of r, s, t tables\n",
    "!psql postgres -c \"\\d r\"\n",
    "!psql postgres -c \"\\d s\"\n",
    "!psql postgres -c \"\\d t\""
   ]
  },
  {
   "cell_type": "code",
   "execution_count": 101,
   "metadata": {},
   "outputs": [
    {
     "name": "stdout",
     "output_type": "stream",
     "text": [
      "                                                           QUERY PLAN                                                           \n",
      "--------------------------------------------------------------------------------------------------------------------------------\n",
      " Merge Join  (cost=52724.37..89027.34 rows=2010918 width=12) (actual time=127.162..322.327 rows=2008672 loops=1)\n",
      "   Merge Cond: ((t.c = s.c) AND (t.a = r.a))\n",
      "   ->  Sort  (cost=1717.77..1767.77 rows=20000 width=8) (actual time=7.572..8.591 rows=10264 loops=1)\n",
      "         Sort Key: t.c, t.a\n",
      "         Sort Method: quicksort  Memory: 1394kB\n",
      "         ->  Seq Scan on t  (cost=0.00..289.00 rows=20000 width=8) (actual time=0.009..1.607 rows=20000 loops=1)\n",
      "   ->  Materialize  (cost=51006.60..53076.46 rows=413972 width=12) (actual time=119.581..199.888 rows=2216058 loops=1)\n",
      "         ->  Sort  (cost=51006.60..52041.53 rows=413972 width=12) (actual time=119.578..142.644 rows=413972 loops=1)\n",
      "               Sort Key: s.c, r.a\n",
      "               Sort Method: external merge  Disk: 8960kB\n",
      "               ->  Hash Join  (cost=54.00..5307.72 rows=413972 width=12) (actual time=0.525..26.869 rows=413972 loops=1)\n",
      "                     Hash Cond: (r.b = s.b)\n",
      "                     ->  Seq Scan on r  (cost=0.00..289.00 rows=20000 width=8) (actual time=0.015..0.970 rows=20000 loops=1)\n",
      "                     ->  Hash  (cost=29.00..29.00 rows=2000 width=8) (actual time=0.492..0.492 rows=2000 loops=1)\n",
      "                           Buckets: 2048  Batches: 1  Memory Usage: 95kB\n",
      "                           ->  Seq Scan on s  (cost=0.00..29.00 rows=2000 width=8) (actual time=0.012..0.254 rows=2000 loops=1)\n",
      " Planning Time: 0.532 ms\n",
      " Execution Time: 358.284 ms\n",
      "(18 rows)\n",
      "\n"
     ]
    }
   ],
   "source": [
    "!psql postgres -c \"explain analyze SELECT a,b,c FROM r NATURAL JOIN s NATURAL JOIN t;\""
   ]
  },
  {
   "cell_type": "code",
   "execution_count": 103,
   "metadata": {},
   "outputs": [
    {
     "name": "stdout",
     "output_type": "stream",
     "text": [
      "                 QUERY PLAN                  \n",
      "---------------------------------------------\n",
      " Merge Join\n",
      "   Merge Cond: ((t.c = s.c) AND (t.a = r.a))\n",
      "   ->  Sort\n",
      "         Sort Key: t.c, t.a\n",
      "         ->  Seq Scan on t\n",
      "   ->  Materialize\n",
      "         ->  Sort\n",
      "               Sort Key: s.c, r.a\n",
      "               ->  Hash Join\n",
      "                     Hash Cond: (r.b = s.b)\n",
      "                     ->  Seq Scan on r\n",
      "                     ->  Hash\n",
      "                           ->  Seq Scan on s\n",
      "(13 rows)\n",
      "\n"
     ]
    }
   ],
   "source": [
    "!psql postgres -c \"explain (costs off) SELECT a,b,c FROM r NATURAL JOIN s NATURAL JOIN t;\""
   ]
  },
  {
   "cell_type": "markdown",
   "metadata": {},
   "source": [
    "the default join strategy for $r \\bowtie s \\bowtie t$:\n",
    "\n",
    "1. hash join $r \\bowtie s$ (using $s$ to build the hash table)\n",
    "    \n",
    "    then sort the result and materialize it (turn it into a table so it doesn't have to be recomputed).\n",
    "\n",
    "2. sort $t$ and merge join with the result from step 1.\n",
    "\n",
    "\n",
    "<br>\n",
    "\n",
    "_what is a hash join?_\n",
    "\n",
    "assume we want to equi join: $R \\bowtie_{\\text{A}=\\text{B}} S$\n",
    "\n",
    "- 1) partition phase:\n",
    "\t- find a hash function that can map values in the join columns to a buffer frame index between $[1;B\\text{-}1]$. → the buffer frames we map the rows to are called \"buckets\" and the 1 remaining buffer frame is used to read new pages in.\n",
    "\t- read each page $p_R$ of $R$ to memory. then hash the join value of each row to find the right bucket to store a pointer in. → if buffer frames overflow, write them back to disk.\n",
    "\t- repeat for $p_S$ of $S$.\n",
    "\t- total cost: $2 \\cdot (b_R  + b_S)$ → factor of 2 because of initial reading and writing back the potentially full buckets to disk.\n",
    "- 2) probing phase:\n",
    "\t- assuming $R_i$ and $S_i$ are all rows in the $i$ th-bucket (and $R_i$ is the smaller one of them): read $R_i$ to $B\\text-2$ buffer frames. → if not possible, either hash recursively or try another algorithm. the 2 remaining buffer frames are used to read new $S_i$ pages in and store the final result.\n",
    "\t- read each page of $S_i$ into memory. then check each row for matches with $R_i$.\n",
    "\t- if a matching row is found, write it into the buffer frame dedicated to results.\n",
    "\t- total cost: $b_i  + b_s$\n",
    "- **total cost of both phases**: $3 \\cdot (b_R  + b_S)$"
   ]
  },
  {
   "cell_type": "markdown",
   "metadata": {},
   "source": [
    "# 2) which join strategy is fastest?\n",
    "\n",
    "next we want to force the optimizer to use exclusively one join strategy and compare the results of the different strategies (+ the result of the default strategy).\n"
   ]
  },
  {
   "cell_type": "code",
   "execution_count": 153,
   "metadata": {},
   "outputs": [
    {
     "name": "stdout",
     "output_type": "stream",
     "text": [
      "Darwin Yahyas-MBP 23.2.0 Darwin Kernel Version 23.2.0: Wed Nov 15 21:55:06 PST 2023; root:xnu-10002.61.3~2/RELEASE_ARM64_T6020 arm64\n"
     ]
    }
   ],
   "source": [
    "!uname -a"
   ]
  },
  {
   "cell_type": "code",
   "execution_count": 162,
   "metadata": {},
   "outputs": [
    {
     "name": "stdout",
     "output_type": "stream",
     "text": [
      "SET\n",
      "SET\n",
      "SET\n",
      "                                                           QUERY PLAN                                                           \n",
      "--------------------------------------------------------------------------------------------------------------------------------\n",
      " Merge Join  (cost=52002.65..88089.04 rows=1999411 width=12) (actual time=102.830..298.007 rows=1999499 loops=1)\n",
      "   Merge Cond: ((t.c = s.c) AND (t.a = r.a))\n",
      "   ->  Sort  (cost=1717.77..1767.77 rows=20000 width=8) (actual time=3.504..4.470 rows=10248 loops=1)\n",
      "         Sort Key: t.c, t.a\n",
      "         Sort Method: quicksort  Memory: 1394kB\n",
      "         ->  Seq Scan on t  (cost=0.00..289.00 rows=20000 width=8) (actual time=0.005..0.605 rows=20000 loops=1)\n",
      "   ->  Materialize  (cost=50284.88..52324.56 rows=407936 width=12) (actual time=99.322..179.496 rows=2201013 loops=1)\n",
      "         ->  Sort  (cost=50284.88..51304.72 rows=407936 width=12) (actual time=99.317..122.050 rows=407936 loops=1)\n",
      "               Sort Key: s.c, r.a\n",
      "               Sort Method: external merge  Disk: 8824kB\n",
      "               ->  Hash Join  (cost=54.00..5297.36 rows=407936 width=12) (actual time=0.196..19.584 rows=407936 loops=1)\n",
      "                     Hash Cond: (r.b = s.b)\n",
      "                     ->  Seq Scan on r  (cost=0.00..289.00 rows=20000 width=8) (actual time=0.005..0.737 rows=20000 loops=1)\n",
      "                     ->  Hash  (cost=29.00..29.00 rows=2000 width=8) (actual time=0.182..0.182 rows=2000 loops=1)\n",
      "                           Buckets: 2048  Batches: 1  Memory Usage: 95kB\n",
      "                           ->  Seq Scan on s  (cost=0.00..29.00 rows=2000 width=8) (actual time=0.004..0.090 rows=2000 loops=1)\n",
      " Planning Time: 0.263 ms\n",
      " Execution Time: 334.181 ms\n",
      "(18 rows)\n",
      "\n",
      "\n"
     ]
    }
   ],
   "source": [
    "from enum import Enum\n",
    "import os\n",
    "import json\n",
    "\n",
    "QUERY = \"SELECT a,b,c FROM r NATURAL JOIN s NATURAL JOIN t;\"\n",
    "\n",
    "class JoinMode(Enum):\n",
    "    DEFAULT = \"set enable_hashjoin=1; set enable_mergejoin=1; set enable_nestloop=1;\"\n",
    "    HASHJOIN = \"set enable_hashjoin=1; set enable_mergejoin=0; set enable_nestloop=0;\"\n",
    "    MERGEJOIN = \"set enable_hashjoin=0; set enable_mergejoin=1; set enable_nestloop=0;\"\n",
    "    NESTLOOP = \"set enable_hashjoin=0; set enable_mergejoin=0; set enable_nestloop=1;\"\n",
    "\n",
    "# execution plan\n",
    "def print_plan(mode:JoinMode) -> None:\n",
    "    output = os.popen(f'psql postgres -c \"{mode.value} explain (analyze, costs) {QUERY};\"').read()\n",
    "    print(output)\n",
    "\n",
    "# benchmark\n",
    "def get_exec(mode:JoinMode) -> float:\n",
    "    output = os.popen(f'psql postgres -c \"{mode.value} explain (analyze, verbose, costs, settings, buffers, wal, timing, summary, format json) {QUERY};\"').read()\n",
    "    output = output.splitlines()[2:-2]\n",
    "    for i in range(len(output)):\n",
    "        if len(output[i]) > 2:\n",
    "            output[i] = output[i][:-1]\n",
    "    output = \"\\n\".join(output)\n",
    "    output = json.loads(output)[0]\n",
    "    output = float(output[\"Execution Time\"])\n",
    "    return output\n",
    "\n",
    "def print_avg_exec(mode:JoinMode, iters:int=10) -> float:\n",
    "    vals = []\n",
    "    print(f\"running benchmark for {mode.name}...\")\n",
    "    for _ in range(iters):\n",
    "        print(f\"\\titeration {_ + 1}: {get_exec(mode)} ms\")\n",
    "        vals.append(get_exec(mode))\n",
    "    print(f\"average time: {sum(vals) / iters:.2f} ms\")\n",
    "    \n",
    "    \n",
    "print_plan(JoinMode.DEFAULT)\n",
    "# print_avg_exec(JoinMode.DEFAULT, 10)"
   ]
  },
  {
   "cell_type": "code",
   "execution_count": 160,
   "metadata": {},
   "outputs": [
    {
     "name": "stdout",
     "output_type": "stream",
     "text": [
      "SET\n",
      "SET\n",
      "SET\n",
      "                                                           QUERY PLAN                                                           \n",
      "--------------------------------------------------------------------------------------------------------------------------------\n",
      " Merge Join  (cost=52002.65..88089.04 rows=1999411 width=12) (actual time=108.986..304.238 rows=1999499 loops=1)\n",
      "   Merge Cond: ((t.c = s.c) AND (t.a = r.a))\n",
      "   ->  Sort  (cost=1717.77..1767.77 rows=20000 width=8) (actual time=3.349..4.605 rows=10248 loops=1)\n",
      "         Sort Key: t.c, t.a\n",
      "         Sort Method: quicksort  Memory: 1394kB\n",
      "         ->  Seq Scan on t  (cost=0.00..289.00 rows=20000 width=8) (actual time=0.004..0.574 rows=20000 loops=1)\n",
      "   ->  Materialize  (cost=50284.88..52324.56 rows=407936 width=12) (actual time=105.633..185.522 rows=2201013 loops=1)\n",
      "         ->  Sort  (cost=50284.88..51304.72 rows=407936 width=12) (actual time=105.628..128.404 rows=407936 loops=1)\n",
      "               Sort Key: s.c, r.a\n",
      "               Sort Method: external merge  Disk: 8824kB\n",
      "               ->  Hash Join  (cost=54.00..5297.36 rows=407936 width=12) (actual time=0.192..19.853 rows=407936 loops=1)\n",
      "                     Hash Cond: (r.b = s.b)\n",
      "                     ->  Seq Scan on r  (cost=0.00..289.00 rows=20000 width=8) (actual time=0.007..0.768 rows=20000 loops=1)\n",
      "                     ->  Hash  (cost=29.00..29.00 rows=2000 width=8) (actual time=0.178..0.179 rows=2000 loops=1)\n",
      "                           Buckets: 2048  Batches: 1  Memory Usage: 95kB\n",
      "                           ->  Seq Scan on s  (cost=0.00..29.00 rows=2000 width=8) (actual time=0.003..0.090 rows=2000 loops=1)\n",
      " Planning Time: 0.241 ms\n",
      " Execution Time: 340.296 ms\n",
      "(18 rows)\n",
      "\n",
      "\n",
      "running benchmark for DEFAULT...\n"
     ]
    },
    {
     "ename": "JSONDecodeError",
     "evalue": "Expecting value: line 1 column 1 (char 0)",
     "output_type": "error",
     "traceback": [
      "\u001b[0;31m---------------------------------------------------------------------------\u001b[0m",
      "\u001b[0;31mJSONDecodeError\u001b[0m                           Traceback (most recent call last)",
      "Cell \u001b[0;32mIn[160], line 2\u001b[0m\n\u001b[1;32m      1\u001b[0m print_plan(JoinMode\u001b[38;5;241m.\u001b[39mDEFAULT)\n\u001b[0;32m----> 2\u001b[0m \u001b[43mprint_avg_exec\u001b[49m\u001b[43m(\u001b[49m\u001b[43mJoinMode\u001b[49m\u001b[38;5;241;43m.\u001b[39;49m\u001b[43mDEFAULT\u001b[49m\u001b[43m,\u001b[49m\u001b[43m \u001b[49m\u001b[38;5;241;43m10\u001b[39;49m\u001b[43m)\u001b[49m\n",
      "Cell \u001b[0;32mIn[159], line 34\u001b[0m, in \u001b[0;36mprint_avg_exec\u001b[0;34m(mode, iters)\u001b[0m\n\u001b[1;32m     32\u001b[0m \u001b[38;5;28mprint\u001b[39m(\u001b[38;5;124mf\u001b[39m\u001b[38;5;124m\"\u001b[39m\u001b[38;5;124mrunning benchmark for \u001b[39m\u001b[38;5;132;01m{\u001b[39;00mmode\u001b[38;5;241m.\u001b[39mname\u001b[38;5;132;01m}\u001b[39;00m\u001b[38;5;124m...\u001b[39m\u001b[38;5;124m\"\u001b[39m)\n\u001b[1;32m     33\u001b[0m \u001b[38;5;28;01mfor\u001b[39;00m _ \u001b[38;5;129;01min\u001b[39;00m \u001b[38;5;28mrange\u001b[39m(iters):\n\u001b[0;32m---> 34\u001b[0m     \u001b[38;5;28mprint\u001b[39m(\u001b[38;5;124mf\u001b[39m\u001b[38;5;124m\"\u001b[39m\u001b[38;5;130;01m\\t\u001b[39;00m\u001b[38;5;124miteration \u001b[39m\u001b[38;5;132;01m{\u001b[39;00m_\u001b[38;5;250m \u001b[39m\u001b[38;5;241m+\u001b[39m\u001b[38;5;250m \u001b[39m\u001b[38;5;241m1\u001b[39m\u001b[38;5;132;01m}\u001b[39;00m\u001b[38;5;124m: \u001b[39m\u001b[38;5;132;01m{\u001b[39;00m\u001b[43mget_exec\u001b[49m\u001b[43m(\u001b[49m\u001b[43mmode\u001b[49m\u001b[43m)\u001b[49m\u001b[38;5;132;01m}\u001b[39;00m\u001b[38;5;124m ms\u001b[39m\u001b[38;5;124m\"\u001b[39m)\n\u001b[1;32m     35\u001b[0m     vals\u001b[38;5;241m.\u001b[39mappend(get_exec(mode))\n\u001b[1;32m     36\u001b[0m \u001b[38;5;28mprint\u001b[39m(\u001b[38;5;124mf\u001b[39m\u001b[38;5;124m\"\u001b[39m\u001b[38;5;124maverage time: \u001b[39m\u001b[38;5;132;01m{\u001b[39;00m\u001b[38;5;28msum\u001b[39m(vals)\u001b[38;5;250m \u001b[39m\u001b[38;5;241m/\u001b[39m\u001b[38;5;250m \u001b[39miters\u001b[38;5;132;01m:\u001b[39;00m\u001b[38;5;124m.2f\u001b[39m\u001b[38;5;132;01m}\u001b[39;00m\u001b[38;5;124m ms\u001b[39m\u001b[38;5;124m\"\u001b[39m)\n",
      "Cell \u001b[0;32mIn[159], line 26\u001b[0m, in \u001b[0;36mget_exec\u001b[0;34m(mode)\u001b[0m\n\u001b[1;32m     24\u001b[0m         output[i] \u001b[38;5;241m=\u001b[39m output[i][:\u001b[38;5;241m-\u001b[39m\u001b[38;5;241m1\u001b[39m]\n\u001b[1;32m     25\u001b[0m output \u001b[38;5;241m=\u001b[39m \u001b[38;5;124m\"\u001b[39m\u001b[38;5;130;01m\\n\u001b[39;00m\u001b[38;5;124m\"\u001b[39m\u001b[38;5;241m.\u001b[39mjoin(output)\n\u001b[0;32m---> 26\u001b[0m output \u001b[38;5;241m=\u001b[39m \u001b[43mjson\u001b[49m\u001b[38;5;241;43m.\u001b[39;49m\u001b[43mloads\u001b[49m\u001b[43m(\u001b[49m\u001b[43moutput\u001b[49m\u001b[43m)\u001b[49m[\u001b[38;5;241m0\u001b[39m]\n\u001b[1;32m     27\u001b[0m output \u001b[38;5;241m=\u001b[39m \u001b[38;5;28mfloat\u001b[39m(output[\u001b[38;5;124m\"\u001b[39m\u001b[38;5;124mExecution Time\u001b[39m\u001b[38;5;124m\"\u001b[39m])\n\u001b[1;32m     28\u001b[0m \u001b[38;5;28;01mreturn\u001b[39;00m output\n",
      "File \u001b[0;32m/opt/homebrew/Cellar/python@3.11/3.11.8/Frameworks/Python.framework/Versions/3.11/lib/python3.11/json/__init__.py:346\u001b[0m, in \u001b[0;36mloads\u001b[0;34m(s, cls, object_hook, parse_float, parse_int, parse_constant, object_pairs_hook, **kw)\u001b[0m\n\u001b[1;32m    341\u001b[0m     s \u001b[38;5;241m=\u001b[39m s\u001b[38;5;241m.\u001b[39mdecode(detect_encoding(s), \u001b[38;5;124m'\u001b[39m\u001b[38;5;124msurrogatepass\u001b[39m\u001b[38;5;124m'\u001b[39m)\n\u001b[1;32m    343\u001b[0m \u001b[38;5;28;01mif\u001b[39;00m (\u001b[38;5;28mcls\u001b[39m \u001b[38;5;129;01mis\u001b[39;00m \u001b[38;5;28;01mNone\u001b[39;00m \u001b[38;5;129;01mand\u001b[39;00m object_hook \u001b[38;5;129;01mis\u001b[39;00m \u001b[38;5;28;01mNone\u001b[39;00m \u001b[38;5;129;01mand\u001b[39;00m\n\u001b[1;32m    344\u001b[0m         parse_int \u001b[38;5;129;01mis\u001b[39;00m \u001b[38;5;28;01mNone\u001b[39;00m \u001b[38;5;129;01mand\u001b[39;00m parse_float \u001b[38;5;129;01mis\u001b[39;00m \u001b[38;5;28;01mNone\u001b[39;00m \u001b[38;5;129;01mand\u001b[39;00m\n\u001b[1;32m    345\u001b[0m         parse_constant \u001b[38;5;129;01mis\u001b[39;00m \u001b[38;5;28;01mNone\u001b[39;00m \u001b[38;5;129;01mand\u001b[39;00m object_pairs_hook \u001b[38;5;129;01mis\u001b[39;00m \u001b[38;5;28;01mNone\u001b[39;00m \u001b[38;5;129;01mand\u001b[39;00m \u001b[38;5;129;01mnot\u001b[39;00m kw):\n\u001b[0;32m--> 346\u001b[0m     \u001b[38;5;28;01mreturn\u001b[39;00m \u001b[43m_default_decoder\u001b[49m\u001b[38;5;241;43m.\u001b[39;49m\u001b[43mdecode\u001b[49m\u001b[43m(\u001b[49m\u001b[43ms\u001b[49m\u001b[43m)\u001b[49m\n\u001b[1;32m    347\u001b[0m \u001b[38;5;28;01mif\u001b[39;00m \u001b[38;5;28mcls\u001b[39m \u001b[38;5;129;01mis\u001b[39;00m \u001b[38;5;28;01mNone\u001b[39;00m:\n\u001b[1;32m    348\u001b[0m     \u001b[38;5;28mcls\u001b[39m \u001b[38;5;241m=\u001b[39m JSONDecoder\n",
      "File \u001b[0;32m/opt/homebrew/Cellar/python@3.11/3.11.8/Frameworks/Python.framework/Versions/3.11/lib/python3.11/json/decoder.py:337\u001b[0m, in \u001b[0;36mJSONDecoder.decode\u001b[0;34m(self, s, _w)\u001b[0m\n\u001b[1;32m    332\u001b[0m \u001b[38;5;28;01mdef\u001b[39;00m \u001b[38;5;21mdecode\u001b[39m(\u001b[38;5;28mself\u001b[39m, s, _w\u001b[38;5;241m=\u001b[39mWHITESPACE\u001b[38;5;241m.\u001b[39mmatch):\n\u001b[1;32m    333\u001b[0m \u001b[38;5;250m    \u001b[39m\u001b[38;5;124;03m\"\"\"Return the Python representation of ``s`` (a ``str`` instance\u001b[39;00m\n\u001b[1;32m    334\u001b[0m \u001b[38;5;124;03m    containing a JSON document).\u001b[39;00m\n\u001b[1;32m    335\u001b[0m \n\u001b[1;32m    336\u001b[0m \u001b[38;5;124;03m    \"\"\"\u001b[39;00m\n\u001b[0;32m--> 337\u001b[0m     obj, end \u001b[38;5;241m=\u001b[39m \u001b[38;5;28;43mself\u001b[39;49m\u001b[38;5;241;43m.\u001b[39;49m\u001b[43mraw_decode\u001b[49m\u001b[43m(\u001b[49m\u001b[43ms\u001b[49m\u001b[43m,\u001b[49m\u001b[43m \u001b[49m\u001b[43midx\u001b[49m\u001b[38;5;241;43m=\u001b[39;49m\u001b[43m_w\u001b[49m\u001b[43m(\u001b[49m\u001b[43ms\u001b[49m\u001b[43m,\u001b[49m\u001b[43m \u001b[49m\u001b[38;5;241;43m0\u001b[39;49m\u001b[43m)\u001b[49m\u001b[38;5;241;43m.\u001b[39;49m\u001b[43mend\u001b[49m\u001b[43m(\u001b[49m\u001b[43m)\u001b[49m\u001b[43m)\u001b[49m\n\u001b[1;32m    338\u001b[0m     end \u001b[38;5;241m=\u001b[39m _w(s, end)\u001b[38;5;241m.\u001b[39mend()\n\u001b[1;32m    339\u001b[0m     \u001b[38;5;28;01mif\u001b[39;00m end \u001b[38;5;241m!=\u001b[39m \u001b[38;5;28mlen\u001b[39m(s):\n",
      "File \u001b[0;32m/opt/homebrew/Cellar/python@3.11/3.11.8/Frameworks/Python.framework/Versions/3.11/lib/python3.11/json/decoder.py:355\u001b[0m, in \u001b[0;36mJSONDecoder.raw_decode\u001b[0;34m(self, s, idx)\u001b[0m\n\u001b[1;32m    353\u001b[0m     obj, end \u001b[38;5;241m=\u001b[39m \u001b[38;5;28mself\u001b[39m\u001b[38;5;241m.\u001b[39mscan_once(s, idx)\n\u001b[1;32m    354\u001b[0m \u001b[38;5;28;01mexcept\u001b[39;00m \u001b[38;5;167;01mStopIteration\u001b[39;00m \u001b[38;5;28;01mas\u001b[39;00m err:\n\u001b[0;32m--> 355\u001b[0m     \u001b[38;5;28;01mraise\u001b[39;00m JSONDecodeError(\u001b[38;5;124m\"\u001b[39m\u001b[38;5;124mExpecting value\u001b[39m\u001b[38;5;124m\"\u001b[39m, s, err\u001b[38;5;241m.\u001b[39mvalue) \u001b[38;5;28;01mfrom\u001b[39;00m \u001b[38;5;28;01mNone\u001b[39;00m\n\u001b[1;32m    356\u001b[0m \u001b[38;5;28;01mreturn\u001b[39;00m obj, end\n",
      "\u001b[0;31mJSONDecodeError\u001b[0m: Expecting value: line 1 column 1 (char 0)"
     ]
    }
   ],
   "source": []
  },
  {
   "cell_type": "code",
   "execution_count": 135,
   "metadata": {},
   "outputs": [],
   "source": [
    "# benchmark sort merge joins\n"
   ]
  },
  {
   "cell_type": "code",
   "execution_count": 112,
   "metadata": {},
   "outputs": [],
   "source": [
    "# benchmark hash joins\n"
   ]
  },
  {
   "cell_type": "code",
   "execution_count": null,
   "metadata": {},
   "outputs": [],
   "source": []
  }
 ],
 "metadata": {
  "kernelspec": {
   "display_name": "Python 3",
   "language": "python",
   "name": "python3"
  },
  "language_info": {
   "codemirror_mode": {
    "name": "ipython",
    "version": 3
   },
   "file_extension": ".py",
   "mimetype": "text/x-python",
   "name": "python",
   "nbconvert_exporter": "python",
   "pygments_lexer": "ipython3",
   "version": "3.11.8"
  }
 },
 "nbformat": 4,
 "nbformat_minor": 2
}
