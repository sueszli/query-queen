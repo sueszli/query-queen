{
 "cells": [
  {
   "cell_type": "code",
   "execution_count": 74,
   "metadata": {},
   "outputs": [
    {
     "name": "stdout",
     "output_type": "stream",
     "text": [
      "\u001b[33mWARNING: Skipping /opt/homebrew/lib/python3.11/site-packages/numpy-1.26.4.dist-info due to invalid metadata entry 'name'\u001b[0m\u001b[33m\n",
      "\u001b[0m\u001b[33mWARNING: Skipping /opt/homebrew/lib/python3.11/site-packages/packaging-24.0.dist-info due to invalid metadata entry 'name'\u001b[0m\u001b[33m\n",
      "\u001b[0m\u001b[33mWARNING: Skipping /opt/homebrew/lib/python3.11/site-packages/numpy-1.26.4.dist-info due to invalid metadata entry 'name'\u001b[0m\u001b[33m\n",
      "\u001b[0m\u001b[33mWARNING: Skipping /opt/homebrew/lib/python3.11/site-packages/packaging-24.0.dist-info due to invalid metadata entry 'name'\u001b[0m\u001b[33m\n",
      "\u001b[0m\u001b[33mWARNING: Skipping /opt/homebrew/lib/python3.11/site-packages/certifi-2024.2.2.dist-info due to invalid metadata entry 'name'\u001b[0m\u001b[33m\n",
      "\u001b[0mRequirement already satisfied: psycopg2 in /opt/homebrew/lib/python3.11/site-packages (2.9.9)\n",
      "\u001b[33mWARNING: Skipping /opt/homebrew/lib/python3.11/site-packages/numpy-1.26.4.dist-info due to invalid metadata entry 'name'\u001b[0m\u001b[33m\n",
      "\u001b[0m\u001b[33mWARNING: Skipping /opt/homebrew/lib/python3.11/site-packages/packaging-24.0.dist-info due to invalid metadata entry 'name'\u001b[0m\u001b[33m\n",
      "\u001b[0m\u001b[33mWARNING: Skipping /opt/homebrew/lib/python3.11/site-packages/certifi-2024.2.2.dist-info due to invalid metadata entry 'name'\u001b[0m\u001b[33m\n",
      "\u001b[0m\u001b[33mWARNING: Skipping /opt/homebrew/lib/python3.11/site-packages/numpy-1.26.4.dist-info due to invalid metadata entry 'name'\u001b[0m\u001b[33m\n",
      "\u001b[0m\u001b[33mWARNING: Skipping /opt/homebrew/lib/python3.11/site-packages/packaging-24.0.dist-info due to invalid metadata entry 'name'\u001b[0m\u001b[33m\n",
      "\u001b[0m\u001b[33mWARNING: Skipping /opt/homebrew/lib/python3.11/site-packages/numpy-1.26.4.dist-info due to invalid metadata entry 'name'\u001b[0m\u001b[33m\n",
      "\u001b[0m\u001b[33mWARNING: Skipping /opt/homebrew/lib/python3.11/site-packages/packaging-24.0.dist-info due to invalid metadata entry 'name'\u001b[0m\u001b[33m\n",
      "\u001b[0m\u001b[33mWARNING: Skipping /opt/homebrew/lib/python3.11/site-packages/numpy-1.26.4.dist-info due to invalid metadata entry 'name'\u001b[0m\u001b[33m\n",
      "\u001b[0m\u001b[33mWARNING: Skipping /opt/homebrew/lib/python3.11/site-packages/packaging-24.0.dist-info due to invalid metadata entry 'name'\u001b[0m\u001b[33m\n",
      "\u001b[0m"
     ]
    }
   ],
   "source": [
    "!pip install psycopg2\n",
    "\n",
    "import psycopg2\n",
    "\n",
    "username = \"sueszli\"\n",
    "password = \"password\"\n",
    "host = \"localhost\"\n",
    "port = \"5432\"\n",
    "database = \"postgres\"\n",
    "\n",
    "# test connection\n",
    "conn = psycopg2.connect(\n",
    "    user=username,\n",
    "    password=password,\n",
    "    host=host,\n",
    "    port=port,\n",
    "    database=database\n",
    ")"
   ]
  },
  {
   "cell_type": "code",
   "execution_count": 75,
   "metadata": {},
   "outputs": [
    {
     "name": "stdout",
     "output_type": "stream",
     "text": [
      "./reset.sh: line 10: return: can only `return' from a function or sourced script\n",
      "Did not find any relations.\n",
      "ERROR:  cannot drop the currently open database\n",
      "ERROR:  current user cannot be dropped\n"
     ]
    }
   ],
   "source": [
    "# reset database\n",
    "!chmod +x ./reset.sh && ./reset.sh >> /dev/null"
   ]
  },
  {
   "cell_type": "code",
   "execution_count": 116,
   "metadata": {},
   "outputs": [
    {
     "name": "stdout",
     "output_type": "stream",
     "text": [
      "                                        QUERY PLAN                                        \n",
      "------------------------------------------------------------------------------------------\n",
      " Merge Join (actual time=132.082..323.195 rows=2008672 loops=1)\n",
      "   Merge Cond: ((t.c = s.c) AND (t.a = r.a))\n",
      "   ->  Sort (actual time=10.965..11.744 rows=10264 loops=1)\n",
      "         Sort Key: t.c, t.a\n",
      "         Sort Method: quicksort  Memory: 1394kB\n",
      "         ->  Seq Scan on t (actual time=0.011..1.700 rows=20000 loops=1)\n",
      "   ->  Materialize (actual time=121.110..199.709 rows=2216058 loops=1)\n",
      "         ->  Sort (actual time=121.096..143.440 rows=413972 loops=1)\n",
      "               Sort Key: s.c, r.a\n",
      "               Sort Method: external merge  Disk: 8960kB\n",
      "               ->  Hash Join (actual time=0.989..27.898 rows=413972 loops=1)\n",
      "                     Hash Cond: (r.b = s.b)\n",
      "                     ->  Seq Scan on r (actual time=0.022..0.988 rows=20000 loops=1)\n",
      "                     ->  Hash (actual time=0.947..0.947 rows=2000 loops=1)\n",
      "                           Buckets: 2048  Batches: 1  Memory Usage: 95kB\n",
      "                           ->  Seq Scan on s (actual time=0.018..0.478 rows=2000 loops=1)\n",
      " Planning Time: 0.519 ms\n",
      " Execution Time: 358.411 ms\n",
      "(18 rows)\n",
      "\n"
     ]
    }
   ],
   "source": [
    "!psql postgres -c \"explain (analyze, costs off) $query\""
   ]
  },
  {
   "cell_type": "code",
   "execution_count": 119,
   "metadata": {},
   "outputs": [
    {
     "name": "stdout",
     "output_type": "stream",
     "text": [
      "done\n"
     ]
    }
   ],
   "source": [
    "import os\n",
    "import json\n",
    "\n",
    "QUERY = \"SELECT a,b,c FROM r NATURAL JOIN s NATURAL JOIN t;\"\n",
    "\n",
    "def get_json(query: str) -> str:\n",
    "    output = os.popen(f'psql postgres -c \"explain (analyze, verbose, costs, settings, buffers, wal, timing, summary, format json) {query};\"').read()\n",
    "    output = output.splitlines()[2:-2]\n",
    "    for i in range(len(output)):\n",
    "        if len(output[i]) > 2:\n",
    "            output[i] = output[i][:-1]\n",
    "    output = \"\\n\".join(output)\n",
    "    output = json.dumps(json.loads(output), indent=2)\n",
    "    return output\n",
    "\n",
    "def dump_to_file(output: str, output_path: str=\"dump.json\"):\n",
    "    with open(output_path, \"w\") as f:\n",
    "        f.write(output)\n",
    "\n",
    "res = get_json(QUERY)\n",
    "dump_to_file(res)\n",
    "print(\"done\")\n"
   ]
  },
  {
   "cell_type": "code",
   "execution_count": null,
   "metadata": {},
   "outputs": [],
   "source": []
  }
 ],
 "metadata": {
  "kernelspec": {
   "display_name": "Python 3",
   "language": "python",
   "name": "python3"
  },
  "language_info": {
   "codemirror_mode": {
    "name": "ipython",
    "version": 3
   },
   "file_extension": ".py",
   "mimetype": "text/x-python",
   "name": "python",
   "nbconvert_exporter": "python",
   "pygments_lexer": "ipython3",
   "version": "3.11.8"
  }
 },
 "nbformat": 4,
 "nbformat_minor": 2
}
