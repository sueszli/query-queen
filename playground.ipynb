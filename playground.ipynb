{
 "cells": [
  {
   "cell_type": "code",
   "execution_count": 6,
   "metadata": {},
   "outputs": [
    {
     "name": "stdout",
     "output_type": "stream",
     "text": [
      "\u001b[33mWARNING: Skipping /opt/homebrew/lib/python3.11/site-packages/numpy-1.26.4.dist-info due to invalid metadata entry 'name'\u001b[0m\u001b[33m\n",
      "\u001b[0m\u001b[33mWARNING: Skipping /opt/homebrew/lib/python3.11/site-packages/packaging-24.0.dist-info due to invalid metadata entry 'name'\u001b[0m\u001b[33m\n",
      "\u001b[0m\u001b[33mWARNING: Skipping /opt/homebrew/lib/python3.11/site-packages/numpy-1.26.4.dist-info due to invalid metadata entry 'name'\u001b[0m\u001b[33m\n",
      "\u001b[0m\u001b[33mWARNING: Skipping /opt/homebrew/lib/python3.11/site-packages/packaging-24.0.dist-info due to invalid metadata entry 'name'\u001b[0m\u001b[33m\n",
      "\u001b[0m\u001b[33mWARNING: Skipping /opt/homebrew/lib/python3.11/site-packages/certifi-2024.2.2.dist-info due to invalid metadata entry 'name'\u001b[0m\u001b[33m\n",
      "\u001b[0mRequirement already satisfied: psycopg2 in /opt/homebrew/lib/python3.11/site-packages (2.9.9)\n",
      "\u001b[33mWARNING: Skipping /opt/homebrew/lib/python3.11/site-packages/numpy-1.26.4.dist-info due to invalid metadata entry 'name'\u001b[0m\u001b[33m\n",
      "\u001b[0m\u001b[33mWARNING: Skipping /opt/homebrew/lib/python3.11/site-packages/packaging-24.0.dist-info due to invalid metadata entry 'name'\u001b[0m\u001b[33m\n",
      "\u001b[0m\u001b[33mWARNING: Skipping /opt/homebrew/lib/python3.11/site-packages/certifi-2024.2.2.dist-info due to invalid metadata entry 'name'\u001b[0m\u001b[33m\n",
      "\u001b[0m\u001b[33mWARNING: Skipping /opt/homebrew/lib/python3.11/site-packages/numpy-1.26.4.dist-info due to invalid metadata entry 'name'\u001b[0m\u001b[33m\n",
      "\u001b[0m\u001b[33mWARNING: Skipping /opt/homebrew/lib/python3.11/site-packages/packaging-24.0.dist-info due to invalid metadata entry 'name'\u001b[0m\u001b[33m\n",
      "\u001b[0m\u001b[33mWARNING: Skipping /opt/homebrew/lib/python3.11/site-packages/numpy-1.26.4.dist-info due to invalid metadata entry 'name'\u001b[0m\u001b[33m\n",
      "\u001b[0m\u001b[33mWARNING: Skipping /opt/homebrew/lib/python3.11/site-packages/packaging-24.0.dist-info due to invalid metadata entry 'name'\u001b[0m\u001b[33m\n",
      "\u001b[0m\u001b[33mWARNING: Skipping /opt/homebrew/lib/python3.11/site-packages/numpy-1.26.4.dist-info due to invalid metadata entry 'name'\u001b[0m\u001b[33m\n",
      "\u001b[0m\u001b[33mWARNING: Skipping /opt/homebrew/lib/python3.11/site-packages/packaging-24.0.dist-info due to invalid metadata entry 'name'\u001b[0m\u001b[33m\n",
      "\u001b[0m"
     ]
    }
   ],
   "source": [
    "!pip install psycopg2\n",
    "\n",
    "import psycopg2\n",
    "\n",
    "username = \"sueszli\"\n",
    "password = \"password\"\n",
    "host = \"localhost\"\n",
    "port = \"5432\"\n",
    "database = \"postgres\"\n",
    "\n",
    "# test connection\n",
    "conn = psycopg2.connect(\n",
    "    user=username,\n",
    "    password=password,\n",
    "    host=host,\n",
    "    port=port,\n",
    "    database=database\n",
    ")"
   ]
  },
  {
   "cell_type": "code",
   "execution_count": 10,
   "metadata": {},
   "outputs": [
    {
     "name": "stdout",
     "output_type": "stream",
     "text": [
      "./reset.sh: line 10: return: can only `return' from a function or sourced script\n",
      "Did not find any relations.\n",
      "ERROR:  cannot drop the currently open database\n",
      "ERROR:  current user cannot be dropped\n",
      "           List of relations\n",
      " Schema |    Name     | Type  |  Owner  \n",
      "--------+-------------+-------+---------\n",
      " public | badges      | table | sueszli\n",
      " public | comments    | table | sueszli\n",
      " public | posthistory | table | sueszli\n",
      " public | postlinks   | table | sueszli\n",
      " public | posts       | table | sueszli\n",
      " public | r           | table | sueszli\n",
      " public | s           | table | sueszli\n",
      " public | t           | table | sueszli\n",
      " public | tags        | table | sueszli\n",
      " public | users       | table | sueszli\n",
      " public | votes       | table | sueszli\n",
      "(11 rows)\n",
      "\n"
     ]
    }
   ],
   "source": [
    "!chmod +x ./reset.sh && ./reset.sh >> /dev/null\n",
    "!psql postgres -c \"\\dt\""
   ]
  },
  {
   "cell_type": "code",
   "execution_count": 10,
   "metadata": {},
   "outputs": [
    {
     "name": "stdout",
     "output_type": "stream",
     "text": [
      "                 QUERY PLAN                  \n",
      "---------------------------------------------\n",
      " Merge Join\n",
      "   Merge Cond: ((t.c = s.c) AND (t.a = r.a))\n",
      "   ->  Sort\n",
      "         Sort Key: t.c, t.a\n",
      "         ->  Seq Scan on t\n",
      "   ->  Materialize\n",
      "         ->  Sort\n",
      "               Sort Key: s.c, r.a\n",
      "               ->  Hash Join\n",
      "                     Hash Cond: (r.b = s.b)\n",
      "                     ->  Seq Scan on r\n",
      "                     ->  Hash\n",
      "                           ->  Seq Scan on s\n",
      "(13 rows)\n",
      "\n"
     ]
    }
   ],
   "source": [
    "query = \"SELECT a,b,c FROM r NATURAL JOIN s NATURAL JOIN t;\"\n",
    "# !psql postgres -c \"\\timing\" -c \"$query\"\n",
    "\n",
    "# minimalist\n",
    "!psql postgres -c \"explain (costs off) $query\""
   ]
  },
  {
   "cell_type": "code",
   "execution_count": null,
   "metadata": {},
   "outputs": [],
   "source": []
  }
 ],
 "metadata": {
  "kernelspec": {
   "display_name": "Python 3",
   "language": "python",
   "name": "python3"
  },
  "language_info": {
   "codemirror_mode": {
    "name": "ipython",
    "version": 3
   },
   "file_extension": ".py",
   "mimetype": "text/x-python",
   "name": "python",
   "nbconvert_exporter": "python",
   "pygments_lexer": "ipython3",
   "version": "3.11.8"
  }
 },
 "nbformat": 4,
 "nbformat_minor": 2
}
