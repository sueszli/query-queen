{
 "cells": [
  {
   "cell_type": "code",
   "execution_count": 11,
   "metadata": {},
   "outputs": [
    {
     "name": "stdout",
     "output_type": "stream",
     "text": [
      "\u001b[33mWARNING: Skipping /opt/homebrew/lib/python3.11/site-packages/numpy-1.26.4.dist-info due to invalid metadata entry 'name'\u001b[0m\u001b[33m\n",
      "\u001b[0m\u001b[33mWARNING: Skipping /opt/homebrew/lib/python3.11/site-packages/packaging-24.0.dist-info due to invalid metadata entry 'name'\u001b[0m\u001b[33m\n",
      "\u001b[0m\u001b[33mWARNING: Skipping /opt/homebrew/lib/python3.11/site-packages/numpy-1.26.4.dist-info due to invalid metadata entry 'name'\u001b[0m\u001b[33m\n",
      "\u001b[0m\u001b[33mWARNING: Skipping /opt/homebrew/lib/python3.11/site-packages/packaging-24.0.dist-info due to invalid metadata entry 'name'\u001b[0m\u001b[33m\n",
      "\u001b[0m\u001b[33mWARNING: Skipping /opt/homebrew/lib/python3.11/site-packages/certifi-2024.2.2.dist-info due to invalid metadata entry 'name'\u001b[0m\u001b[33m\n",
      "\u001b[0mRequirement already satisfied: psycopg2 in /opt/homebrew/lib/python3.11/site-packages (2.9.9)\n",
      "\u001b[33mWARNING: Skipping /opt/homebrew/lib/python3.11/site-packages/numpy-1.26.4.dist-info due to invalid metadata entry 'name'\u001b[0m\u001b[33m\n",
      "\u001b[0m\u001b[33mWARNING: Skipping /opt/homebrew/lib/python3.11/site-packages/packaging-24.0.dist-info due to invalid metadata entry 'name'\u001b[0m\u001b[33m\n",
      "\u001b[0m\u001b[33mWARNING: Skipping /opt/homebrew/lib/python3.11/site-packages/certifi-2024.2.2.dist-info due to invalid metadata entry 'name'\u001b[0m\u001b[33m\n",
      "\u001b[0m\u001b[33mWARNING: Skipping /opt/homebrew/lib/python3.11/site-packages/numpy-1.26.4.dist-info due to invalid metadata entry 'name'\u001b[0m\u001b[33m\n",
      "\u001b[0m\u001b[33mWARNING: Skipping /opt/homebrew/lib/python3.11/site-packages/packaging-24.0.dist-info due to invalid metadata entry 'name'\u001b[0m\u001b[33m\n",
      "\u001b[0m\u001b[33mWARNING: Skipping /opt/homebrew/lib/python3.11/site-packages/numpy-1.26.4.dist-info due to invalid metadata entry 'name'\u001b[0m\u001b[33m\n",
      "\u001b[0m\u001b[33mWARNING: Skipping /opt/homebrew/lib/python3.11/site-packages/packaging-24.0.dist-info due to invalid metadata entry 'name'\u001b[0m\u001b[33m\n",
      "\u001b[0m\u001b[33mWARNING: Skipping /opt/homebrew/lib/python3.11/site-packages/numpy-1.26.4.dist-info due to invalid metadata entry 'name'\u001b[0m\u001b[33m\n",
      "\u001b[0m\u001b[33mWARNING: Skipping /opt/homebrew/lib/python3.11/site-packages/packaging-24.0.dist-info due to invalid metadata entry 'name'\u001b[0m\u001b[33m\n",
      "\u001b[0m"
     ]
    }
   ],
   "source": [
    "!pip install psycopg2\n",
    "\n",
    "import psycopg2\n",
    "\n",
    "username = \"sueszli\"\n",
    "password = \"password\"\n",
    "host = \"localhost\"\n",
    "port = \"5432\"\n",
    "database = \"postgres\"\n",
    "\n",
    "# test connection\n",
    "conn = psycopg2.connect(\n",
    "    user=username,\n",
    "    password=password,\n",
    "    host=host,\n",
    "    port=port,\n",
    "    database=database\n",
    ")\n"
   ]
  },
  {
   "cell_type": "code",
   "execution_count": 20,
   "metadata": {},
   "outputs": [
    {
     "name": "stdout",
     "output_type": "stream",
     "text": [
      "('r',)\n",
      "('s',)\n",
      "('t',)\n",
      "('badges',)\n",
      "('comments',)\n",
      "('posthistory',)\n",
      "('postlinks',)\n",
      "('posts',)\n",
      "('tags',)\n",
      "('users',)\n",
      "('votes',)\n"
     ]
    },
    {
     "ename": "UndefinedTable",
     "evalue": "relation \"test_table\" does not exist\nLINE 1: EXPLAIN SELECT * FROM test_table\n                              ^\n",
     "output_type": "error",
     "traceback": [
      "\u001b[0;31m---------------------------------------------------------------------------\u001b[0m",
      "\u001b[0;31mUndefinedTable\u001b[0m                            Traceback (most recent call last)",
      "Cell \u001b[0;32mIn[20], line 19\u001b[0m\n\u001b[1;32m     16\u001b[0m     \u001b[38;5;28mprint\u001b[39m(table)\n\u001b[1;32m     18\u001b[0m \u001b[38;5;66;03m# call \"explain\" on a query\u001b[39;00m\n\u001b[0;32m---> 19\u001b[0m \u001b[43mcur\u001b[49m\u001b[38;5;241;43m.\u001b[39;49m\u001b[43mexecute\u001b[49m\u001b[43m(\u001b[49m\u001b[38;5;124;43m\"\u001b[39;49m\u001b[38;5;124;43mEXPLAIN SELECT * FROM test_table\u001b[39;49m\u001b[38;5;124;43m\"\u001b[39;49m\u001b[43m)\u001b[49m\n\u001b[1;32m     20\u001b[0m \u001b[38;5;28;01mfor\u001b[39;00m line \u001b[38;5;129;01min\u001b[39;00m cur\u001b[38;5;241m.\u001b[39mfetchall():\n\u001b[1;32m     21\u001b[0m     \u001b[38;5;28mprint\u001b[39m(line)\n",
      "\u001b[0;31mUndefinedTable\u001b[0m: relation \"test_table\" does not exist\nLINE 1: EXPLAIN SELECT * FROM test_table\n                              ^\n"
     ]
    }
   ],
   "source": [
    "\n",
    "# print all tables\n",
    "cur = conn.cursor()\n",
    "cur.execute(\"SELECT table_name FROM information_schema.tables WHERE table_schema = 'public'\")\n",
    "\n",
    "\n",
    "for table in cur.fetchall():\n",
    "    print(table)\n"
   ]
  },
  {
   "cell_type": "code",
   "execution_count": 21,
   "metadata": {},
   "outputs": [
    {
     "name": "stdout",
     "output_type": "stream",
     "text": [
      "           List of relations\n",
      " Schema |    Name     | Type  |  Owner  \n",
      "--------+-------------+-------+---------\n",
      " public | badges      | table | sueszli\n",
      " public | comments    | table | sueszli\n",
      " public | posthistory | table | sueszli\n",
      " public | postlinks   | table | sueszli\n",
      " public | posts       | table | sueszli\n",
      " public | r           | table | sueszli\n",
      " public | s           | table | sueszli\n",
      " public | t           | table | sueszli\n",
      " public | tags        | table | sueszli\n",
      " public | users       | table | sueszli\n",
      " public | votes       | table | sueszli\n",
      "(11 rows)\n",
      "\n",
      "                                        QUERY PLAN                                         \n",
      "-------------------------------------------------------------------------------------------\n",
      " Hash Left Join  (cost=2.38..3.93 rows=100 width=452)\n",
      "   Hash Cond: (s.usesysid = u.oid)\n",
      "   ->  Hash Left Join  (cost=1.05..2.32 rows=100 width=388)\n",
      "         Hash Cond: (s.datid = d.oid)\n",
      "         ->  Function Scan on pg_stat_get_activity s  (cost=0.00..1.00 rows=100 width=324)\n",
      "         ->  Hash  (cost=1.02..1.02 rows=2 width=68)\n",
      "               ->  Seq Scan on pg_database d  (cost=0.00..1.02 rows=2 width=68)\n",
      "   ->  Hash  (cost=1.15..1.15 rows=15 width=68)\n",
      "         ->  Seq Scan on pg_authid u  (cost=0.00..1.15 rows=15 width=68)\n",
      "(9 rows)\n",
      "\n"
     ]
    }
   ],
   "source": [
    "!psql postgres -c \"\\dt\"\n",
    "\n",
    "!psql postgres -c \"EXPLAIN SELECT * FROM pg_stat_activity\""
   ]
  }
 ],
 "metadata": {
  "kernelspec": {
   "display_name": "Python 3",
   "language": "python",
   "name": "python3"
  },
  "language_info": {
   "codemirror_mode": {
    "name": "ipython",
    "version": 3
   },
   "file_extension": ".py",
   "mimetype": "text/x-python",
   "name": "python",
   "nbconvert_exporter": "python",
   "pygments_lexer": "ipython3",
   "version": "3.11.8"
  }
 },
 "nbformat": 4,
 "nbformat_minor": 2
}
