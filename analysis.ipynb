{
 "cells": [
  {
   "cell_type": "markdown",
   "metadata": {},
   "source": [
    "# introduction to query execution plans\n",
    "\n",
    "whenever we write a sql query, the database system first parses our code to generate a query tree.\n",
    "\n",
    "then the optimizer modifies the query tree either based on relational algebra or cost-based optimization to generate an execution plan.\n",
    "\n",
    "the execution plan is a sequence of operations that the database system will perform to execute the query.\n",
    "\n",
    "the operations are things like \"scan this table\", \"filter out rows that don't satisfy this condition\", \"join these two tables\", and so on.\n",
    "\n",
    "using the `explain` command, we can see the execution plan that the system came up with for our query."
   ]
  },
  {
   "cell_type": "code",
   "execution_count": 41,
   "metadata": {},
   "outputs": [
    {
     "name": "stdout",
     "output_type": "stream",
     "text": [
      "Command:     EXPLAIN\n",
      "Description: show the execution plan of a statement\n",
      "Syntax:\n",
      "EXPLAIN [ ( option [, ...] ) ] statement\n",
      "EXPLAIN [ ANALYZE ] [ VERBOSE ] statement\n",
      "\n",
      "where option can be one of:\n",
      "\n",
      "    ANALYZE [ boolean ]\n",
      "    VERBOSE [ boolean ]\n",
      "    COSTS [ boolean ]\n",
      "    SETTINGS [ boolean ]\n",
      "    GENERIC_PLAN [ boolean ]\n",
      "    BUFFERS [ boolean ]\n",
      "    WAL [ boolean ]\n",
      "    TIMING [ boolean ]\n",
      "    SUMMARY [ boolean ]\n",
      "    FORMAT { TEXT | XML | JSON | YAML }\n",
      "\n",
      "URL: https://www.postgresql.org/docs/16/sql-explain.html\n",
      "\n"
     ]
    }
   ],
   "source": [
    "!psql postgres -c \"\\h explain\""
   ]
  },
  {
   "cell_type": "markdown",
   "metadata": {},
   "source": [
    "since the execution plan is a tree, you have to read it from the leaf nodes to the root node.\n",
    "\n",
    "each child node provides the input to the parent node.\n",
    "\n",
    "the root node is the final result of the query that aggregates all the intermediate results (and costs).\n",
    "\n",
    "learn more through the following resources:\n",
    "\n",
    "_docs_\n",
    "\n",
    "- https://www.postgresql.org/docs/current/sql-explain.html\n",
    "- https://www.postgresql.org/docs/9.5/using-explain.html\n",
    "- overview: https://www.postgresql.org/docs/current/index.html\n",
    "- performance tips: https://www.postgresql.org/docs/current/performance-tips.html\n",
    "- glossary: https://www.pgmustard.com/docs/explain\n",
    "\n",
    "_visualization tools_\n",
    "\n",
    "- https://explain.dalibo.com/\n",
    "     - source: https://github.com/dalibo/pev2\n",
    "- https://www.pgexplain.dev/ (pev2 but with a backend)\n",
    "     - source: https://github.com/lfborjas/postgres-explain-visualizer\n",
    "- https://tatiyants.com/pev/\n",
    "     - source: https://github.com/AlexTatiyants/pev/\n",
    "- https://explain.depesz.com/\n",
    "- https://explain-postgresql.com/ (not so good)"
   ]
  },
  {
   "cell_type": "markdown",
   "metadata": {},
   "source": [
    "# 1) what is the default triangle-join plan?\n",
    "\n",
    "what is the most common execution plan for the following query: $r \\bowtie s \\bowtie t$?"
   ]
  },
  {
   "cell_type": "code",
   "execution_count": 46,
   "metadata": {},
   "outputs": [
    {
     "name": "stdout",
     "output_type": "stream",
     "text": [
      "./reset.sh: line 10: return: can only `return' from a function or sourced script\n",
      "Did not find any relations.\n",
      "ERROR:  cannot drop the currently open database\n",
      "ERROR:  current user cannot be dropped\n"
     ]
    }
   ],
   "source": [
    "# reset the environment\n",
    "!chmod +x ./reset.sh && ./reset.sh >> /dev/null"
   ]
  },
  {
   "cell_type": "code",
   "execution_count": 43,
   "metadata": {},
   "outputs": [
    {
     "name": "stdout",
     "output_type": "stream",
     "text": [
      "                                      List of relations\n",
      " Schema |    Name     | Type  |  Owner  | Persistence | Access method |  Size   | Description \n",
      "--------+-------------+-------+---------+-------------+---------------+---------+-------------\n",
      " public | badges      | table | sueszli | permanent   | heap          | 2144 kB | \n",
      " public | comments    | table | sueszli | permanent   | heap          | 8288 kB | \n",
      " public | posthistory | table | sueszli | permanent   | heap          | 31 MB   | \n",
      " public | postlinks   | table | sueszli | permanent   | heap          | 152 kB  | \n",
      " public | posts       | table | sueszli | permanent   | heap          | 15 MB   | \n",
      " public | r           | table | sueszli | permanent   | heap          | 1024 kB | \n",
      " public | s           | table | sueszli | permanent   | heap          | 128 kB  | \n",
      " public | t           | table | sueszli | permanent   | heap          | 1024 kB | \n",
      " public | tags        | table | sueszli | permanent   | heap          | 56 kB   | \n",
      " public | users       | table | sueszli | permanent   | heap          | 4248 kB | \n",
      " public | votes       | table | sueszli | permanent   | heap          | 4504 kB | \n",
      "(11 rows)\n",
      "\n"
     ]
    }
   ],
   "source": [
    "# print all tables\n",
    "!psql postgres -c \"\\dt+\""
   ]
  },
  {
   "cell_type": "code",
   "execution_count": 44,
   "metadata": {},
   "outputs": [
    {
     "name": "stdout",
     "output_type": "stream",
     "text": [
      "                 Table \"public.r\"\n",
      " Column |  Type   | Collation | Nullable | Default \n",
      "--------+---------+-----------+----------+---------\n",
      " a      | integer |           |          | \n",
      " b      | integer |           |          | \n",
      "\n",
      "                 Table \"public.s\"\n",
      " Column |  Type   | Collation | Nullable | Default \n",
      "--------+---------+-----------+----------+---------\n",
      " b      | integer |           |          | \n",
      " c      | integer |           |          | \n",
      "\n",
      "                 Table \"public.t\"\n",
      " Column |  Type   | Collation | Nullable | Default \n",
      "--------+---------+-----------+----------+---------\n",
      " a      | integer |           |          | \n",
      " c      | integer |           |          | \n",
      "\n"
     ]
    }
   ],
   "source": [
    "# print schema of r, s, t tables\n",
    "!psql postgres -c \"\\d r\"\n",
    "!psql postgres -c \"\\d s\"\n",
    "!psql postgres -c \"\\d t\""
   ]
  },
  {
   "cell_type": "code",
   "execution_count": 101,
   "metadata": {},
   "outputs": [
    {
     "name": "stdout",
     "output_type": "stream",
     "text": [
      "                                                           QUERY PLAN                                                           \n",
      "--------------------------------------------------------------------------------------------------------------------------------\n",
      " Merge Join  (cost=52724.37..89027.34 rows=2010918 width=12) (actual time=127.162..322.327 rows=2008672 loops=1)\n",
      "   Merge Cond: ((t.c = s.c) AND (t.a = r.a))\n",
      "   ->  Sort  (cost=1717.77..1767.77 rows=20000 width=8) (actual time=7.572..8.591 rows=10264 loops=1)\n",
      "         Sort Key: t.c, t.a\n",
      "         Sort Method: quicksort  Memory: 1394kB\n",
      "         ->  Seq Scan on t  (cost=0.00..289.00 rows=20000 width=8) (actual time=0.009..1.607 rows=20000 loops=1)\n",
      "   ->  Materialize  (cost=51006.60..53076.46 rows=413972 width=12) (actual time=119.581..199.888 rows=2216058 loops=1)\n",
      "         ->  Sort  (cost=51006.60..52041.53 rows=413972 width=12) (actual time=119.578..142.644 rows=413972 loops=1)\n",
      "               Sort Key: s.c, r.a\n",
      "               Sort Method: external merge  Disk: 8960kB\n",
      "               ->  Hash Join  (cost=54.00..5307.72 rows=413972 width=12) (actual time=0.525..26.869 rows=413972 loops=1)\n",
      "                     Hash Cond: (r.b = s.b)\n",
      "                     ->  Seq Scan on r  (cost=0.00..289.00 rows=20000 width=8) (actual time=0.015..0.970 rows=20000 loops=1)\n",
      "                     ->  Hash  (cost=29.00..29.00 rows=2000 width=8) (actual time=0.492..0.492 rows=2000 loops=1)\n",
      "                           Buckets: 2048  Batches: 1  Memory Usage: 95kB\n",
      "                           ->  Seq Scan on s  (cost=0.00..29.00 rows=2000 width=8) (actual time=0.012..0.254 rows=2000 loops=1)\n",
      " Planning Time: 0.532 ms\n",
      " Execution Time: 358.284 ms\n",
      "(18 rows)\n",
      "\n"
     ]
    }
   ],
   "source": [
    "!psql postgres -c \"explain analyze SELECT a,b,c FROM r NATURAL JOIN s NATURAL JOIN t;\""
   ]
  },
  {
   "cell_type": "code",
   "execution_count": 103,
   "metadata": {},
   "outputs": [
    {
     "name": "stdout",
     "output_type": "stream",
     "text": [
      "                 QUERY PLAN                  \n",
      "---------------------------------------------\n",
      " Merge Join\n",
      "   Merge Cond: ((t.c = s.c) AND (t.a = r.a))\n",
      "   ->  Sort\n",
      "         Sort Key: t.c, t.a\n",
      "         ->  Seq Scan on t\n",
      "   ->  Materialize\n",
      "         ->  Sort\n",
      "               Sort Key: s.c, r.a\n",
      "               ->  Hash Join\n",
      "                     Hash Cond: (r.b = s.b)\n",
      "                     ->  Seq Scan on r\n",
      "                     ->  Hash\n",
      "                           ->  Seq Scan on s\n",
      "(13 rows)\n",
      "\n"
     ]
    }
   ],
   "source": [
    "!psql postgres -c \"explain (costs off) SELECT a,b,c FROM r NATURAL JOIN s NATURAL JOIN t;\""
   ]
  },
  {
   "cell_type": "markdown",
   "metadata": {},
   "source": [
    "the default join strategy for $r \\bowtie s \\bowtie t$:\n",
    "\n",
    "1. hash join $r \\bowtie s$.\n",
    "\n",
    "    with $s$ in memory.\n",
    "    \n",
    "    then sort the result and materialize it (turn it into a table so it doesn't have to be recomputed).\n",
    "\n",
    "2. sort $t$ and merge join the result of step 1.\n",
    "\n",
    "\n",
    "<br>\n",
    "\n",
    "_what is a hash join?_\n",
    "\n",
    "assume we want to equi join: $R \\bowtie_{\\text{A}=\\text{B}} S$\n",
    "\n",
    "- 1) partition phase:\n",
    "\t- find a hash function that can map values in the join columns to a buffer frame index between $[1;B\\text{-}1]$. → the buffer frames we map the rows to are called \"buckets\" and the 1 remaining buffer frame is used to read new pages in.\n",
    "\t- read each page $p_R$ of $R$ to memory. then hash the join value of each row to find the right bucket to store a pointer in. → if buffer frames overflow, write them back to disk.\n",
    "\t- repeat for $p_S$ of $S$.\n",
    "\t- total cost: $2 \\cdot (b_R  + b_S)$ → factor of 2 because of initial reading and writing back the potentially full buckets to disk.\n",
    "- 2) probing phase:\n",
    "\t- assuming $R_i$ and $S_i$ are all rows in the $i$ th-bucket (and $R_i$ is the smaller one of them): read $R_i$ to $B\\text-2$ buffer frames. → if not possible, either hash recursively or try another algorithm. the 2 remaining buffer frames are used to read new $S_i$ pages in and store the final result.\n",
    "\t- read each page of $S_i$ into memory. then check each row for matches with $R_i$.\n",
    "\t- if a matching row is found, write it into the buffer frame dedicated to results.\n",
    "\t- total cost: $b_i  + b_s$\n",
    "- **total cost of both phases**: $3 \\cdot (b_R  + b_S)$"
   ]
  },
  {
   "cell_type": "markdown",
   "metadata": {},
   "source": []
  }
 ],
 "metadata": {
  "kernelspec": {
   "display_name": "Python 3",
   "language": "python",
   "name": "python3"
  },
  "language_info": {
   "codemirror_mode": {
    "name": "ipython",
    "version": 3
   },
   "file_extension": ".py",
   "mimetype": "text/x-python",
   "name": "python",
   "nbconvert_exporter": "python",
   "pygments_lexer": "ipython3",
   "version": "3.11.8"
  }
 },
 "nbformat": 4,
 "nbformat_minor": 2
}
