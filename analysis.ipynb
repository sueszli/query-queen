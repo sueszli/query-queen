{
 "cells": [
  {
   "cell_type": "markdown",
   "metadata": {},
   "source": [
    "# introduction to query execution plans\n",
    "\n",
    "whenever we write a sql query, the database system first parses our code to generate a query tree.\n",
    "\n",
    "then the optimizer modifies the query tree either based on relational algebra or cost-based optimization to generate an execution plan.\n",
    "\n",
    "the execution plan is a sequence of operations that the database system will perform to execute the query.\n",
    "\n",
    "the operations are things like \"scan this table\", \"filter out rows that don't satisfy this condition\", \"join these two tables\", and so on.\n",
    "\n",
    "using the `explain` command, we can see the execution plan that the system came up with for our query."
   ]
  },
  {
   "cell_type": "code",
   "execution_count": 41,
   "metadata": {},
   "outputs": [
    {
     "name": "stdout",
     "output_type": "stream",
     "text": [
      "Command:     EXPLAIN\n",
      "Description: show the execution plan of a statement\n",
      "Syntax:\n",
      "EXPLAIN [ ( option [, ...] ) ] statement\n",
      "EXPLAIN [ ANALYZE ] [ VERBOSE ] statement\n",
      "\n",
      "where option can be one of:\n",
      "\n",
      "    ANALYZE [ boolean ]\n",
      "    VERBOSE [ boolean ]\n",
      "    COSTS [ boolean ]\n",
      "    SETTINGS [ boolean ]\n",
      "    GENERIC_PLAN [ boolean ]\n",
      "    BUFFERS [ boolean ]\n",
      "    WAL [ boolean ]\n",
      "    TIMING [ boolean ]\n",
      "    SUMMARY [ boolean ]\n",
      "    FORMAT { TEXT | XML | JSON | YAML }\n",
      "\n",
      "URL: https://www.postgresql.org/docs/16/sql-explain.html\n",
      "\n"
     ]
    }
   ],
   "source": [
    "!psql postgres -c \"\\h explain\""
   ]
  },
  {
   "cell_type": "markdown",
   "metadata": {},
   "source": [
    "since the execution plan is a tree, you have to read it from the leaf nodes to the root node.\n",
    "\n",
    "each child node provides the input to the parent node.\n",
    "\n",
    "the root node is the final result of the query that aggregates all the intermediate results (and costs).\n",
    "\n",
    "learn more through the following resources:\n",
    "\n",
    "_docs_\n",
    "\n",
    "- https://www.postgresql.org/docs/current/sql-explain.html\n",
    "- https://www.postgresql.org/docs/9.5/using-explain.html\n",
    "- overview: https://www.postgresql.org/docs/current/index.html\n",
    "- performance tips: https://www.postgresql.org/docs/current/performance-tips.html\n",
    "- glossary: https://www.pgmustard.com/docs/explain\n",
    "\n",
    "_visualization tools_\n",
    "\n",
    "- https://tatiyants.com/pev/\n",
    "     - source: https://github.com/AlexTatiyants/pev/\n",
    "- https://explain.dalibo.com/\n",
    "     - source: https://github.com/dalibo/pev2\n",
    "- https://www.pgexplain.dev/ (pev2 but with a backend)\n",
    "     - source: https://github.com/lfborjas/postgres-explain-visualizer\n",
    "- https://explain.depesz.com/\n",
    "- https://explain-postgresql.com/"
   ]
  },
  {
   "cell_type": "markdown",
   "metadata": {},
   "source": [
    "# 1) what is the default triangle-joint execution plan?\n",
    "\n",
    "what is the most common execution plan for the following query: $r \\bowtie s \\bowtie t$"
   ]
  },
  {
   "cell_type": "code",
   "execution_count": 46,
   "metadata": {},
   "outputs": [
    {
     "name": "stdout",
     "output_type": "stream",
     "text": [
      "./reset.sh: line 10: return: can only `return' from a function or sourced script\n",
      "Did not find any relations.\n",
      "ERROR:  cannot drop the currently open database\n",
      "ERROR:  current user cannot be dropped\n"
     ]
    }
   ],
   "source": [
    "# reset the environment\n",
    "!chmod +x ./reset.sh && ./reset.sh >> /dev/null"
   ]
  },
  {
   "cell_type": "code",
   "execution_count": 43,
   "metadata": {},
   "outputs": [
    {
     "name": "stdout",
     "output_type": "stream",
     "text": [
      "                                      List of relations\n",
      " Schema |    Name     | Type  |  Owner  | Persistence | Access method |  Size   | Description \n",
      "--------+-------------+-------+---------+-------------+---------------+---------+-------------\n",
      " public | badges      | table | sueszli | permanent   | heap          | 2144 kB | \n",
      " public | comments    | table | sueszli | permanent   | heap          | 8288 kB | \n",
      " public | posthistory | table | sueszli | permanent   | heap          | 31 MB   | \n",
      " public | postlinks   | table | sueszli | permanent   | heap          | 152 kB  | \n",
      " public | posts       | table | sueszli | permanent   | heap          | 15 MB   | \n",
      " public | r           | table | sueszli | permanent   | heap          | 1024 kB | \n",
      " public | s           | table | sueszli | permanent   | heap          | 128 kB  | \n",
      " public | t           | table | sueszli | permanent   | heap          | 1024 kB | \n",
      " public | tags        | table | sueszli | permanent   | heap          | 56 kB   | \n",
      " public | users       | table | sueszli | permanent   | heap          | 4248 kB | \n",
      " public | votes       | table | sueszli | permanent   | heap          | 4504 kB | \n",
      "(11 rows)\n",
      "\n"
     ]
    }
   ],
   "source": [
    "# print all tables\n",
    "!psql postgres -c \"\\dt+\""
   ]
  },
  {
   "cell_type": "code",
   "execution_count": 44,
   "metadata": {},
   "outputs": [
    {
     "name": "stdout",
     "output_type": "stream",
     "text": [
      "                 Table \"public.r\"\n",
      " Column |  Type   | Collation | Nullable | Default \n",
      "--------+---------+-----------+----------+---------\n",
      " a      | integer |           |          | \n",
      " b      | integer |           |          | \n",
      "\n",
      "                 Table \"public.s\"\n",
      " Column |  Type   | Collation | Nullable | Default \n",
      "--------+---------+-----------+----------+---------\n",
      " b      | integer |           |          | \n",
      " c      | integer |           |          | \n",
      "\n",
      "                 Table \"public.t\"\n",
      " Column |  Type   | Collation | Nullable | Default \n",
      "--------+---------+-----------+----------+---------\n",
      " a      | integer |           |          | \n",
      " c      | integer |           |          | \n",
      "\n"
     ]
    }
   ],
   "source": [
    "# print schema of r, s, t tables\n",
    "!psql postgres -c \"\\d r\"\n",
    "!psql postgres -c \"\\d s\"\n",
    "!psql postgres -c \"\\d t\""
   ]
  },
  {
   "cell_type": "code",
   "execution_count": null,
   "metadata": {},
   "outputs": [],
   "source": []
  }
 ],
 "metadata": {
  "kernelspec": {
   "display_name": "Python 3",
   "language": "python",
   "name": "python3"
  },
  "language_info": {
   "codemirror_mode": {
    "name": "ipython",
    "version": 3
   },
   "file_extension": ".py",
   "mimetype": "text/x-python",
   "name": "python",
   "nbconvert_exporter": "python",
   "pygments_lexer": "ipython3",
   "version": "3.11.8"
  }
 },
 "nbformat": 4,
 "nbformat_minor": 2
}
