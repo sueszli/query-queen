{
 "cells": [
  {
   "cell_type": "markdown",
   "metadata": {},
   "source": [
    "# query execution plans"
   ]
  },
  {
   "cell_type": "code",
   "execution_count": 15,
   "metadata": {},
   "outputs": [
    {
     "name": "stdout",
     "output_type": "stream",
     "text": [
      "./reset.sh: line 10: return: can only `return' from a function or sourced script\n",
      "Did not find any relations.\n",
      "ERROR:  cannot drop the currently open database\n",
      "ERROR:  current user cannot be dropped\n"
     ]
    }
   ],
   "source": [
    "# reset the environment\n",
    "!chmod +x ./reset.sh && ./reset.sh >> /dev/null"
   ]
  },
  {
   "cell_type": "code",
   "execution_count": 18,
   "metadata": {},
   "outputs": [
    {
     "name": "stdout",
     "output_type": "stream",
     "text": [
      "                                      List of relations\n",
      " Schema |    Name     | Type  |  Owner  | Persistence | Access method |  Size   | Description \n",
      "--------+-------------+-------+---------+-------------+---------------+---------+-------------\n",
      " public | badges      | table | sueszli | permanent   | heap          | 2144 kB | \n",
      " public | comments    | table | sueszli | permanent   | heap          | 8288 kB | \n",
      " public | posthistory | table | sueszli | permanent   | heap          | 31 MB   | \n",
      " public | postlinks   | table | sueszli | permanent   | heap          | 152 kB  | \n",
      " public | posts       | table | sueszli | permanent   | heap          | 15 MB   | \n",
      " public | r           | table | sueszli | permanent   | heap          | 1024 kB | \n",
      " public | s           | table | sueszli | permanent   | heap          | 128 kB  | \n",
      " public | t           | table | sueszli | permanent   | heap          | 1024 kB | \n",
      " public | tags        | table | sueszli | permanent   | heap          | 56 kB   | \n",
      " public | users       | table | sueszli | permanent   | heap          | 4248 kB | \n",
      " public | votes       | table | sueszli | permanent   | heap          | 4504 kB | \n",
      "(11 rows)\n",
      "\n"
     ]
    }
   ],
   "source": [
    "# show tables\n",
    "!psql postgres -c \"\\dt+\""
   ]
  },
  {
   "cell_type": "code",
   "execution_count": 19,
   "metadata": {},
   "outputs": [
    {
     "name": "stdout",
     "output_type": "stream",
     "text": [
      "                 Table \"public.r\"\n",
      " Column |  Type   | Collation | Nullable | Default \n",
      "--------+---------+-----------+----------+---------\n",
      " a      | integer |           |          | \n",
      " b      | integer |           |          | \n",
      "\n",
      "                 Table \"public.s\"\n",
      " Column |  Type   | Collation | Nullable | Default \n",
      "--------+---------+-----------+----------+---------\n",
      " b      | integer |           |          | \n",
      " c      | integer |           |          | \n",
      "\n",
      "                 Table \"public.t\"\n",
      " Column |  Type   | Collation | Nullable | Default \n",
      "--------+---------+-----------+----------+---------\n",
      " a      | integer |           |          | \n",
      " c      | integer |           |          | \n",
      "\n"
     ]
    }
   ],
   "source": [
    "# show schema of r, s, t tables\n",
    "!psql postgres -c \"\\d r\"\n",
    "!psql postgres -c \"\\d s\"\n",
    "!psql postgres -c \"\\d t\""
   ]
  },
  {
   "cell_type": "markdown",
   "metadata": {},
   "source": [
    "let's look at the triangle join $R \\bowtie S \\bowtie T$.\n",
    "\n"
   ]
  }
 ],
 "metadata": {
  "kernelspec": {
   "display_name": "Python 3",
   "language": "python",
   "name": "python3"
  },
  "language_info": {
   "codemirror_mode": {
    "name": "ipython",
    "version": 3
   },
   "file_extension": ".py",
   "mimetype": "text/x-python",
   "name": "python",
   "nbconvert_exporter": "python",
   "pygments_lexer": "ipython3",
   "version": "3.11.8"
  }
 },
 "nbformat": 4,
 "nbformat_minor": 2
}
