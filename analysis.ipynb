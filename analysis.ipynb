{
 "cells": [
  {
   "cell_type": "markdown",
   "metadata": {},
   "source": [
    "# introduction to query execution plans\n",
    "\n",
    "whenever we write a sql query, the database system first parses our code to generate a query tree.\n",
    "\n",
    "then the optimizer modifies the query tree either based on relational algebra or cost-based optimization to generate an execution plan.\n",
    "\n",
    "the execution plan is a sequence of operations that the database system will perform to execute the query.\n",
    "\n",
    "the operations are things like \"scan this table\", \"filter out rows that don't satisfy this condition\", \"join these two tables\", and so on.\n",
    "\n",
    "using the `explain` command, we can see the execution plan that the system came up with for our query."
   ]
  },
  {
   "cell_type": "code",
   "execution_count": 41,
   "metadata": {},
   "outputs": [
    {
     "name": "stdout",
     "output_type": "stream",
     "text": [
      "Command:     EXPLAIN\n",
      "Description: show the execution plan of a statement\n",
      "Syntax:\n",
      "EXPLAIN [ ( option [, ...] ) ] statement\n",
      "EXPLAIN [ ANALYZE ] [ VERBOSE ] statement\n",
      "\n",
      "where option can be one of:\n",
      "\n",
      "    ANALYZE [ boolean ]\n",
      "    VERBOSE [ boolean ]\n",
      "    COSTS [ boolean ]\n",
      "    SETTINGS [ boolean ]\n",
      "    GENERIC_PLAN [ boolean ]\n",
      "    BUFFERS [ boolean ]\n",
      "    WAL [ boolean ]\n",
      "    TIMING [ boolean ]\n",
      "    SUMMARY [ boolean ]\n",
      "    FORMAT { TEXT | XML | JSON | YAML }\n",
      "\n",
      "URL: https://www.postgresql.org/docs/16/sql-explain.html\n",
      "\n"
     ]
    }
   ],
   "source": [
    "!psql postgres -c \"\\h explain\""
   ]
  },
  {
   "cell_type": "markdown",
   "metadata": {},
   "source": [
    "since the execution plan is a tree, you have to read it from the leaf nodes to the root node.\n",
    "\n",
    "each child node provides the input to the parent node.\n",
    "\n",
    "the root node is the final result of the query that aggregates all the intermediate results (and costs).\n",
    "\n",
    "learn more through the following resources:\n",
    "\n",
    "_docs_\n",
    "\n",
    "- https://www.postgresql.org/docs/current/sql-explain.html\n",
    "- https://www.postgresql.org/docs/9.5/using-explain.html\n",
    "- overview: https://www.postgresql.org/docs/current/index.html\n",
    "- performance tips: https://www.postgresql.org/docs/current/performance-tips.html\n",
    "- glossary: https://www.pgmustard.com/docs/explain\n",
    "\n",
    "_visualization tools_\n",
    "\n",
    "- https://explain.dalibo.com/\n",
    "     - source: https://github.com/dalibo/pev2\n",
    "- https://www.pgexplain.dev/ (pev2 but with a backend)\n",
    "     - source: https://github.com/lfborjas/postgres-explain-visualizer\n",
    "- https://tatiyants.com/pev/\n",
    "     - source: https://github.com/AlexTatiyants/pev/\n",
    "- https://explain.depesz.com/\n",
    "- https://explain-postgresql.com/ (not so good)"
   ]
  },
  {
   "cell_type": "markdown",
   "metadata": {},
   "source": [
    "# 1) what is the default triangle-join plan?\n",
    "\n",
    "what is the most common execution plan for the following query: $r \\bowtie s \\bowtie t$"
   ]
  },
  {
   "cell_type": "code",
   "execution_count": 46,
   "metadata": {},
   "outputs": [
    {
     "name": "stdout",
     "output_type": "stream",
     "text": [
      "./reset.sh: line 10: return: can only `return' from a function or sourced script\n",
      "Did not find any relations.\n",
      "ERROR:  cannot drop the currently open database\n",
      "ERROR:  current user cannot be dropped\n"
     ]
    }
   ],
   "source": [
    "# reset the environment\n",
    "!chmod +x ./reset.sh && ./reset.sh >> /dev/null"
   ]
  },
  {
   "cell_type": "code",
   "execution_count": 43,
   "metadata": {},
   "outputs": [
    {
     "name": "stdout",
     "output_type": "stream",
     "text": [
      "                                      List of relations\n",
      " Schema |    Name     | Type  |  Owner  | Persistence | Access method |  Size   | Description \n",
      "--------+-------------+-------+---------+-------------+---------------+---------+-------------\n",
      " public | badges      | table | sueszli | permanent   | heap          | 2144 kB | \n",
      " public | comments    | table | sueszli | permanent   | heap          | 8288 kB | \n",
      " public | posthistory | table | sueszli | permanent   | heap          | 31 MB   | \n",
      " public | postlinks   | table | sueszli | permanent   | heap          | 152 kB  | \n",
      " public | posts       | table | sueszli | permanent   | heap          | 15 MB   | \n",
      " public | r           | table | sueszli | permanent   | heap          | 1024 kB | \n",
      " public | s           | table | sueszli | permanent   | heap          | 128 kB  | \n",
      " public | t           | table | sueszli | permanent   | heap          | 1024 kB | \n",
      " public | tags        | table | sueszli | permanent   | heap          | 56 kB   | \n",
      " public | users       | table | sueszli | permanent   | heap          | 4248 kB | \n",
      " public | votes       | table | sueszli | permanent   | heap          | 4504 kB | \n",
      "(11 rows)\n",
      "\n"
     ]
    }
   ],
   "source": [
    "# print all tables\n",
    "!psql postgres -c \"\\dt+\""
   ]
  },
  {
   "cell_type": "code",
   "execution_count": 44,
   "metadata": {},
   "outputs": [
    {
     "name": "stdout",
     "output_type": "stream",
     "text": [
      "                 Table \"public.r\"\n",
      " Column |  Type   | Collation | Nullable | Default \n",
      "--------+---------+-----------+----------+---------\n",
      " a      | integer |           |          | \n",
      " b      | integer |           |          | \n",
      "\n",
      "                 Table \"public.s\"\n",
      " Column |  Type   | Collation | Nullable | Default \n",
      "--------+---------+-----------+----------+---------\n",
      " b      | integer |           |          | \n",
      " c      | integer |           |          | \n",
      "\n",
      "                 Table \"public.t\"\n",
      " Column |  Type   | Collation | Nullable | Default \n",
      "--------+---------+-----------+----------+---------\n",
      " a      | integer |           |          | \n",
      " c      | integer |           |          | \n",
      "\n"
     ]
    }
   ],
   "source": [
    "# print schema of r, s, t tables\n",
    "!psql postgres -c \"\\d r\"\n",
    "!psql postgres -c \"\\d s\"\n",
    "!psql postgres -c \"\\d t\""
   ]
  },
  {
   "cell_type": "code",
   "execution_count": 85,
   "metadata": {},
   "outputs": [
    {
     "name": "stdout",
     "output_type": "stream",
     "text": [
      "                 QUERY PLAN                  \n",
      "---------------------------------------------\n",
      " Merge Join\n",
      "   Merge Cond: ((t.c = s.c) AND (t.a = r.a))\n",
      "   ->  Sort\n",
      "         Sort Key: t.c, t.a\n",
      "         ->  Seq Scan on t\n",
      "   ->  Materialize\n",
      "         ->  Sort\n",
      "               Sort Key: s.c, r.a\n",
      "               ->  Hash Join\n",
      "                     Hash Cond: (r.b = s.b)\n",
      "                     ->  Seq Scan on r\n",
      "                     ->  Hash\n",
      "                           ->  Seq Scan on s\n",
      "(13 rows)\n",
      "\n"
     ]
    }
   ],
   "source": [
    "import os\n",
    "\n",
    "query = \"explain (costs off) SELECT a,b,c FROM r NATURAL JOIN s NATURAL JOIN t;\"\n",
    "\n",
    "last_plan = None\n",
    "for i in range(20):\n",
    "    plan = os.popen(f'psql postgres -c \"{query}\"').read()\n",
    "    if last_plan is None:\n",
    "        last_plan = plan\n",
    "        continue\n",
    "    assert last_plan == plan, \"found different plan\"\n",
    "\n",
    "!psql postgres -c \"{query}\""
   ]
  },
  {
   "cell_type": "markdown",
   "metadata": {},
   "source": [
    "without the `analayze` flag, the `explain` command will not actually execute the query and we will always see the same execution plan.\n",
    "\n",
    "in this case:"
   ]
  },
  {
   "cell_type": "code",
   "execution_count": 71,
   "metadata": {},
   "outputs": [
    {
     "name": "stdout",
     "output_type": "stream",
     "text": [
      "                        QUERY PLAN                         \n",
      "-----------------------------------------------------------\n",
      " [                                                        +\n",
      "   {                                                      +\n",
      "     \"Plan\": {                                            +\n",
      "       \"Node Type\": \"Merge Join\",                         +\n",
      "       \"Parallel Aware\": false,                           +\n",
      "       \"Async Capable\": false,                            +\n",
      "       \"Join Type\": \"Inner\",                              +\n",
      "       \"Actual Startup Time\": 130.294,                    +\n",
      "       \"Actual Total Time\": 316.728,                      +\n",
      "       \"Actual Rows\": 1969276,                            +\n",
      "       \"Actual Loops\": 1,                                 +\n",
      "       \"Inner Unique\": false,                             +\n",
      "       \"Merge Cond\": \"((t.c = s.c) AND (t.a = r.a))\",     +\n",
      "       \"Plans\": [                                         +\n",
      "         {                                                +\n",
      "           \"Node Type\": \"Sort\",                           +\n",
      "           \"Parent Relationship\": \"Outer\",                +\n",
      "           \"Parallel Aware\": false,                       +\n",
      "           \"Async Capable\": false,                        +\n",
      "           \"Actual Startup Time\": 15.112,                 +\n",
      "           \"Actual Total Time\": 15.926,                   +\n",
      "           \"Actual Rows\": 10255,                          +\n",
      "           \"Actual Loops\": 1,                             +\n",
      "           \"Sort Key\": [\"t.c\", \"t.a\"],                    +\n",
      "           \"Sort Method\": \"quicksort\",                    +\n",
      "           \"Sort Space Used\": 1394,                       +\n",
      "           \"Sort Space Type\": \"Memory\",                   +\n",
      "           \"Plans\": [                                     +\n",
      "             {                                            +\n",
      "               \"Node Type\": \"Seq Scan\",                   +\n",
      "               \"Parent Relationship\": \"Outer\",            +\n",
      "               \"Parallel Aware\": false,                   +\n",
      "               \"Async Capable\": false,                    +\n",
      "               \"Relation Name\": \"t\",                      +\n",
      "               \"Alias\": \"t\",                              +\n",
      "               \"Actual Startup Time\": 0.015,              +\n",
      "               \"Actual Total Time\": 3.728,                +\n",
      "               \"Actual Rows\": 20000,                      +\n",
      "               \"Actual Loops\": 1                          +\n",
      "             }                                            +\n",
      "           ]                                              +\n",
      "         },                                               +\n",
      "         {                                                +\n",
      "           \"Node Type\": \"Materialize\",                    +\n",
      "           \"Parent Relationship\": \"Inner\",                +\n",
      "           \"Parallel Aware\": false,                       +\n",
      "           \"Async Capable\": false,                        +\n",
      "           \"Actual Startup Time\": 115.173,                +\n",
      "           \"Actual Total Time\": 191.523,                  +\n",
      "           \"Actual Rows\": 2163784,                        +\n",
      "           \"Actual Loops\": 1,                             +\n",
      "           \"Plans\": [                                     +\n",
      "             {                                            +\n",
      "               \"Node Type\": \"Sort\",                       +\n",
      "               \"Parent Relationship\": \"Outer\",            +\n",
      "               \"Parallel Aware\": false,                   +\n",
      "               \"Async Capable\": false,                    +\n",
      "               \"Actual Startup Time\": 115.111,            +\n",
      "               \"Actual Total Time\": 136.565,              +\n",
      "               \"Actual Rows\": 395108,                     +\n",
      "               \"Actual Loops\": 1,                         +\n",
      "               \"Sort Key\": [\"s.c\", \"r.a\"],                +\n",
      "               \"Sort Method\": \"external merge\",           +\n",
      "               \"Sort Space Used\": 8552,                   +\n",
      "               \"Sort Space Type\": \"Disk\",                 +\n",
      "               \"Plans\": [                                 +\n",
      "                 {                                        +\n",
      "                   \"Node Type\": \"Hash Join\",              +\n",
      "                   \"Parent Relationship\": \"Outer\",        +\n",
      "                   \"Parallel Aware\": false,               +\n",
      "                   \"Async Capable\": false,                +\n",
      "                   \"Join Type\": \"Inner\",                  +\n",
      "                   \"Actual Startup Time\": 0.855,          +\n",
      "                   \"Actual Total Time\": 26.119,           +\n",
      "                   \"Actual Rows\": 395108,                 +\n",
      "                   \"Actual Loops\": 1,                     +\n",
      "                   \"Inner Unique\": false,                 +\n",
      "                   \"Hash Cond\": \"(r.b = s.b)\",            +\n",
      "                   \"Plans\": [                             +\n",
      "                     {                                    +\n",
      "                       \"Node Type\": \"Seq Scan\",           +\n",
      "                       \"Parent Relationship\": \"Outer\",    +\n",
      "                       \"Parallel Aware\": false,           +\n",
      "                       \"Async Capable\": false,            +\n",
      "                       \"Relation Name\": \"r\",              +\n",
      "                       \"Alias\": \"r\",                      +\n",
      "                       \"Actual Startup Time\": 0.068,      +\n",
      "                       \"Actual Total Time\": 1.026,        +\n",
      "                       \"Actual Rows\": 20000,              +\n",
      "                       \"Actual Loops\": 1                  +\n",
      "                     },                                   +\n",
      "                     {                                    +\n",
      "                       \"Node Type\": \"Hash\",               +\n",
      "                       \"Parent Relationship\": \"Inner\",    +\n",
      "                       \"Parallel Aware\": false,           +\n",
      "                       \"Async Capable\": false,            +\n",
      "                       \"Actual Startup Time\": 0.735,      +\n",
      "                       \"Actual Total Time\": 0.735,        +\n",
      "                       \"Actual Rows\": 2000,               +\n",
      "                       \"Actual Loops\": 1,                 +\n",
      "                       \"Hash Buckets\": 2048,              +\n",
      "                       \"Original Hash Buckets\": 2048,     +\n",
      "                       \"Hash Batches\": 1,                 +\n",
      "                       \"Original Hash Batches\": 1,        +\n",
      "                       \"Peak Memory Usage\": 95,           +\n",
      "                       \"Plans\": [                         +\n",
      "                         {                                +\n",
      "                           \"Node Type\": \"Seq Scan\",       +\n",
      "                           \"Parent Relationship\": \"Outer\",+\n",
      "                           \"Parallel Aware\": false,       +\n",
      "                           \"Async Capable\": false,        +\n",
      "                           \"Relation Name\": \"s\",          +\n",
      "                           \"Alias\": \"s\",                  +\n",
      "                           \"Actual Startup Time\": 0.020,  +\n",
      "                           \"Actual Total Time\": 0.344,    +\n",
      "                           \"Actual Rows\": 2000,           +\n",
      "                           \"Actual Loops\": 1              +\n",
      "                         }                                +\n",
      "                       ]                                  +\n",
      "                     }                                    +\n",
      "                   ]                                      +\n",
      "                 }                                        +\n",
      "               ]                                          +\n",
      "             }                                            +\n",
      "           ]                                              +\n",
      "         }                                                +\n",
      "       ]                                                  +\n",
      "     },                                                   +\n",
      "     \"Planning Time\": 1.275,                              +\n",
      "     \"Triggers\": [                                        +\n",
      "     ],                                                   +\n",
      "     \"Execution Time\": 351.650                            +\n",
      "   }                                                      +\n",
      " ]\n",
      "(1 row)\n",
      "\n"
     ]
    },
    {
     "ename": "AssertionError",
     "evalue": "found different plan",
     "output_type": "error",
     "traceback": [
      "\u001b[0;31m---------------------------------------------------------------------------\u001b[0m",
      "\u001b[0;31mAssertionError\u001b[0m                            Traceback (most recent call last)",
      "Cell \u001b[0;32mIn[71], line 14\u001b[0m\n\u001b[1;32m     12\u001b[0m     last_plan \u001b[38;5;241m=\u001b[39m plan\n\u001b[1;32m     13\u001b[0m     \u001b[38;5;28;01mcontinue\u001b[39;00m\n\u001b[0;32m---> 14\u001b[0m \u001b[38;5;28;01massert\u001b[39;00m last_plan \u001b[38;5;241m==\u001b[39m plan, \u001b[38;5;124m\"\u001b[39m\u001b[38;5;124mfound different plan\u001b[39m\u001b[38;5;124m\"\u001b[39m\n",
      "\u001b[0;31mAssertionError\u001b[0m: found different plan"
     ]
    }
   ],
   "source": [
    "import os\n",
    "\n",
    "query = \"SELECT a,b,c FROM r NATURAL JOIN s NATURAL JOIN t;\"\n",
    "full_query = f\"explain (analyze, costs off, format json) {query}\" # <--- using the analyze option\n",
    "\n",
    "!psql postgres -c \"{full_query}\"\n",
    "\n",
    "last_plan = None\n",
    "for i in range(20):\n",
    "    plan = os.popen(f'psql postgres -c \"{full_query}\"').read()\n",
    "    if last_plan is None:\n",
    "        last_plan = plan\n",
    "        continue\n",
    "    assert last_plan == plan, \"found different plan\""
   ]
  },
  {
   "cell_type": "code",
   "execution_count": null,
   "metadata": {},
   "outputs": [],
   "source": []
  }
 ],
 "metadata": {
  "kernelspec": {
   "display_name": "Python 3",
   "language": "python",
   "name": "python3"
  },
  "language_info": {
   "codemirror_mode": {
    "name": "ipython",
    "version": 3
   },
   "file_extension": ".py",
   "mimetype": "text/x-python",
   "name": "python",
   "nbconvert_exporter": "python",
   "pygments_lexer": "ipython3",
   "version": "3.11.8"
  }
 },
 "nbformat": 4,
 "nbformat_minor": 2
}
