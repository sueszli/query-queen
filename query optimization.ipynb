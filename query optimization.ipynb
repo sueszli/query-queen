{
 "cells": [
  {
   "cell_type": "markdown",
   "metadata": {},
   "source": [
    "# query optimization\n",
    "\n",
    "the process of query optimization is very similar to the process of refactoring.\n",
    "\n",
    "the goal is to make the query more efficient without changing it's behavior.\n",
    "\n",
    "so ideally you should write TDD-style tests for your queries first before you start optimizing them to avoid any unexpected behavior changes.\n",
    "\n",
    "in this notebook we will go through some common query optimization techniques based on examples."
   ]
  },
  {
   "cell_type": "code",
   "execution_count": 71,
   "metadata": {},
   "outputs": [
    {
     "name": "stdout",
     "output_type": "stream",
     "text": [
      "Did not find any relations.\n",
      "psql: error: connection to server on socket \"/tmp/.s.PGSQL.5432\" failed: FATAL:  database \"sueszli\" does not exist\n",
      "ERROR:  cannot drop the currently open database\n",
      "ERROR:  current user cannot be dropped\n",
      "RESET\n"
     ]
    }
   ],
   "source": [
    "!chmod +x ./reset.sh && ./reset.sh > /dev/null\n",
    "!psql postgres -c \"reset all;\""
   ]
  },
  {
   "cell_type": "code",
   "execution_count": 70,
   "metadata": {},
   "outputs": [
    {
     "name": "stdout",
     "output_type": "stream",
     "text": [
      "average execution time in 10 interations: 325.58 ms\n"
     ]
    }
   ],
   "source": [
    "import os\n",
    "import sys\n",
    "import json\n",
    "\n",
    "def equals_query(query1: str, query2: str, prefix: str=\"\") -> bool:\n",
    "    output1 = os.popen(f'psql postgres -c \"{prefix} {query1};\"').read()\n",
    "    output2 = os.popen(f'psql postgres -c \"{prefix} {query2};\"').read()\n",
    "    length_match = len(output1) == len(output2)\n",
    "    \n",
    "    output1 = output1.splitlines()\n",
    "    output2 = output2.splitlines()\n",
    "    output1.sort()\n",
    "    output2.sort()\n",
    "    output1 = \"\\n\".join(output1)\n",
    "    output2 = \"\\n\".join(output2)\n",
    "    non_order_match = output1 == output2\n",
    "    \n",
    "    return length_match and non_order_match\n",
    "\n",
    "def print_simple_execution_plan(query: str, prefix: str=\"\") -> None:\n",
    "    output = os.popen(f'psql postgres -c \"{prefix} explain (analyze, verbose off, costs off, settings off, generic_plan off, buffers off, wal off, timing off, summary off) {query};\"').read()\n",
    "    print(output)\n",
    "\n",
    "def print_verbose_execution_plan(query: str, prefix: str=\"\") -> None:\n",
    "    output = os.popen(f'psql postgres -c \"{prefix} explain (analyze, verbose, costs, settings, buffers, wal, timing, summary) {query};\"').read()\n",
    "    print(output)\n",
    "\n",
    "def print_avg_time(query: str, prefix: str=\"\", iters:int=10) -> None:   \n",
    "    def get_exec_time(query: str, prefix: str=\"\") -> float:\n",
    "        output = os.popen(f'psql postgres -c \"{prefix} explain (analyze, verbose, costs, settings, buffers, wal, timing, summary, format json) {query};\"').read()\n",
    "        output = output.splitlines()[2:-2]\n",
    "        for i in range(len(output)):\n",
    "            if len(output[i]) > 2:\n",
    "                output[i] = output[i][:-1]\n",
    "        output = \"\\n\".join(output)\n",
    "        output = json.loads(output)[0]\n",
    "        return float(output[\"Execution Time\"])\n",
    "\n",
    "    vals = []\n",
    "    for _ in range(iters):\n",
    "        vals.append(get_exec_time(query, prefix))\n",
    "        sys.stdout.write(f\"\\r{iters - _} iterations left\")\n",
    "        sys.stdout.write(\"\\r\")\n",
    "        sys.stdout.flush()\n",
    "    print(f\"average execution time in {iters} interations: {sum(vals) / iters:.2f} ms\")\n",
    "\n",
    "# demo\n",
    "demo_q1 = \"SELECT a,b,c FROM r NATURAL JOIN s NATURAL JOIN t\"\n",
    "demo_q2 = \"SELECT a,b,c FROM r NATURAL JOIN s NATURAL JOIN t ORDER BY a,b,c\"\n",
    "assert equals_query(demo_q1, demo_q2)\n",
    "# print_simple_execution_plan(demo_q1)\n",
    "# print_verbose_execution_plan(demo_q1)\n",
    "print_avg_time(demo_q1)\n"
   ]
  },
  {
   "cell_type": "markdown",
   "metadata": {},
   "source": [
    "# a) text search optimization"
   ]
  },
  {
   "cell_type": "code",
   "execution_count": 158,
   "metadata": {},
   "outputs": [
    {
     "name": "stdout",
     "output_type": "stream",
     "text": [
      "                            Table \"public.comments\"\n",
      "     Column      |            Type             | Collation | Nullable | Default \n",
      "-----------------+-----------------------------+-----------+----------+---------\n",
      " id              | integer                     |           | not null | \n",
      " postid          | integer                     |           | not null | \n",
      " score           | integer                     |           | not null | \n",
      " text            | text                        |           |          | \n",
      " creationdate    | timestamp without time zone |           | not null | \n",
      " userid          | integer                     |           |          | \n",
      " userdisplayname | text                        |           |          | \n",
      " contentlicense  | text                        |           |          | \n",
      "Indexes:\n",
      "    \"comments_pkey\" PRIMARY KEY, btree (id)\n",
      "\n",
      "  id   | postid | score |                                                                                                                                           text                                                                                                                                            |      creationdate       | userid | userdisplayname | contentlicense \n",
      "-------+--------+-------+-------------------------------------------------------------------------------------------------------------------------------------------------------------------------------------------------------------------------------------------------------------------------------------------+-------------------------+--------+-----------------+----------------\n",
      " 37171 |  17355 |     1 | the infrared radiation from the sun is shortwave infrared and is not stopped by the atmosphere,the earth emits infrared radiation in longwave radiation and a lot of this gets absorbed and radiated back to the suface of earth(the atmosphere behave like a hi pass filter in infrared) | 2019-07-02 12:21:07.667 |   6258 |                 | CC BY-SA 4.0\n",
      "(1 row)\n",
      "\n",
      " id | postid | score | text | creationdate | userid | userdisplayname | contentlicense \n",
      "----+--------+-------+------+--------------+--------+-----------------+----------------\n",
      "(0 rows)\n",
      "\n"
     ]
    }
   ],
   "source": [
    "!psql postgres -c \"\\d comments\"\n",
    "\n",
    "# original\n",
    "# !psql postgres -c \"SELECT count(*) FROM comments WHERE substring(text from '%#\\\" hello #\\\"%' for '#') IS NOT NULL OR substring(text from '%#\\\" hi #\\\"%' for '#') IS NOT NULL;\"\n",
    "!psql postgres -c \"SELECT * FROM comments WHERE substring(text from '%#\\\" hello #\\\"%' for '#') IS NOT NULL OR substring(text from '%#\\\" hi #\\\"%' for '#') IS NOT NULL;\"\n",
    "\n",
    "# simplified\n",
    "!psql postgres -c \"SELECT * FROM comments WHERE text LIKE ' hello ' OR text LIKE ' hi ';\""
   ]
  },
  {
   "cell_type": "code",
   "execution_count": null,
   "metadata": {},
   "outputs": [],
   "source": []
  }
 ],
 "metadata": {
  "kernelspec": {
   "display_name": "Python 3",
   "language": "python",
   "name": "python3"
  },
  "language_info": {
   "codemirror_mode": {
    "name": "ipython",
    "version": 3
   },
   "file_extension": ".py",
   "mimetype": "text/x-python",
   "name": "python",
   "nbconvert_exporter": "python",
   "pygments_lexer": "ipython3",
   "version": "3.11.8"
  }
 },
 "nbformat": 4,
 "nbformat_minor": 2
}
