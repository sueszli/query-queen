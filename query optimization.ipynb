{
 "cells": [
  {
   "cell_type": "markdown",
   "metadata": {},
   "source": [
    "# query optimization\n",
    "\n",
    "the process of query optimization is very similar to the process of refactoring.\n",
    "\n",
    "the goal is to make the query more efficient without changing it's behavior.\n",
    "\n",
    "so ideally you should write TDD-style tests for your queries first before you start optimizing them to avoid any unexpected behavior changes.\n",
    "\n",
    "in this notebook we will go through some common query optimization techniques based on examples."
   ]
  },
  {
   "cell_type": "code",
   "execution_count": 2,
   "metadata": {},
   "outputs": [
    {
     "name": "stdout",
     "output_type": "stream",
     "text": [
      "Did not find any relations.\n",
      "psql: error: connection to server on socket \"/tmp/.s.PGSQL.5432\" failed: FATAL:  database \"sueszli\" does not exist\n",
      "ERROR:  cannot drop the currently open database\n",
      "ERROR:  current user cannot be dropped\n",
      "RESET\n"
     ]
    }
   ],
   "source": [
    "!chmod +x ./reset.sh && ./reset.sh > /dev/null\n",
    "!psql postgres -c \"reset all;\""
   ]
  },
  {
   "cell_type": "code",
   "execution_count": 3,
   "metadata": {},
   "outputs": [],
   "source": [
    "# from enum import Enum\n",
    "# import os\n",
    "# import json\n",
    "\n",
    "# # execution plan\n",
    "# def print_plan(query: str) -> None:\n",
    "#     output = os.popen(f'psql postgres -c \"{mode.value} explain (analyze, costs) SELECT a,b,c FROM r NATURAL JOIN s NATURAL JOIN t;\"').read()\n",
    "#     print(output)\n",
    "\n",
    "# # benchmark\n",
    "# def get_exec(mode:JoinMode) -> float:\n",
    "#     full_query = f\"{mode.value} explain (analyze, verbose, costs, settings, buffers, wal, timing, summary, format json) SELECT a,b,c FROM r NATURAL JOIN s NATURAL JOIN t;\"\n",
    "#     output = os.popen(f'psql postgres -c \"{full_query}\"').read()\n",
    "#     output = output.splitlines()[5:-2]\n",
    "#     for i in range(len(output)):\n",
    "#         if len(output[i]) > 2:\n",
    "#             output[i] = output[i][:-1]\n",
    "#     output = \"\\n\".join(output)\n",
    "#     output = json.loads(output)[0]\n",
    "#     output = float(output[\"Execution Time\"])\n",
    "#     return output\n",
    "\n",
    "# def print_avg_exec(mode:JoinMode, iters:int=10) -> None:\n",
    "#     vals = []\n",
    "#     for _ in range(iters):\n",
    "#         time = get_exec(mode)\n",
    "#         vals.append(time)\n",
    "#     print(f\"average execution time in {mode.name}-MODE: {sum(vals) / iters:.2f} ms (in {iters} iterations)\")"
   ]
  },
  {
   "cell_type": "code",
   "execution_count": null,
   "metadata": {},
   "outputs": [],
   "source": []
  }
 ],
 "metadata": {
  "kernelspec": {
   "display_name": "Python 3",
   "language": "python",
   "name": "python3"
  },
  "language_info": {
   "codemirror_mode": {
    "name": "ipython",
    "version": 3
   },
   "file_extension": ".py",
   "mimetype": "text/x-python",
   "name": "python",
   "nbconvert_exporter": "python",
   "pygments_lexer": "ipython3",
   "version": "3.11.8"
  }
 },
 "nbformat": 4,
 "nbformat_minor": 2
}
