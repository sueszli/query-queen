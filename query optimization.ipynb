{
 "cells": [
  {
   "cell_type": "markdown",
   "metadata": {},
   "source": [
    "# query optimization\n",
    "\n",
    "the process of query optimization is very similar to the process of refactoring.\n",
    "\n",
    "the goal is to make the query more efficient without changing it's behavior.\n",
    "\n",
    "so ideally you should write TDD-style tests for your queries first before you start optimizing them to avoid any unexpected behavior changes.\n",
    "\n",
    "in this notebook we will go through some common query optimization techniques based on examples."
   ]
  },
  {
   "cell_type": "code",
   "execution_count": null,
   "metadata": {},
   "outputs": [],
   "source": [
    "!chmod +x ./reset.sh && ./reset.sh > /dev/null\n",
    "!psql postgres -c \"reset all;\""
   ]
  },
  {
   "cell_type": "code",
   "execution_count": 70,
   "metadata": {},
   "outputs": [
    {
     "name": "stdout",
     "output_type": "stream",
     "text": [
      "average execution time in 10 interations: 325.58 ms\n"
     ]
    }
   ],
   "source": [
    "import os\n",
    "import sys\n",
    "import json\n",
    "\n",
    "def equals_query(query1: str, query2: str, prefix: str=\"\") -> bool:\n",
    "    output1 = os.popen(f'psql postgres -c \"{prefix} {query1};\"').read()\n",
    "    output2 = os.popen(f'psql postgres -c \"{prefix} {query2};\"').read()\n",
    "    length_match = len(output1) == len(output2)\n",
    "    \n",
    "    output1 = output1.splitlines()\n",
    "    output2 = output2.splitlines()\n",
    "    output1.sort()\n",
    "    output2.sort()\n",
    "    output1 = \"\\n\".join(output1)\n",
    "    output2 = \"\\n\".join(output2)\n",
    "    non_order_match = output1 == output2\n",
    "    \n",
    "    return length_match and non_order_match\n",
    "\n",
    "def print_simple_execution_plan(query: str, prefix: str=\"\") -> None:\n",
    "    output = os.popen(f'psql postgres -c \"{prefix} explain (analyze, verbose off, costs off, settings off, generic_plan off, buffers off, wal off, timing off, summary off) {query};\"').read()\n",
    "    print(output)\n",
    "\n",
    "def print_verbose_execution_plan(query: str, prefix: str=\"\") -> None:\n",
    "    output = os.popen(f'psql postgres -c \"{prefix} explain (analyze, verbose, costs, settings, buffers, wal, timing, summary) {query};\"').read()\n",
    "    print(output)\n",
    "\n",
    "def print_avg_time(query: str, prefix: str=\"\", iters:int=10) -> None:   \n",
    "    def get_exec_time(query: str, prefix: str=\"\") -> float:\n",
    "        output = os.popen(f'psql postgres -c \"{prefix} explain (analyze, verbose, costs, settings, buffers, wal, timing, summary, format json) {query};\"').read()\n",
    "        output = output.splitlines()[2:-2]\n",
    "        for i in range(len(output)):\n",
    "            if len(output[i]) > 2:\n",
    "                output[i] = output[i][:-1]\n",
    "        output = \"\\n\".join(output)\n",
    "        output = json.loads(output)[0]\n",
    "        return float(output[\"Execution Time\"])\n",
    "\n",
    "    vals = []\n",
    "    for _ in range(iters):\n",
    "        vals.append(get_exec_time(query, prefix))\n",
    "        sys.stdout.write(f\"\\r{iters - _} iterations left\")\n",
    "        sys.stdout.write(\"\\r\")\n",
    "        sys.stdout.flush()\n",
    "    print(f\"average execution time in {iters} interations: {sum(vals) / iters:.2f} ms\")\n",
    "\n",
    "# demo\n",
    "demo_q1 = \"SELECT a,b,c FROM r NATURAL JOIN s NATURAL JOIN t\"\n",
    "demo_q2 = \"SELECT a,b,c FROM r NATURAL JOIN s NATURAL JOIN t ORDER BY a,b,c\"\n",
    "assert equals_query(demo_q1, demo_q2)\n",
    "# print_simple_execution_plan(demo_q1)\n",
    "# print_verbose_execution_plan(demo_q1)\n",
    "print_avg_time(demo_q1)\n"
   ]
  },
  {
   "cell_type": "markdown",
   "metadata": {},
   "source": [
    "# example a) text search query\n",
    "\n",
    "original query: `76.858 ms`\n",
    "\n",
    "- uses substring to search for a specific word in the text column\n",
    "- to learn more about postgres substring function and string matching:\n",
    "    - https://www.postgresql.org/docs/9.1/functions-string.html\n",
    "    - https://www.postgresql.org/docs/9.1/functions-matching.html\n",
    "\n",
    "```sql\n",
    "SELECT COUNT(*) FROM comments\n",
    "WHERE substring(text from '%#\" hello #\"%' for '#') IS NOT NULL\n",
    "OR substring(text from '%#\" hi #\"%' for '#') IS NOT NULL;\n",
    "```\n",
    "\n",
    "---\n",
    "\n",
    "better standard library: `48.933 ms`\n",
    "\n",
    "- the substring function is not meant for text matching\n",
    "\n",
    "```sql\n",
    "SELECT COUNT(*) FROM comments WHERE text LIKE '% hello %' OR text LIKE '% hi %';\n",
    "```\n",
    "\n",
    "---\n",
    "\n",
    "index on search field: `31.11 ms`\n",
    "\n",
    "- improving lookup time by adding an index on the text column\n",
    "\n",
    "```sql\n",
    "CREATE INDEX text_index ON comments (text);\n",
    "SELECT COUNT(*) FROM comments WHERE text LIKE '% hello %' OR text LIKE '% hi %';\n",
    "```\n",
    "\n",
    "---\n",
    "\n",
    "precompute the results: `0.3 ms`\n",
    "\n",
    "- we can add a new column to the table to store the result of the search that we have to set on each insert or update\n",
    "- add an index on the new column to improve lookup time\n",
    "- can be done with a trigger but it could be considered cheating because it's less about query optimization and more about data optimization\n",
    "- there are much nicer ways to do this, as we will see in the next example\n",
    "\n",
    "```sql\n",
    "ALTER TABLE comments ADD COLUMN is_match boolean;\n",
    "UPDATE comments SET is_match = TRUE WHERE text LIKE '% hello %' OR text LIKE '% hi %';\n",
    "CREATE INDEX is_match_index ON comments (is_match);\n",
    "SELECT count(*) FROM comments WHERE is_match = TRUE;\n",
    "```"
   ]
  },
  {
   "cell_type": "markdown",
   "metadata": {},
   "source": [
    "### simplify the string matching"
   ]
  },
  {
   "cell_type": "code",
   "execution_count": 326,
   "metadata": {},
   "outputs": [
    {
     "name": "stdout",
     "output_type": "stream",
     "text": [
      " substring \n",
      "-----------\n",
      "  is \n",
      "(1 row)\n",
      "\n",
      " substring \n",
      "-----------\n",
      "  is \n",
      "(1 row)\n",
      "\n",
      " substring \n",
      "-----------\n",
      "  is \n",
      "(1 row)\n",
      "\n",
      " substring \n",
      "-----------\n",
      "  is \n",
      "(1 row)\n",
      "\n",
      "  id   | postid | score |                                                                                                                                           text                                                                                                                                            |      creationdate       | userid | userdisplayname | contentlicense \n",
      "-------+--------+-------+-------------------------------------------------------------------------------------------------------------------------------------------------------------------------------------------------------------------------------------------------------------------------------------------+-------------------------+--------+-----------------+----------------\n",
      " 37171 |  17355 |     1 | the infrared radiation from the sun is shortwave infrared and is not stopped by the atmosphere,the earth emits infrared radiation in longwave radiation and a lot of this gets absorbed and radiated back to the suface of earth(the atmosphere behave like a hi pass filter in infrared) | 2019-07-02 12:21:07.667 |   6258 |                 | CC BY-SA 4.0\n",
      "(1 row)\n",
      "\n",
      "  id   | postid | score |                                                                                                                                           text                                                                                                                                            |      creationdate       | userid | userdisplayname | contentlicense \n",
      "-------+--------+-------+-------------------------------------------------------------------------------------------------------------------------------------------------------------------------------------------------------------------------------------------------------------------------------------------+-------------------------+--------+-----------------+----------------\n",
      " 37171 |  17355 |     1 | the infrared radiation from the sun is shortwave infrared and is not stopped by the atmosphere,the earth emits infrared radiation in longwave radiation and a lot of this gets absorbed and radiated back to the suface of earth(the atmosphere behave like a hi pass filter in infrared) | 2019-07-02 12:21:07.667 |   6258 |                 | CC BY-SA 4.0\n",
      "(1 row)\n",
      "\n"
     ]
    }
   ],
   "source": [
    "# equivalent\n",
    "!psql postgres -c \"select substring('this is swaggy' from '%#\\\" is #\\\"%' for '#');\"\n",
    "!psql postgres -c \"select substring('this is swaggy' from '%@\\\" is @\\\"%' for '@');\"\n",
    "!psql postgres -c \"select substring('this is swaggy' from '%$\\\" is $\\\"%' for '$');\"\n",
    "!psql postgres -c \"select substring('this is swaggy', ' is ');\"\n",
    "\n",
    "# simplified parts of original query\n",
    "!psql postgres -c \"SELECT * FROM comments WHERE substring(text from '%#\\\" hi #\\\"%' for '#') IS NOT NULL;\"\n",
    "!psql postgres -c \"SELECT * FROM comments WHERE substring(text, ' hi ') IS NOT NULL;\""
   ]
  },
  {
   "cell_type": "code",
   "execution_count": 339,
   "metadata": {},
   "outputs": [
    {
     "name": "stdout",
     "output_type": "stream",
     "text": [
      "  id   | postid | score |                                                                                                                                           text                                                                                                                                            |      creationdate       | userid | userdisplayname | contentlicense \n",
      "-------+--------+-------+-------------------------------------------------------------------------------------------------------------------------------------------------------------------------------------------------------------------------------------------------------------------------------------------+-------------------------+--------+-----------------+----------------\n",
      " 37171 |  17355 |     1 | the infrared radiation from the sun is shortwave infrared and is not stopped by the atmosphere,the earth emits infrared radiation in longwave radiation and a lot of this gets absorbed and radiated back to the suface of earth(the atmosphere behave like a hi pass filter in infrared) | 2019-07-02 12:21:07.667 |   6258 |                 | CC BY-SA 4.0\n",
      "(1 row)\n",
      "\n",
      "  id   | postid | score |                                                                                                                                           text                                                                                                                                            |      creationdate       | userid | userdisplayname | contentlicense \n",
      "-------+--------+-------+-------------------------------------------------------------------------------------------------------------------------------------------------------------------------------------------------------------------------------------------------------------------------------------------+-------------------------+--------+-----------------+----------------\n",
      " 37171 |  17355 |     1 | the infrared radiation from the sun is shortwave infrared and is not stopped by the atmosphere,the earth emits infrared radiation in longwave radiation and a lot of this gets absorbed and radiated back to the suface of earth(the atmosphere behave like a hi pass filter in infrared) | 2019-07-02 12:21:07.667 |   6258 |                 | CC BY-SA 4.0\n",
      "(1 row)\n",
      "\n",
      "  id   | postid | score |                                                                                                                                           text                                                                                                                                            |      creationdate       | userid | userdisplayname | contentlicense \n",
      "-------+--------+-------+-------------------------------------------------------------------------------------------------------------------------------------------------------------------------------------------------------------------------------------------------------------------------------------------+-------------------------+--------+-----------------+----------------\n",
      " 37171 |  17355 |     1 | the infrared radiation from the sun is shortwave infrared and is not stopped by the atmosphere,the earth emits infrared radiation in longwave radiation and a lot of this gets absorbed and radiated back to the suface of earth(the atmosphere behave like a hi pass filter in infrared) | 2019-07-02 12:21:07.667 |   6258 |                 | CC BY-SA 4.0\n",
      "(1 row)\n",
      "\n"
     ]
    }
   ],
   "source": [
    "# original\n",
    "!psql postgres -c \"SELECT * FROM comments WHERE substring(text from '%#\\\" hello #\\\"%' for '#') IS NOT NULL OR substring(text from '%#\\\" hi #\\\"%' for '#') IS NOT NULL;\"\n",
    "\n",
    "# simplified\n",
    "!psql postgres -c \"SELECT * FROM comments WHERE substring(text, ' hello ') IS NOT NULL OR substring(text, ' hi ') IS NOT NULL;\"\n",
    "!psql postgres -c \"SELECT * FROM comments WHERE text LIKE '% hello %' OR text LIKE '% hi %';\""
   ]
  },
  {
   "cell_type": "code",
   "execution_count": 343,
   "metadata": {},
   "outputs": [
    {
     "name": "stdout",
     "output_type": "stream",
     "text": [
      "                                                     QUERY PLAN                                                      \n",
      "---------------------------------------------------------------------------------------------------------------------\n",
      " Aggregate  (cost=1475.85..1475.86 rows=1 width=8) (actual time=76.807..76.807 rows=1 loops=1)\n",
      "   ->  Seq Scan on comments  (cost=0.00..1412.44 rows=25362 width=0) (actual time=61.066..76.797 rows=1 loops=1)\n",
      "         Filter: ((\"substring\"(text, ' hello '::text) IS NOT NULL) OR (\"substring\"(text, ' hi '::text) IS NOT NULL))\n",
      "         Rows Removed by Filter: 25362\n",
      " Planning Time: 0.274 ms\n",
      " Execution Time: 76.858 ms\n",
      "(6 rows)\n",
      "\n",
      "                                                 QUERY PLAN                                                  \n",
      "-------------------------------------------------------------------------------------------------------------\n",
      " Aggregate  (cost=1412.46..1412.47 rows=1 width=8) (actual time=48.866..48.867 rows=1 loops=1)\n",
      "   ->  Seq Scan on comments  (cost=0.00..1412.44 rows=5 width=0) (actual time=37.891..48.852 rows=1 loops=1)\n",
      "         Filter: ((text ~~ '% hello %'::text) OR (text ~~ '% hi %'::text))\n",
      "         Rows Removed by Filter: 25362\n",
      " Planning Time: 0.900 ms\n",
      " Execution Time: 48.933 ms\n",
      "(6 rows)\n",
      "\n"
     ]
    }
   ],
   "source": [
    "# checking performance (we can't use my library because it breaks on nested double quotes)\n",
    "\n",
    "!psql postgres -c \"explain (analyze) SELECT count(*) FROM comments WHERE substring(text, ' hello ') IS NOT NULL OR substring(text, ' hi ') IS NOT NULL;\"\n",
    "!psql postgres -c \"explain (analyze) SELECT count(*) FROM comments WHERE text LIKE '% hello %' OR text LIKE '% hi %';\""
   ]
  },
  {
   "cell_type": "markdown",
   "metadata": {},
   "source": [
    "### optimize through trial and error"
   ]
  },
  {
   "cell_type": "code",
   "execution_count": 368,
   "metadata": {},
   "outputs": [
    {
     "name": "stdout",
     "output_type": "stream",
     "text": [
      "ERROR:  relation \"text_index\" already exists\n",
      "average execution time in 10 interations: 31.11 ms\n"
     ]
    }
   ],
   "source": [
    "# create index on text\n",
    "!psql postgres -c \"CREATE INDEX text_index ON comments (text);\"\n",
    "print_avg_time(\"SELECT count(*) FROM comments WHERE text LIKE '% hello %' OR text LIKE '% hi %';\")"
   ]
  },
  {
   "cell_type": "code",
   "execution_count": 374,
   "metadata": {},
   "outputs": [
    {
     "name": "stdout",
     "output_type": "stream",
     "text": [
      "ERROR:  relation \"comments_small\" already exists\n",
      "ERROR:  relation \"text_index_small\" already exists\n",
      "average execution time in 10 interations: 32.58 ms\n"
     ]
    }
   ],
   "source": [
    "# new smaller table with index (actually slower lol)\n",
    "!psql postgres -c \"CREATE TABLE comments_small AS SELECT text FROM comments;\"\n",
    "!psql postgres -c \"CREATE INDEX text_index_small ON comments_small (text);\"\n",
    "print_avg_time(\"SELECT COUNT(*) FROM comments WHERE text LIKE '% hello %' OR text LIKE '% hi %';\")"
   ]
  },
  {
   "cell_type": "code",
   "execution_count": 378,
   "metadata": {},
   "outputs": [
    {
     "name": "stdout",
     "output_type": "stream",
     "text": [
      " ?column? \n",
      "----------\n",
      "        1\n",
      "(1 row)\n",
      "\n",
      "average execution time in 10 interations: 34.73 ms\n"
     ]
    }
   ],
   "source": [
    "# union all\n",
    "!psql postgres -c \"SELECT * FROM (SELECT 1 FROM comments WHERE text LIKE '% hello %' UNION ALL SELECT 1 FROM comments WHERE text LIKE '% hi %') AS temp;\"\n",
    "print_avg_time(\"SELECT count(*) FROM (SELECT 1 FROM comments WHERE text LIKE '% hello %' UNION ALL SELECT 1 FROM comments WHERE text LIKE '% hi %') AS temp;\")"
   ]
  },
  {
   "cell_type": "code",
   "execution_count": 381,
   "metadata": {},
   "outputs": [
    {
     "name": "stdout",
     "output_type": "stream",
     "text": [
      "ERROR:  column \"is_match\" of relation \"comments\" already exists\n",
      "UPDATE 1\n",
      "ERROR:  relation \"is_match_index\" already exists\n",
      "average execution time in 10 interations: 0.11 ms\n"
     ]
    }
   ],
   "source": [
    "# add \"is_match\" column to table (can be generated with a trigger)\n",
    "!psql postgres -c \"ALTER TABLE comments ADD COLUMN is_match boolean;\"\n",
    "!psql postgres -c \"UPDATE comments SET is_match = TRUE WHERE text LIKE '% hello %' OR text LIKE '% hi %';\"\n",
    "# add index to is_match\n",
    "!psql postgres -c \"CREATE INDEX is_match_index ON comments (is_match);\"\n",
    "print_avg_time(\"SELECT count(*) FROM comments WHERE is_match = TRUE;\")"
   ]
  },
  {
   "cell_type": "code",
   "execution_count": 382,
   "metadata": {},
   "outputs": [
    {
     "name": "stdout",
     "output_type": "stream",
     "text": [
      "                                QUERY PLAN                                 \n",
      "---------------------------------------------------------------------------\n",
      " Aggregate (actual rows=1 loops=1)\n",
      "   ->  Seq Scan on comments (actual rows=1 loops=1)\n",
      "         Filter: ((text ~~ '% hello %'::text) OR (text ~~ '% hi %'::text))\n",
      "         Rows Removed by Filter: 25362\n",
      "(4 rows)\n",
      "\n",
      "\n"
     ]
    }
   ],
   "source": [
    "print_simple_execution_plan(\"SELECT count(*) FROM comments WHERE text LIKE '% hello %' OR text LIKE '% hi %';\")"
   ]
  },
  {
   "cell_type": "markdown",
   "metadata": {},
   "source": [
    "# example b) nested query"
   ]
  },
  {
   "cell_type": "markdown",
   "metadata": {},
   "source": [
    "original query: `44819.041 ms`\n",
    "\n",
    "```sql\n",
    "SELECT DISTINCT b.name FROM badges b\n",
    "WHERE b.userid IN (\n",
    "    SELECT u.id from users u WHERE u.reputation < 0.5 * b.class\n",
    ");\n",
    "```\n",
    "\n",
    "---\n",
    "\n",
    "use natural join instead of nested query: `11.07 ms`\n",
    "\n",
    "```sql\n",
    "SELECT DISTINCT b.name FROM badges b JOIN users u ON b.userid = u.id WHERE u.reputation < 0.5 * b.class;\n",
    "```\n",
    "\n",
    "---"
   ]
  },
  {
   "cell_type": "markdown",
   "metadata": {},
   "source": [
    "### test inital query"
   ]
  },
  {
   "cell_type": "code",
   "execution_count": 386,
   "metadata": {},
   "outputs": [
    {
     "name": "stdout",
     "output_type": "stream",
     "text": [
      "                                                           QUERY PLAN                                                            \n",
      "---------------------------------------------------------------------------------------------------------------------------------\n",
      " Unique  (cost=9651385.45..9651448.70 rows=86 width=10) (actual time=44818.861..44818.964 rows=29 loops=1)\n",
      "   ->  Sort  (cost=9651385.45..9651417.07 rows=12650 width=10) (actual time=44818.860..44818.904 rows=2408 loops=1)\n",
      "         Sort Key: b.name\n",
      "         Sort Method: quicksort  Memory: 149kB\n",
      "         ->  Seq Scan on badges b  (cost=0.00..9650523.55 rows=12650 width=10) (actual time=92.086..44818.214 rows=2408 loops=1)\n",
      "               Filter: (SubPlan 1)\n",
      "               Rows Removed by Filter: 22891\n",
      "               SubPlan 1\n",
      "                 ->  Seq Scan on users u  (cost=0.00..750.88 rows=4798 width=4) (actual time=0.197..1.646 rows=5707 loops=25299)\n",
      "                       Filter: ((reputation)::numeric < (0.5 * (b.class)::numeric))\n",
      "                       Rows Removed by Filter: 8062\n",
      " Planning Time: 0.617 ms\n",
      " Execution Time: 44819.041 ms\n",
      "(13 rows)\n",
      "\n"
     ]
    }
   ],
   "source": [
    "!psql postgres -c \"EXPLAIN ANALYSE SELECT DISTINCT b.name FROM badges b WHERE b.userid IN (SELECT u.id from users u WHERE u.reputation < 0.5 * b.class);\""
   ]
  },
  {
   "cell_type": "code",
   "execution_count": 383,
   "metadata": {},
   "outputs": [
    {
     "name": "stdout",
     "output_type": "stream",
     "text": [
      "                                     QUERY PLAN                                     \n",
      "------------------------------------------------------------------------------------\n",
      " Unique (actual rows=29 loops=1)\n",
      "   ->  Sort (actual rows=2408 loops=1)\n",
      "         Sort Key: b.name\n",
      "         Sort Method: quicksort  Memory: 149kB\n",
      "         ->  Seq Scan on badges b (actual rows=2408 loops=1)\n",
      "               Filter: (SubPlan 1)\n",
      "               Rows Removed by Filter: 22891\n",
      "               SubPlan 1\n",
      "                 ->  Seq Scan on users u (actual rows=5707 loops=25299)\n",
      "                       Filter: ((reputation)::numeric < (0.5 * (b.class)::numeric))\n",
      "                       Rows Removed by Filter: 8062\n",
      "(11 rows)\n",
      "\n",
      "\n"
     ]
    }
   ],
   "source": [
    "print_simple_execution_plan(\"SELECT DISTINCT b.name FROM badges b WHERE b.userid IN (SELECT u.id from users u WHERE u.reputation < 0.5 * b.class);\")"
   ]
  },
  {
   "cell_type": "markdown",
   "metadata": {},
   "source": [
    "### remove nested query with natural join"
   ]
  },
  {
   "cell_type": "code",
   "execution_count": 389,
   "metadata": {},
   "outputs": [
    {
     "name": "stdout",
     "output_type": "stream",
     "text": [
      "True\n"
     ]
    }
   ],
   "source": [
    "q1 = \"SELECT DISTINCT b.name FROM badges b WHERE b.userid IN (SELECT u.id from users u WHERE u.reputation < 0.5 * b.class);\"\n",
    "q2 = \"SELECT DISTINCT b.name FROM badges b JOIN users u ON b.userid = u.id WHERE u.reputation < 0.5 * b.class;\"\n",
    "print(equals_query(q1, q2))"
   ]
  },
  {
   "cell_type": "code",
   "execution_count": 408,
   "metadata": {},
   "outputs": [
    {
     "name": "stdout",
     "output_type": "stream",
     "text": [
      "average execution time in 10 interations: 11.07 ms\n"
     ]
    }
   ],
   "source": [
    "print_avg_time(\"SELECT DISTINCT b.name FROM badges b JOIN users u ON b.userid = u.id WHERE u.reputation < 0.5 * b.class;\")"
   ]
  },
  {
   "cell_type": "code",
   "execution_count": 405,
   "metadata": {},
   "outputs": [
    {
     "name": "stdout",
     "output_type": "stream",
     "text": [
      "                                 QUERY PLAN                                  \n",
      "-----------------------------------------------------------------------------\n",
      " HashAggregate (actual rows=29 loops=1)\n",
      "   Group Key: b.name\n",
      "   Batches: 1  Memory Usage: 40kB\n",
      "   ->  Hash Join (actual rows=2408 loops=1)\n",
      "         Hash Cond: (b.userid = u.id)\n",
      "         Join Filter: ((u.reputation)::numeric < (0.5 * (b.class)::numeric))\n",
      "         Rows Removed by Join Filter: 22891\n",
      "         ->  Seq Scan on badges b (actual rows=25299 loops=1)\n",
      "         ->  Hash (actual rows=14394 loops=1)\n",
      "               Buckets: 16384  Batches: 1  Memory Usage: 691kB\n",
      "               ->  Seq Scan on users u (actual rows=14394 loops=1)\n",
      "(11 rows)\n",
      "\n",
      "\n"
     ]
    }
   ],
   "source": [
    "print_simple_execution_plan(\"SELECT DISTINCT b.name FROM badges b JOIN users u ON b.userid = u.id WHERE u.reputation < 0.5 * b.class;\")"
   ]
  },
  {
   "cell_type": "markdown",
   "metadata": {},
   "source": [
    "### optimize through trial and error"
   ]
  },
  {
   "cell_type": "code",
   "execution_count": 409,
   "metadata": {},
   "outputs": [
    {
     "name": "stdout",
     "output_type": "stream",
     "text": [
      "CREATE INDEX\n",
      "CREATE INDEX\n",
      "average execution time in 10 interations: 11.40 ms\n"
     ]
    }
   ],
   "source": [
    "# too many indexes actually make it slower\n",
    "!psql postgres -c \"CREATE INDEX badges_user_id ON badges (userid);\"\n",
    "# !psql postgres -c \"CREATE INDEX badges_class ON badges (class);\"\n",
    "!psql postgres -c \"CREATE INDEX users_id ON users (id);\"\n",
    "# !psql postgres -c \"CREATE INDEX users_reputation ON users (reputation);\"\n",
    "print_avg_time(\"SELECT DISTINCT b.name FROM badges b JOIN users u ON b.userid = u.id WHERE u.reputation < 0.5 * b.class;\")"
   ]
  },
  {
   "cell_type": "code",
   "execution_count": 404,
   "metadata": {},
   "outputs": [
    {
     "name": "stdout",
     "output_type": "stream",
     "text": [
      "SELECT 25299\n",
      "average execution time in 10 interations: 8.36 ms\n",
      "True\n",
      "CREATE INDEX\n",
      "CREATE INDEX\n"
     ]
    }
   ],
   "source": [
    "# use materialized view\n",
    "!psql postgres -c \"CREATE MATERIALIZED VIEW user_badge AS SELECT b.userid, b.name, u.reputation, b.class FROM badges b JOIN users u ON b.userid = u.id;\"\n",
    "print_avg_time(\"SELECT DISTINCT name FROM user_badge WHERE reputation < 0.5 * class;\")\n",
    "print(equals_query(\"SELECT DISTINCT b.name FROM badges b JOIN users u ON b.userid = u.id WHERE u.reputation < 0.5 * b.class;\", \"SELECT DISTINCT name FROM user_badge WHERE reputation < 0.5 * class;\"))\n",
    "\n",
    "# use index\n",
    "!psql postgres -c \"CREATE INDEX reputation_index ON users (reputation);\"\n",
    "!psql postgres -c \"CREATE INDEX class_index ON badges (class);\""
   ]
  },
  {
   "cell_type": "code",
   "execution_count": null,
   "metadata": {},
   "outputs": [],
   "source": []
  }
 ],
 "metadata": {
  "kernelspec": {
   "display_name": "Python 3",
   "language": "python",
   "name": "python3"
  },
  "language_info": {
   "codemirror_mode": {
    "name": "ipython",
    "version": 3
   },
   "file_extension": ".py",
   "mimetype": "text/x-python",
   "name": "python",
   "nbconvert_exporter": "python",
   "pygments_lexer": "ipython3",
   "version": "3.11.8"
  }
 },
 "nbformat": 4,
 "nbformat_minor": 2
}
