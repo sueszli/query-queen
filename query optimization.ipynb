{
 "cells": [
  {
   "cell_type": "markdown",
   "metadata": {},
   "source": [
    "# query optimization\n",
    "\n",
    "the process of query optimization is very similar to the process of refactoring.\n",
    "\n",
    "the goal is to make the query more efficient without changing it's behavior.\n",
    "\n",
    "so ideally you should write TDD-style tests for your queries first before you start optimizing them to avoid any unexpected behavior changes.\n",
    "\n",
    "in this notebook we will go through some common query optimization techniques based on examples."
   ]
  },
  {
   "cell_type": "code",
   "execution_count": 71,
   "metadata": {},
   "outputs": [
    {
     "name": "stdout",
     "output_type": "stream",
     "text": [
      "Did not find any relations.\n",
      "psql: error: connection to server on socket \"/tmp/.s.PGSQL.5432\" failed: FATAL:  database \"sueszli\" does not exist\n",
      "ERROR:  cannot drop the currently open database\n",
      "ERROR:  current user cannot be dropped\n",
      "RESET\n"
     ]
    }
   ],
   "source": [
    "!chmod +x ./reset.sh && ./reset.sh > /dev/null\n",
    "!psql postgres -c \"reset all;\""
   ]
  },
  {
   "cell_type": "code",
   "execution_count": 70,
   "metadata": {},
   "outputs": [
    {
     "name": "stdout",
     "output_type": "stream",
     "text": [
      "average execution time in 10 interations: 325.58 ms\n"
     ]
    }
   ],
   "source": [
    "import os\n",
    "import sys\n",
    "import json\n",
    "\n",
    "def equals_query(query1: str, query2: str, prefix: str=\"\") -> bool:\n",
    "    output1 = os.popen(f'psql postgres -c \"{prefix} {query1};\"').read()\n",
    "    output2 = os.popen(f'psql postgres -c \"{prefix} {query2};\"').read()\n",
    "    length_match = len(output1) == len(output2)\n",
    "    \n",
    "    output1 = output1.splitlines()\n",
    "    output2 = output2.splitlines()\n",
    "    output1.sort()\n",
    "    output2.sort()\n",
    "    output1 = \"\\n\".join(output1)\n",
    "    output2 = \"\\n\".join(output2)\n",
    "    non_order_match = output1 == output2\n",
    "    \n",
    "    return length_match and non_order_match\n",
    "\n",
    "def print_simple_execution_plan(query: str, prefix: str=\"\") -> None:\n",
    "    output = os.popen(f'psql postgres -c \"{prefix} explain (analyze, verbose off, costs off, settings off, generic_plan off, buffers off, wal off, timing off, summary off) {query};\"').read()\n",
    "    print(output)\n",
    "\n",
    "def print_verbose_execution_plan(query: str, prefix: str=\"\") -> None:\n",
    "    output = os.popen(f'psql postgres -c \"{prefix} explain (analyze, verbose, costs, settings, buffers, wal, timing, summary) {query};\"').read()\n",
    "    print(output)\n",
    "\n",
    "def print_avg_time(query: str, prefix: str=\"\", iters:int=10) -> None:   \n",
    "    def get_exec_time(query: str, prefix: str=\"\") -> float:\n",
    "        output = os.popen(f'psql postgres -c \"{prefix} explain (analyze, verbose, costs, settings, buffers, wal, timing, summary, format json) {query};\"').read()\n",
    "        output = output.splitlines()[2:-2]\n",
    "        for i in range(len(output)):\n",
    "            if len(output[i]) > 2:\n",
    "                output[i] = output[i][:-1]\n",
    "        output = \"\\n\".join(output)\n",
    "        output = json.loads(output)[0]\n",
    "        return float(output[\"Execution Time\"])\n",
    "\n",
    "    vals = []\n",
    "    for _ in range(iters):\n",
    "        vals.append(get_exec_time(query, prefix))\n",
    "        sys.stdout.write(f\"\\r{iters - _} iterations left\")\n",
    "        sys.stdout.write(\"\\r\")\n",
    "        sys.stdout.flush()\n",
    "    print(f\"average execution time in {iters} interations: {sum(vals) / iters:.2f} ms\")\n",
    "\n",
    "# demo\n",
    "demo_q1 = \"SELECT a,b,c FROM r NATURAL JOIN s NATURAL JOIN t\"\n",
    "demo_q2 = \"SELECT a,b,c FROM r NATURAL JOIN s NATURAL JOIN t ORDER BY a,b,c\"\n",
    "assert equals_query(demo_q1, demo_q2)\n",
    "# print_simple_execution_plan(demo_q1)\n",
    "# print_verbose_execution_plan(demo_q1)\n",
    "print_avg_time(demo_q1)\n"
   ]
  },
  {
   "cell_type": "markdown",
   "metadata": {},
   "source": [
    "# example a) text search query\n",
    "\n",
    "original query: `76.858 ms`\n",
    "\n",
    "- uses\n",
    "\n",
    "```sql\n",
    "SELECT COUNT(*) FROM comments\n",
    "WHERE substring(text from '%#\" hello #\"%' for '#') IS NOT NULL\n",
    "OR substring(text from '%#\" hi #\"%' for '#') IS NOT NULL;\n",
    "```\n",
    "\n",
    "simplification: `48.933 ms`\n",
    "\n",
    "- using dedicated library functions for text search rather than substring\n",
    "- to learn more about postgres string matching:\n",
    "    - https://www.postgresql.org/docs/9.1/functions-string.html\n",
    "    - https://www.postgresql.org/docs/9.1/functions-matching.html\n",
    "\n",
    "```sql\n",
    "SELECT COUNT(*) FROM comments WHERE text LIKE '% hello %' OR text LIKE '% hi %';\n",
    "```\n",
    "\n",
    "adding index on the text column: `30.10 ms`\n",
    "\n",
    "- improving lookup time by adding an index on the text column\n",
    "\n",
    "```sql\n",
    "CREATE INDEX text_index ON comments (text);\n",
    "SELECT COUNT(*) FROM comments WHERE text LIKE '% hello %' OR text LIKE '% hi %';\n",
    "```\n",
    "\n"
   ]
  },
  {
   "cell_type": "markdown",
   "metadata": {},
   "source": [
    "### simplifying the string matching"
   ]
  },
  {
   "cell_type": "code",
   "execution_count": 326,
   "metadata": {},
   "outputs": [
    {
     "name": "stdout",
     "output_type": "stream",
     "text": [
      " substring \n",
      "-----------\n",
      "  is \n",
      "(1 row)\n",
      "\n",
      " substring \n",
      "-----------\n",
      "  is \n",
      "(1 row)\n",
      "\n",
      " substring \n",
      "-----------\n",
      "  is \n",
      "(1 row)\n",
      "\n",
      " substring \n",
      "-----------\n",
      "  is \n",
      "(1 row)\n",
      "\n",
      "  id   | postid | score |                                                                                                                                           text                                                                                                                                            |      creationdate       | userid | userdisplayname | contentlicense \n",
      "-------+--------+-------+-------------------------------------------------------------------------------------------------------------------------------------------------------------------------------------------------------------------------------------------------------------------------------------------+-------------------------+--------+-----------------+----------------\n",
      " 37171 |  17355 |     1 | the infrared radiation from the sun is shortwave infrared and is not stopped by the atmosphere,the earth emits infrared radiation in longwave radiation and a lot of this gets absorbed and radiated back to the suface of earth(the atmosphere behave like a hi pass filter in infrared) | 2019-07-02 12:21:07.667 |   6258 |                 | CC BY-SA 4.0\n",
      "(1 row)\n",
      "\n",
      "  id   | postid | score |                                                                                                                                           text                                                                                                                                            |      creationdate       | userid | userdisplayname | contentlicense \n",
      "-------+--------+-------+-------------------------------------------------------------------------------------------------------------------------------------------------------------------------------------------------------------------------------------------------------------------------------------------+-------------------------+--------+-----------------+----------------\n",
      " 37171 |  17355 |     1 | the infrared radiation from the sun is shortwave infrared and is not stopped by the atmosphere,the earth emits infrared radiation in longwave radiation and a lot of this gets absorbed and radiated back to the suface of earth(the atmosphere behave like a hi pass filter in infrared) | 2019-07-02 12:21:07.667 |   6258 |                 | CC BY-SA 4.0\n",
      "(1 row)\n",
      "\n"
     ]
    }
   ],
   "source": [
    "# equivalent\n",
    "!psql postgres -c \"select substring('this is swaggy' from '%#\\\" is #\\\"%' for '#');\"\n",
    "!psql postgres -c \"select substring('this is swaggy' from '%@\\\" is @\\\"%' for '@');\"\n",
    "!psql postgres -c \"select substring('this is swaggy' from '%$\\\" is $\\\"%' for '$');\"\n",
    "!psql postgres -c \"select substring('this is swaggy', ' is ');\"\n",
    "\n",
    "# simplified parts of original query\n",
    "!psql postgres -c \"SELECT * FROM comments WHERE substring(text from '%#\\\" hi #\\\"%' for '#') IS NOT NULL;\"\n",
    "!psql postgres -c \"SELECT * FROM comments WHERE substring(text, ' hi ') IS NOT NULL;\""
   ]
  },
  {
   "cell_type": "code",
   "execution_count": 339,
   "metadata": {},
   "outputs": [
    {
     "name": "stdout",
     "output_type": "stream",
     "text": [
      "  id   | postid | score |                                                                                                                                           text                                                                                                                                            |      creationdate       | userid | userdisplayname | contentlicense \n",
      "-------+--------+-------+-------------------------------------------------------------------------------------------------------------------------------------------------------------------------------------------------------------------------------------------------------------------------------------------+-------------------------+--------+-----------------+----------------\n",
      " 37171 |  17355 |     1 | the infrared radiation from the sun is shortwave infrared and is not stopped by the atmosphere,the earth emits infrared radiation in longwave radiation and a lot of this gets absorbed and radiated back to the suface of earth(the atmosphere behave like a hi pass filter in infrared) | 2019-07-02 12:21:07.667 |   6258 |                 | CC BY-SA 4.0\n",
      "(1 row)\n",
      "\n",
      "  id   | postid | score |                                                                                                                                           text                                                                                                                                            |      creationdate       | userid | userdisplayname | contentlicense \n",
      "-------+--------+-------+-------------------------------------------------------------------------------------------------------------------------------------------------------------------------------------------------------------------------------------------------------------------------------------------+-------------------------+--------+-----------------+----------------\n",
      " 37171 |  17355 |     1 | the infrared radiation from the sun is shortwave infrared and is not stopped by the atmosphere,the earth emits infrared radiation in longwave radiation and a lot of this gets absorbed and radiated back to the suface of earth(the atmosphere behave like a hi pass filter in infrared) | 2019-07-02 12:21:07.667 |   6258 |                 | CC BY-SA 4.0\n",
      "(1 row)\n",
      "\n",
      "  id   | postid | score |                                                                                                                                           text                                                                                                                                            |      creationdate       | userid | userdisplayname | contentlicense \n",
      "-------+--------+-------+-------------------------------------------------------------------------------------------------------------------------------------------------------------------------------------------------------------------------------------------------------------------------------------------+-------------------------+--------+-----------------+----------------\n",
      " 37171 |  17355 |     1 | the infrared radiation from the sun is shortwave infrared and is not stopped by the atmosphere,the earth emits infrared radiation in longwave radiation and a lot of this gets absorbed and radiated back to the suface of earth(the atmosphere behave like a hi pass filter in infrared) | 2019-07-02 12:21:07.667 |   6258 |                 | CC BY-SA 4.0\n",
      "(1 row)\n",
      "\n"
     ]
    }
   ],
   "source": [
    "# original\n",
    "!psql postgres -c \"SELECT * FROM comments WHERE substring(text from '%#\\\" hello #\\\"%' for '#') IS NOT NULL OR substring(text from '%#\\\" hi #\\\"%' for '#') IS NOT NULL;\"\n",
    "\n",
    "# simplified\n",
    "!psql postgres -c \"SELECT * FROM comments WHERE substring(text, ' hello ') IS NOT NULL OR substring(text, ' hi ') IS NOT NULL;\"\n",
    "!psql postgres -c \"SELECT * FROM comments WHERE text LIKE '% hello %' OR text LIKE '% hi %';\""
   ]
  },
  {
   "cell_type": "code",
   "execution_count": 343,
   "metadata": {},
   "outputs": [
    {
     "name": "stdout",
     "output_type": "stream",
     "text": [
      "                                                     QUERY PLAN                                                      \n",
      "---------------------------------------------------------------------------------------------------------------------\n",
      " Aggregate  (cost=1475.85..1475.86 rows=1 width=8) (actual time=76.807..76.807 rows=1 loops=1)\n",
      "   ->  Seq Scan on comments  (cost=0.00..1412.44 rows=25362 width=0) (actual time=61.066..76.797 rows=1 loops=1)\n",
      "         Filter: ((\"substring\"(text, ' hello '::text) IS NOT NULL) OR (\"substring\"(text, ' hi '::text) IS NOT NULL))\n",
      "         Rows Removed by Filter: 25362\n",
      " Planning Time: 0.274 ms\n",
      " Execution Time: 76.858 ms\n",
      "(6 rows)\n",
      "\n",
      "                                                 QUERY PLAN                                                  \n",
      "-------------------------------------------------------------------------------------------------------------\n",
      " Aggregate  (cost=1412.46..1412.47 rows=1 width=8) (actual time=48.866..48.867 rows=1 loops=1)\n",
      "   ->  Seq Scan on comments  (cost=0.00..1412.44 rows=5 width=0) (actual time=37.891..48.852 rows=1 loops=1)\n",
      "         Filter: ((text ~~ '% hello %'::text) OR (text ~~ '% hi %'::text))\n",
      "         Rows Removed by Filter: 25362\n",
      " Planning Time: 0.900 ms\n",
      " Execution Time: 48.933 ms\n",
      "(6 rows)\n",
      "\n"
     ]
    }
   ],
   "source": [
    "# checking performance (we can't use my library because it breaks on nested double quotes)\n",
    "\n",
    "!psql postgres -c \"explain (analyze) SELECT count(*) FROM comments WHERE substring(text, ' hello ') IS NOT NULL OR substring(text, ' hi ') IS NOT NULL;\"\n",
    "!psql postgres -c \"explain (analyze) SELECT count(*) FROM comments WHERE text LIKE '% hello %' OR text LIKE '% hi %';\""
   ]
  },
  {
   "cell_type": "markdown",
   "metadata": {},
   "source": [
    "### other optimizations"
   ]
  },
  {
   "cell_type": "code",
   "execution_count": 354,
   "metadata": {},
   "outputs": [
    {
     "name": "stdout",
     "output_type": "stream",
     "text": [
      "ERROR:  relation \"text_index\" already exists\n",
      "average execution time in 10 interations: 31.76 ms\n"
     ]
    }
   ],
   "source": [
    "# create index on text\n",
    "!psql postgres -c \"CREATE INDEX text_index ON comments (text);\"\n",
    "print_avg_time(\"SELECT count(*) FROM comments WHERE text LIKE '% hello %' OR text LIKE '% hi %';\")"
   ]
  },
  {
   "cell_type": "code",
   "execution_count": 355,
   "metadata": {},
   "outputs": [
    {
     "name": "stdout",
     "output_type": "stream",
     "text": [
      " count \n",
      "-------\n",
      "     1\n",
      "(1 row)\n",
      "\n",
      "average execution time in 10 interations: 32.43 ms\n"
     ]
    }
   ],
   "source": [
    "!psql postgres -c \"SELECT count(score) FROM comments WHERE text LIKE '% hello %' OR text LIKE '% hi %';\"\n",
    "print_avg_time(\"SELECT count(score) FROM comments WHERE text LIKE '% hello %' OR text LIKE '% hi %';\")\n"
   ]
  },
  {
   "cell_type": "code",
   "execution_count": null,
   "metadata": {},
   "outputs": [],
   "source": []
  }
 ],
 "metadata": {
  "kernelspec": {
   "display_name": "Python 3",
   "language": "python",
   "name": "python3"
  },
  "language_info": {
   "codemirror_mode": {
    "name": "ipython",
    "version": 3
   },
   "file_extension": ".py",
   "mimetype": "text/x-python",
   "name": "python",
   "nbconvert_exporter": "python",
   "pygments_lexer": "ipython3",
   "version": "3.11.8"
  }
 },
 "nbformat": 4,
 "nbformat_minor": 2
}
