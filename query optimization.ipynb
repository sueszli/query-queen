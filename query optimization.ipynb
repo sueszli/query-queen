{
 "cells": [
  {
   "cell_type": "markdown",
   "metadata": {},
   "source": [
    "# query optimization"
   ]
  },
  {
   "cell_type": "markdown",
   "metadata": {},
   "source": [
    "the process of query optimization is very similar to the process of refactoring.\n",
    "\n",
    "the goal is to make the query more efficient without changing it's behavior.\n",
    "\n",
    "so ideally you should write TDD-style tests for your queries first before you start optimizing them to avoid any unexpected behavior changes.\n",
    "\n",
    "in this notebook we will go through some common query optimization techniques based on examples."
   ]
  },
  {
   "cell_type": "code",
   "execution_count": null,
   "metadata": {},
   "outputs": [],
   "source": [
    "!chmod +x ./reset.sh && ./reset.sh > /dev/null\n",
    "!psql postgres -c \"reset all;\""
   ]
  },
  {
   "cell_type": "code",
   "execution_count": 70,
   "metadata": {},
   "outputs": [
    {
     "name": "stdout",
     "output_type": "stream",
     "text": [
      "average execution time in 10 interations: 325.58 ms\n"
     ]
    }
   ],
   "source": [
    "import os\n",
    "import sys\n",
    "import json\n",
    "\n",
    "def equals_query(query1: str, query2: str, prefix: str=\"\") -> bool:\n",
    "    output1 = os.popen(f'psql postgres -c \"{prefix} {query1};\"').read()\n",
    "    output2 = os.popen(f'psql postgres -c \"{prefix} {query2};\"').read()\n",
    "    length_match = len(output1) == len(output2)\n",
    "    \n",
    "    output1 = output1.splitlines()\n",
    "    output2 = output2.splitlines()\n",
    "    output1.sort()\n",
    "    output2.sort()\n",
    "    output1 = \"\\n\".join(output1)\n",
    "    output2 = \"\\n\".join(output2)\n",
    "    non_order_match = output1 == output2\n",
    "    \n",
    "    return length_match and non_order_match\n",
    "\n",
    "def print_simple_execution_plan(query: str, prefix: str=\"\") -> None:\n",
    "    output = os.popen(f'psql postgres -c \"{prefix} explain (analyze, verbose off, costs off, settings off, generic_plan off, buffers off, wal off, timing off, summary off) {query};\"').read()\n",
    "    print(output)\n",
    "\n",
    "def print_verbose_execution_plan(query: str, prefix: str=\"\") -> None:\n",
    "    output = os.popen(f'psql postgres -c \"{prefix} explain (analyze, verbose, costs, settings, buffers, wal, timing, summary) {query};\"').read()\n",
    "    print(output)\n",
    "\n",
    "def print_avg_time(query: str, prefix: str=\"\", iters:int=10) -> None:   \n",
    "    def get_exec_time(query: str, prefix: str=\"\") -> float:\n",
    "        output = os.popen(f'psql postgres -c \"{prefix} explain (analyze, verbose, costs, settings, buffers, wal, timing, summary, format json) {query};\"').read()\n",
    "        output = output.splitlines()[2:-2]\n",
    "        for i in range(len(output)):\n",
    "            if len(output[i]) > 2:\n",
    "                output[i] = output[i][:-1]\n",
    "        output = \"\\n\".join(output)\n",
    "        output = json.loads(output)[0]\n",
    "        return float(output[\"Execution Time\"])\n",
    "\n",
    "    vals = []\n",
    "    for _ in range(iters):\n",
    "        vals.append(get_exec_time(query, prefix))\n",
    "        sys.stdout.write(f\"\\r{iters - _} iterations left\")\n",
    "        sys.stdout.write(\"\\r\")\n",
    "        sys.stdout.flush()\n",
    "    print(f\"average execution time in {iters} interations: {sum(vals) / iters:.2f} ms\")\n",
    "\n",
    "# demo\n",
    "demo_q1 = \"SELECT a,b,c FROM r NATURAL JOIN s NATURAL JOIN t\"\n",
    "demo_q2 = \"SELECT a,b,c FROM r NATURAL JOIN s NATURAL JOIN t ORDER BY a,b,c\"\n",
    "assert equals_query(demo_q1, demo_q2)\n",
    "# print_simple_execution_plan(demo_q1)\n",
    "# print_verbose_execution_plan(demo_q1)\n",
    "print_avg_time(demo_q1)\n"
   ]
  },
  {
   "cell_type": "markdown",
   "metadata": {},
   "source": [
    "# example a) text search query"
   ]
  },
  {
   "cell_type": "markdown",
   "metadata": {},
   "source": [
    "\n",
    "original query: `76.858 ms`\n",
    "\n",
    "- uses substring to search for a specific word in the text column\n",
    "- to learn more about postgres substring function and string matching:\n",
    "    - https://www.postgresql.org/docs/9.1/functions-string.html\n",
    "    - https://www.postgresql.org/docs/9.1/functions-matching.html\n",
    "\n",
    "```sql\n",
    "SELECT COUNT(*) FROM comments\n",
    "WHERE substring(text from '%#\" hello #\"%' for '#') IS NOT NULL\n",
    "OR substring(text from '%#\" hi #\"%' for '#') IS NOT NULL;\n",
    "```\n",
    "\n",
    "---\n",
    "\n",
    "better standard library: `48.933 ms`\n",
    "\n",
    "- the substring function is not meant for text matching\n",
    "\n",
    "```sql\n",
    "SELECT COUNT(*) FROM comments WHERE text LIKE '% hello %' OR text LIKE '% hi %';\n",
    "```\n",
    "\n",
    "---\n",
    "\n",
    "index on search field: `31.11 ms`\n",
    "\n",
    "- improving lookup time by adding an index on the text column\n",
    "\n",
    "```sql\n",
    "CREATE INDEX text_index ON comments (text);\n",
    "SELECT COUNT(*) FROM comments WHERE text LIKE '% hello %' OR text LIKE '% hi %';\n",
    "```\n",
    "\n",
    "---\n",
    "\n",
    "precompute the results: `0.3 ms`\n",
    "\n",
    "- we can add a new column to the table to store the result of the search that we have to set on each insert or update\n",
    "- add an index on the new column to improve lookup time\n",
    "- can be done with a trigger but it could be considered cheating because it's less about query optimization and more about data optimization\n",
    "- there are much nicer ways to do this, as we will see in the next example\n",
    "\n",
    "```sql\n",
    "ALTER TABLE comments ADD COLUMN is_match boolean;\n",
    "UPDATE comments SET is_match = TRUE WHERE text LIKE '% hello %' OR text LIKE '% hi %';\n",
    "CREATE INDEX is_match_index ON comments (is_match);\n",
    "SELECT count(*) FROM comments WHERE is_match = TRUE;\n",
    "```"
   ]
  },
  {
   "cell_type": "markdown",
   "metadata": {},
   "source": [
    "### simplify the string matching"
   ]
  },
  {
   "cell_type": "code",
   "execution_count": 326,
   "metadata": {},
   "outputs": [
    {
     "name": "stdout",
     "output_type": "stream",
     "text": [
      " substring \n",
      "-----------\n",
      "  is \n",
      "(1 row)\n",
      "\n",
      " substring \n",
      "-----------\n",
      "  is \n",
      "(1 row)\n",
      "\n",
      " substring \n",
      "-----------\n",
      "  is \n",
      "(1 row)\n",
      "\n",
      " substring \n",
      "-----------\n",
      "  is \n",
      "(1 row)\n",
      "\n",
      "  id   | postid | score |                                                                                                                                           text                                                                                                                                            |      creationdate       | userid | userdisplayname | contentlicense \n",
      "-------+--------+-------+-------------------------------------------------------------------------------------------------------------------------------------------------------------------------------------------------------------------------------------------------------------------------------------------+-------------------------+--------+-----------------+----------------\n",
      " 37171 |  17355 |     1 | the infrared radiation from the sun is shortwave infrared and is not stopped by the atmosphere,the earth emits infrared radiation in longwave radiation and a lot of this gets absorbed and radiated back to the suface of earth(the atmosphere behave like a hi pass filter in infrared) | 2019-07-02 12:21:07.667 |   6258 |                 | CC BY-SA 4.0\n",
      "(1 row)\n",
      "\n",
      "  id   | postid | score |                                                                                                                                           text                                                                                                                                            |      creationdate       | userid | userdisplayname | contentlicense \n",
      "-------+--------+-------+-------------------------------------------------------------------------------------------------------------------------------------------------------------------------------------------------------------------------------------------------------------------------------------------+-------------------------+--------+-----------------+----------------\n",
      " 37171 |  17355 |     1 | the infrared radiation from the sun is shortwave infrared and is not stopped by the atmosphere,the earth emits infrared radiation in longwave radiation and a lot of this gets absorbed and radiated back to the suface of earth(the atmosphere behave like a hi pass filter in infrared) | 2019-07-02 12:21:07.667 |   6258 |                 | CC BY-SA 4.0\n",
      "(1 row)\n",
      "\n"
     ]
    }
   ],
   "source": [
    "# equivalent\n",
    "!psql postgres -c \"select substring('this is swaggy' from '%#\\\" is #\\\"%' for '#');\"\n",
    "!psql postgres -c \"select substring('this is swaggy' from '%@\\\" is @\\\"%' for '@');\"\n",
    "!psql postgres -c \"select substring('this is swaggy' from '%$\\\" is $\\\"%' for '$');\"\n",
    "!psql postgres -c \"select substring('this is swaggy', ' is ');\"\n",
    "\n",
    "# simplified parts of original query\n",
    "!psql postgres -c \"SELECT * FROM comments WHERE substring(text from '%#\\\" hi #\\\"%' for '#') IS NOT NULL;\"\n",
    "!psql postgres -c \"SELECT * FROM comments WHERE substring(text, ' hi ') IS NOT NULL;\""
   ]
  },
  {
   "cell_type": "code",
   "execution_count": 339,
   "metadata": {},
   "outputs": [
    {
     "name": "stdout",
     "output_type": "stream",
     "text": [
      "  id   | postid | score |                                                                                                                                           text                                                                                                                                            |      creationdate       | userid | userdisplayname | contentlicense \n",
      "-------+--------+-------+-------------------------------------------------------------------------------------------------------------------------------------------------------------------------------------------------------------------------------------------------------------------------------------------+-------------------------+--------+-----------------+----------------\n",
      " 37171 |  17355 |     1 | the infrared radiation from the sun is shortwave infrared and is not stopped by the atmosphere,the earth emits infrared radiation in longwave radiation and a lot of this gets absorbed and radiated back to the suface of earth(the atmosphere behave like a hi pass filter in infrared) | 2019-07-02 12:21:07.667 |   6258 |                 | CC BY-SA 4.0\n",
      "(1 row)\n",
      "\n",
      "  id   | postid | score |                                                                                                                                           text                                                                                                                                            |      creationdate       | userid | userdisplayname | contentlicense \n",
      "-------+--------+-------+-------------------------------------------------------------------------------------------------------------------------------------------------------------------------------------------------------------------------------------------------------------------------------------------+-------------------------+--------+-----------------+----------------\n",
      " 37171 |  17355 |     1 | the infrared radiation from the sun is shortwave infrared and is not stopped by the atmosphere,the earth emits infrared radiation in longwave radiation and a lot of this gets absorbed and radiated back to the suface of earth(the atmosphere behave like a hi pass filter in infrared) | 2019-07-02 12:21:07.667 |   6258 |                 | CC BY-SA 4.0\n",
      "(1 row)\n",
      "\n",
      "  id   | postid | score |                                                                                                                                           text                                                                                                                                            |      creationdate       | userid | userdisplayname | contentlicense \n",
      "-------+--------+-------+-------------------------------------------------------------------------------------------------------------------------------------------------------------------------------------------------------------------------------------------------------------------------------------------+-------------------------+--------+-----------------+----------------\n",
      " 37171 |  17355 |     1 | the infrared radiation from the sun is shortwave infrared and is not stopped by the atmosphere,the earth emits infrared radiation in longwave radiation and a lot of this gets absorbed and radiated back to the suface of earth(the atmosphere behave like a hi pass filter in infrared) | 2019-07-02 12:21:07.667 |   6258 |                 | CC BY-SA 4.0\n",
      "(1 row)\n",
      "\n"
     ]
    }
   ],
   "source": [
    "# original\n",
    "!psql postgres -c \"SELECT * FROM comments WHERE substring(text from '%#\\\" hello #\\\"%' for '#') IS NOT NULL OR substring(text from '%#\\\" hi #\\\"%' for '#') IS NOT NULL;\"\n",
    "\n",
    "# simplified\n",
    "!psql postgres -c \"SELECT * FROM comments WHERE substring(text, ' hello ') IS NOT NULL OR substring(text, ' hi ') IS NOT NULL;\"\n",
    "!psql postgres -c \"SELECT * FROM comments WHERE text LIKE '% hello %' OR text LIKE '% hi %';\""
   ]
  },
  {
   "cell_type": "code",
   "execution_count": 343,
   "metadata": {},
   "outputs": [
    {
     "name": "stdout",
     "output_type": "stream",
     "text": [
      "                                                     QUERY PLAN                                                      \n",
      "---------------------------------------------------------------------------------------------------------------------\n",
      " Aggregate  (cost=1475.85..1475.86 rows=1 width=8) (actual time=76.807..76.807 rows=1 loops=1)\n",
      "   ->  Seq Scan on comments  (cost=0.00..1412.44 rows=25362 width=0) (actual time=61.066..76.797 rows=1 loops=1)\n",
      "         Filter: ((\"substring\"(text, ' hello '::text) IS NOT NULL) OR (\"substring\"(text, ' hi '::text) IS NOT NULL))\n",
      "         Rows Removed by Filter: 25362\n",
      " Planning Time: 0.274 ms\n",
      " Execution Time: 76.858 ms\n",
      "(6 rows)\n",
      "\n",
      "                                                 QUERY PLAN                                                  \n",
      "-------------------------------------------------------------------------------------------------------------\n",
      " Aggregate  (cost=1412.46..1412.47 rows=1 width=8) (actual time=48.866..48.867 rows=1 loops=1)\n",
      "   ->  Seq Scan on comments  (cost=0.00..1412.44 rows=5 width=0) (actual time=37.891..48.852 rows=1 loops=1)\n",
      "         Filter: ((text ~~ '% hello %'::text) OR (text ~~ '% hi %'::text))\n",
      "         Rows Removed by Filter: 25362\n",
      " Planning Time: 0.900 ms\n",
      " Execution Time: 48.933 ms\n",
      "(6 rows)\n",
      "\n"
     ]
    }
   ],
   "source": [
    "# checking performance (we can't use my library because it breaks on nested double quotes)\n",
    "\n",
    "!psql postgres -c \"explain (analyze) SELECT count(*) FROM comments WHERE substring(text, ' hello ') IS NOT NULL OR substring(text, ' hi ') IS NOT NULL;\"\n",
    "!psql postgres -c \"explain (analyze) SELECT count(*) FROM comments WHERE text LIKE '% hello %' OR text LIKE '% hi %';\""
   ]
  },
  {
   "cell_type": "markdown",
   "metadata": {},
   "source": [
    "### optimize through trial and error"
   ]
  },
  {
   "cell_type": "code",
   "execution_count": 368,
   "metadata": {},
   "outputs": [
    {
     "name": "stdout",
     "output_type": "stream",
     "text": [
      "ERROR:  relation \"text_index\" already exists\n",
      "average execution time in 10 interations: 31.11 ms\n"
     ]
    }
   ],
   "source": [
    "# create index on text\n",
    "!psql postgres -c \"CREATE INDEX text_index ON comments (text);\"\n",
    "print_avg_time(\"SELECT count(*) FROM comments WHERE text LIKE '% hello %' OR text LIKE '% hi %';\")"
   ]
  },
  {
   "cell_type": "code",
   "execution_count": 374,
   "metadata": {},
   "outputs": [
    {
     "name": "stdout",
     "output_type": "stream",
     "text": [
      "ERROR:  relation \"comments_small\" already exists\n",
      "ERROR:  relation \"text_index_small\" already exists\n",
      "average execution time in 10 interations: 32.58 ms\n"
     ]
    }
   ],
   "source": [
    "# new smaller table with index (actually slower lol)\n",
    "!psql postgres -c \"CREATE TABLE comments_small AS SELECT text FROM comments;\"\n",
    "!psql postgres -c \"CREATE INDEX text_index_small ON comments_small (text);\"\n",
    "print_avg_time(\"SELECT COUNT(*) FROM comments WHERE text LIKE '% hello %' OR text LIKE '% hi %';\")"
   ]
  },
  {
   "cell_type": "code",
   "execution_count": 378,
   "metadata": {},
   "outputs": [
    {
     "name": "stdout",
     "output_type": "stream",
     "text": [
      " ?column? \n",
      "----------\n",
      "        1\n",
      "(1 row)\n",
      "\n",
      "average execution time in 10 interations: 34.73 ms\n"
     ]
    }
   ],
   "source": [
    "# union all\n",
    "!psql postgres -c \"SELECT * FROM (SELECT 1 FROM comments WHERE text LIKE '% hello %' UNION ALL SELECT 1 FROM comments WHERE text LIKE '% hi %') AS temp;\"\n",
    "print_avg_time(\"SELECT count(*) FROM (SELECT 1 FROM comments WHERE text LIKE '% hello %' UNION ALL SELECT 1 FROM comments WHERE text LIKE '% hi %') AS temp;\")"
   ]
  },
  {
   "cell_type": "code",
   "execution_count": 381,
   "metadata": {},
   "outputs": [
    {
     "name": "stdout",
     "output_type": "stream",
     "text": [
      "ERROR:  column \"is_match\" of relation \"comments\" already exists\n",
      "UPDATE 1\n",
      "ERROR:  relation \"is_match_index\" already exists\n",
      "average execution time in 10 interations: 0.11 ms\n"
     ]
    }
   ],
   "source": [
    "# add \"is_match\" column to table (can be generated with a trigger)\n",
    "!psql postgres -c \"ALTER TABLE comments ADD COLUMN is_match boolean;\"\n",
    "!psql postgres -c \"UPDATE comments SET is_match = TRUE WHERE text LIKE '% hello %' OR text LIKE '% hi %';\"\n",
    "# add index to is_match\n",
    "!psql postgres -c \"CREATE INDEX is_match_index ON comments (is_match);\"\n",
    "print_avg_time(\"SELECT count(*) FROM comments WHERE is_match = TRUE;\")"
   ]
  },
  {
   "cell_type": "code",
   "execution_count": 382,
   "metadata": {},
   "outputs": [
    {
     "name": "stdout",
     "output_type": "stream",
     "text": [
      "                                QUERY PLAN                                 \n",
      "---------------------------------------------------------------------------\n",
      " Aggregate (actual rows=1 loops=1)\n",
      "   ->  Seq Scan on comments (actual rows=1 loops=1)\n",
      "         Filter: ((text ~~ '% hello %'::text) OR (text ~~ '% hi %'::text))\n",
      "         Rows Removed by Filter: 25362\n",
      "(4 rows)\n",
      "\n",
      "\n"
     ]
    }
   ],
   "source": [
    "print_simple_execution_plan(\"SELECT count(*) FROM comments WHERE text LIKE '% hello %' OR text LIKE '% hi %';\")"
   ]
  },
  {
   "cell_type": "markdown",
   "metadata": {},
   "source": [
    "# example b) nested query"
   ]
  },
  {
   "cell_type": "markdown",
   "metadata": {},
   "source": [
    "original query: `44819.041 ms`\n",
    "\n",
    "```sql\n",
    "SELECT DISTINCT b.name FROM badges b\n",
    "WHERE b.userid IN (\n",
    "    SELECT u.id from users u WHERE u.reputation < 0.5 * b.class\n",
    ");\n",
    "```\n",
    "\n",
    "---\n",
    "\n",
    "use natural join instead of nested query: `11.07 ms`\n",
    "\n",
    "```sql\n",
    "SELECT DISTINCT b.name FROM badges b JOIN users u ON b.userid = u.id WHERE u.reputation < 0.5 * b.class;\n",
    "```\n",
    "\n",
    "---\n",
    "\n",
    "use index with materialized view: `5.23 ms`\n",
    "\n",
    "```sql\n",
    "CREATE MATERIALIZED VIEW user_badge AS SELECT b.userid, b.name, u.reputation, b.class FROM badges b JOIN users u ON b.userid = u.id;\n",
    "CREATE INDEX users_reputation_idx ON users(reputation);\n",
    "CREATE INDEX badges_class_idx ON badges(class);\n",
    "SELECT DISTINCT name FROM user_badge WHERE reputation < 0.5 * class;\n",
    "```\n",
    "\n",
    "---\n",
    "\n",
    "precompute: `0.3 ms`\n",
    "\n",
    "```sql\n",
    "CREATE TABLE is_match AS SELECT DISTINCT name FROM user_badge WHERE reputation < 0.5 * class;\n",
    "CREATE INDEX is_match_idx ON is_match(name);\n",
    "SELECT * FROM is_match;\n",
    "```"
   ]
  },
  {
   "cell_type": "markdown",
   "metadata": {},
   "source": [
    "### test inital query"
   ]
  },
  {
   "cell_type": "code",
   "execution_count": 386,
   "metadata": {},
   "outputs": [
    {
     "name": "stdout",
     "output_type": "stream",
     "text": [
      "                                                           QUERY PLAN                                                            \n",
      "---------------------------------------------------------------------------------------------------------------------------------\n",
      " Unique  (cost=9651385.45..9651448.70 rows=86 width=10) (actual time=44818.861..44818.964 rows=29 loops=1)\n",
      "   ->  Sort  (cost=9651385.45..9651417.07 rows=12650 width=10) (actual time=44818.860..44818.904 rows=2408 loops=1)\n",
      "         Sort Key: b.name\n",
      "         Sort Method: quicksort  Memory: 149kB\n",
      "         ->  Seq Scan on badges b  (cost=0.00..9650523.55 rows=12650 width=10) (actual time=92.086..44818.214 rows=2408 loops=1)\n",
      "               Filter: (SubPlan 1)\n",
      "               Rows Removed by Filter: 22891\n",
      "               SubPlan 1\n",
      "                 ->  Seq Scan on users u  (cost=0.00..750.88 rows=4798 width=4) (actual time=0.197..1.646 rows=5707 loops=25299)\n",
      "                       Filter: ((reputation)::numeric < (0.5 * (b.class)::numeric))\n",
      "                       Rows Removed by Filter: 8062\n",
      " Planning Time: 0.617 ms\n",
      " Execution Time: 44819.041 ms\n",
      "(13 rows)\n",
      "\n"
     ]
    }
   ],
   "source": [
    "!psql postgres -c \"EXPLAIN ANALYSE SELECT DISTINCT b.name FROM badges b WHERE b.userid IN (SELECT u.id from users u WHERE u.reputation < 0.5 * b.class);\""
   ]
  },
  {
   "cell_type": "code",
   "execution_count": 383,
   "metadata": {},
   "outputs": [
    {
     "name": "stdout",
     "output_type": "stream",
     "text": [
      "                                     QUERY PLAN                                     \n",
      "------------------------------------------------------------------------------------\n",
      " Unique (actual rows=29 loops=1)\n",
      "   ->  Sort (actual rows=2408 loops=1)\n",
      "         Sort Key: b.name\n",
      "         Sort Method: quicksort  Memory: 149kB\n",
      "         ->  Seq Scan on badges b (actual rows=2408 loops=1)\n",
      "               Filter: (SubPlan 1)\n",
      "               Rows Removed by Filter: 22891\n",
      "               SubPlan 1\n",
      "                 ->  Seq Scan on users u (actual rows=5707 loops=25299)\n",
      "                       Filter: ((reputation)::numeric < (0.5 * (b.class)::numeric))\n",
      "                       Rows Removed by Filter: 8062\n",
      "(11 rows)\n",
      "\n",
      "\n"
     ]
    }
   ],
   "source": [
    "print_simple_execution_plan(\"SELECT DISTINCT b.name FROM badges b WHERE b.userid IN (SELECT u.id from users u WHERE u.reputation < 0.5 * b.class);\")"
   ]
  },
  {
   "cell_type": "markdown",
   "metadata": {},
   "source": [
    "### remove nested query with natural join"
   ]
  },
  {
   "cell_type": "code",
   "execution_count": 389,
   "metadata": {},
   "outputs": [
    {
     "name": "stdout",
     "output_type": "stream",
     "text": [
      "True\n"
     ]
    }
   ],
   "source": [
    "q1 = \"SELECT DISTINCT b.name FROM badges b WHERE b.userid IN (SELECT u.id from users u WHERE u.reputation < 0.5 * b.class);\"\n",
    "q2 = \"SELECT DISTINCT b.name FROM badges b JOIN users u ON b.userid = u.id WHERE u.reputation < 0.5 * b.class;\"\n",
    "print(equals_query(q1, q2))"
   ]
  },
  {
   "cell_type": "code",
   "execution_count": 408,
   "metadata": {},
   "outputs": [
    {
     "name": "stdout",
     "output_type": "stream",
     "text": [
      "average execution time in 10 interations: 11.07 ms\n"
     ]
    }
   ],
   "source": [
    "print_avg_time(\"SELECT DISTINCT b.name FROM badges b JOIN users u ON b.userid = u.id WHERE u.reputation < 0.5 * b.class;\")"
   ]
  },
  {
   "cell_type": "code",
   "execution_count": 405,
   "metadata": {},
   "outputs": [
    {
     "name": "stdout",
     "output_type": "stream",
     "text": [
      "                                 QUERY PLAN                                  \n",
      "-----------------------------------------------------------------------------\n",
      " HashAggregate (actual rows=29 loops=1)\n",
      "   Group Key: b.name\n",
      "   Batches: 1  Memory Usage: 40kB\n",
      "   ->  Hash Join (actual rows=2408 loops=1)\n",
      "         Hash Cond: (b.userid = u.id)\n",
      "         Join Filter: ((u.reputation)::numeric < (0.5 * (b.class)::numeric))\n",
      "         Rows Removed by Join Filter: 22891\n",
      "         ->  Seq Scan on badges b (actual rows=25299 loops=1)\n",
      "         ->  Hash (actual rows=14394 loops=1)\n",
      "               Buckets: 16384  Batches: 1  Memory Usage: 691kB\n",
      "               ->  Seq Scan on users u (actual rows=14394 loops=1)\n",
      "(11 rows)\n",
      "\n",
      "\n"
     ]
    }
   ],
   "source": [
    "print_simple_execution_plan(\"SELECT DISTINCT b.name FROM badges b JOIN users u ON b.userid = u.id WHERE u.reputation < 0.5 * b.class;\")"
   ]
  },
  {
   "cell_type": "markdown",
   "metadata": {},
   "source": [
    "### optimize through trial and error"
   ]
  },
  {
   "cell_type": "code",
   "execution_count": 433,
   "metadata": {},
   "outputs": [
    {
     "name": "stdout",
     "output_type": "stream",
     "text": [
      "CREATE INDEX\n",
      "CREATE INDEX\n",
      "average execution time in 10 interations: 11.57 ms\n"
     ]
    }
   ],
   "source": [
    "# too many indexes actually make it slower\n",
    "!psql postgres -c \"CREATE INDEX badges_user_id ON badges (userid);\"\n",
    "# !psql postgres -c \"CREATE INDEX badges_class ON badges (class);\"\n",
    "!psql postgres -c \"CREATE INDEX users_id ON users (id);\"\n",
    "# !psql postgres -c \"CREATE INDEX users_reputation ON users (reputation);\"\n",
    "print_avg_time(\"SELECT DISTINCT b.name FROM badges b JOIN users u ON b.userid = u.id WHERE u.reputation < 0.5 * b.class;\")"
   ]
  },
  {
   "cell_type": "code",
   "execution_count": 435,
   "metadata": {},
   "outputs": [
    {
     "name": "stdout",
     "output_type": "stream",
     "text": [
      "ERROR:  relation \"user_badge\" already exists\n",
      "ERROR:  relation \"users_reputation_idx\" already exists\n",
      "ERROR:  relation \"badges_class_idx\" already exists\n",
      "True\n",
      "average execution time in 10 interations: 5.33 ms\n"
     ]
    }
   ],
   "source": [
    "# use materialized view with index\n",
    "!psql postgres -c \"CREATE MATERIALIZED VIEW user_badge AS SELECT b.userid, b.name, u.reputation, b.class FROM badges b JOIN users u ON b.userid = u.id;\"\n",
    "!psql postgres -c \"CREATE INDEX users_reputation_idx ON users(reputation);\"\n",
    "!psql postgres -c \"CREATE INDEX badges_class_idx ON badges(class);\"\n",
    "\n",
    "print(equals_query(\"SELECT DISTINCT b.name FROM badges b JOIN users u ON b.userid = u.id WHERE u.reputation < 0.5 * b.class;\", \"SELECT DISTINCT name FROM user_badge WHERE reputation < 0.5 * class;\"))\n",
    "print_avg_time(\"SELECT DISTINCT name FROM user_badge WHERE reputation < 0.5 * class;\")"
   ]
  },
  {
   "cell_type": "code",
   "execution_count": 434,
   "metadata": {},
   "outputs": [
    {
     "name": "stdout",
     "output_type": "stream",
     "text": [
      "ERROR:  relation \"is_match\" already exists\n"
     ]
    },
    {
     "name": "stdout",
     "output_type": "stream",
     "text": [
      "ERROR:  relation \"is_match_idx\" already exists\n",
      "average execution time in 10 interations: 0.03 ms\n"
     ]
    }
   ],
   "source": [
    "# precompute\n",
    "!psql postgres -c \"CREATE TABLE is_match AS SELECT DISTINCT name FROM user_badge WHERE reputation < 0.5 * class;\"\n",
    "!psql postgres -c \"CREATE INDEX is_match_idx ON is_match(name);\"\n",
    "print_avg_time(\"SELECT * FROM is_match;\")"
   ]
  },
  {
   "cell_type": "markdown",
   "metadata": {},
   "source": [
    "# example c) repetitive predicates"
   ]
  },
  {
   "cell_type": "markdown",
   "metadata": {},
   "source": [
    "original query: `77278.435 ms`\n",
    "\n",
    "```sql\n",
    "SELECT distinct b.userid FROM badges b\n",
    "WHERE -- they are the only users with a badge that starts with 'qu'\n",
    "(SELECT count(distinct b2.name) FROM badges b2 WHERE b2.name ILIKE 'qu%' AND b2.userid=b.userid)\n",
    "=\n",
    "(SELECT count(distinct b2.name) FROM badges b2 WHERE b2.name ILIKE 'qu%');\n",
    "```\n",
    "\n",
    "---\n",
    "\n",
    "move filter further up: `12.02 ms`\n",
    "\n",
    "```sql\n",
    "SELECT DISTINCT b.userid\n",
    "FROM badges b\n",
    "JOIN badges b2 ON b.userid = b2.userid\n",
    "WHERE b.name ILIKE 'qu%'\n",
    "GROUP BY DISTINCT b.userid\n",
    "HAVING COUNT(b2.name) = COUNT(b.name);\n",
    "```\n",
    "\n",
    "---\n",
    "\n",
    "use index with materialized view: `11.62 ms`\n",
    "\n",
    "```sql\n",
    "CREATE MATERIALIZED VIEW badge_counts AS SELECT userid, COUNT(name) FROM badges GROUP BY userid;\n",
    "\n",
    "CREATE INDEX userid_idx ON badge_counts(userid);\n",
    "CREATE INDEX count_idx ON badge_counts(count);\n",
    "\n",
    "SELECT DISTINCT b.userid\n",
    "FROM badges b\n",
    "JOIN badges b2 ON b.userid = b2.userid\n",
    "WHERE b.name ILIKE 'qu%'\n",
    "GROUP BY distinct b.userid\n",
    "HAVING COUNT(b2.name) = COUNT(b.name);\n",
    "```"
   ]
  },
  {
   "cell_type": "code",
   "execution_count": 439,
   "metadata": {},
   "outputs": [
    {
     "name": "stdout",
     "output_type": "stream",
     "text": [
      "                                                                QUERY PLAN                                                                \n",
      "------------------------------------------------------------------------------------------------------------------------------------------\n",
      " Unique  (cost=15168148.36..15168148.99 rows=125 width=4) (actual time=77278.187..77278.379 rows=118 loops=1)\n",
      "   InitPlan 2 (returns $1)\n",
      "     ->  Aggregate  (cost=540.98..540.99 rows=1 width=8) (actual time=3.165..3.167 rows=1 loops=1)\n",
      "           ->  Sort  (cost=540.38..540.68 rows=120 width=10) (actual time=3.158..3.162 rows=118 loops=1)\n",
      "                 Sort Key: b2_1.name\n",
      "                 Sort Method: quicksort  Memory: 26kB\n",
      "                 ->  Seq Scan on badges b2_1  (cost=0.00..536.24 rows=120 width=10) (actual time=0.007..3.138 rows=118 loops=1)\n",
      "                       Filter: (name ~~* 'qu%'::text)\n",
      "                       Rows Removed by Filter: 25181\n",
      "   ->  Sort  (cost=15167607.37..15167607.69 rows=126 width=4) (actual time=77278.186..77278.271 rows=4428 loops=1)\n",
      "         Sort Key: b.userid\n",
      "         Sort Method: quicksort  Memory: 193kB\n",
      "         ->  Seq Scan on badges b  (cost=0.00..15167602.98 rows=126 width=4) (actual time=12.641..77277.746 rows=4428 loops=1)\n",
      "               Filter: ((SubPlan 1) = $1)\n",
      "               Rows Removed by Filter: 20871\n",
      "               SubPlan 1\n",
      "                 ->  Aggregate  (cost=599.50..599.51 rows=1 width=8) (actual time=3.054..3.054 rows=1 loops=25299)\n",
      "                       ->  Sort  (cost=599.50..599.50 rows=1 width=10) (actual time=3.054..3.054 rows=0 loops=25299)\n",
      "                             Sort Key: b2.name\n",
      "                             Sort Method: quicksort  Memory: 25kB\n",
      "                             ->  Seq Scan on badges b2  (cost=0.00..599.49 rows=1 width=10) (actual time=2.615..3.052 rows=0 loops=25299)\n",
      "                                   Filter: ((name ~~* 'qu%'::text) AND (userid = b.userid))\n",
      "                                   Rows Removed by Filter: 25299\n",
      " Planning Time: 0.212 ms\n",
      " Execution Time: 77278.435 ms\n",
      "(25 rows)\n",
      "\n"
     ]
    }
   ],
   "source": [
    "oldq = \"\"\"\n",
    "SELECT distinct b.userid FROM badges b\n",
    "WHERE\n",
    "(SELECT count(distinct b2.name) FROM badges b2 WHERE b2.name ILIKE 'qu%' AND b2.userid=b.userid)\n",
    "=\n",
    "(SELECT count(distinct b2.name) FROM badges b2 WHERE b2.name ILIKE 'qu%');\n",
    "\"\"\"\n",
    "!psql postgres -c \"explain (analyze) {oldq}\""
   ]
  },
  {
   "cell_type": "code",
   "execution_count": 507,
   "metadata": {},
   "outputs": [],
   "source": [
    "q1 = \"\"\"\n",
    "SELECT distinct b.userid FROM badges b\n",
    "WHERE\n",
    "(SELECT count(distinct b2.name) FROM badges b2 WHERE b2.name ILIKE 'qu%' AND b2.userid=b.userid)\n",
    "=\n",
    "(SELECT count(distinct b2.name) FROM badges b2 WHERE b2.name ILIKE 'qu%');\n",
    "\"\"\"\n",
    "\n",
    "q2 = \"\"\"\n",
    "SELECT DISTINCT b.userid\n",
    "FROM badges b\n",
    "JOIN badges b2 ON b.userid = b2.userid\n",
    "WHERE b.name ILIKE 'qu%'\n",
    "GROUP BY distinct b.userid\n",
    "HAVING COUNT(b2.name) = COUNT(b.name);\n",
    "\"\"\"\n",
    "\n",
    "assert equals_query(q1, q2), \"queries are not equivalent\"\n"
   ]
  },
  {
   "cell_type": "code",
   "execution_count": 515,
   "metadata": {},
   "outputs": [
    {
     "name": "stdout",
     "output_type": "stream",
     "text": [
      "average execution time in 10 interations: 12.02 ms\n"
     ]
    }
   ],
   "source": [
    "q1 = \"\"\"\n",
    "SELECT DISTINCT b.userid\n",
    "FROM badges b\n",
    "JOIN badges b2 ON b.userid = b2.userid\n",
    "WHERE b.name ILIKE 'qu%'\n",
    "GROUP BY distinct b.userid\n",
    "HAVING COUNT(b2.name) = COUNT(b.name);\n",
    "\"\"\"\n",
    "\n",
    "print_avg_time(q1)\n"
   ]
  },
  {
   "cell_type": "code",
   "execution_count": 527,
   "metadata": {},
   "outputs": [
    {
     "name": "stdout",
     "output_type": "stream",
     "text": [
      "ERROR:  relation \"badge_counts\" already exists\n",
      "ERROR:  relation \"userid_idx\" already exists\n",
      "ERROR:  relation \"count_idx\" already exists\n",
      "average execution time in 10 interations: 10.62 ms\n"
     ]
    }
   ],
   "source": [
    "# both have no impact\n",
    "\n",
    "# materialized view\n",
    "!psql postgres -c \"CREATE MATERIALIZED VIEW badge_counts AS SELECT userid, COUNT(name) FROM badges GROUP BY userid;\"\n",
    "\n",
    "# index\n",
    "!psql postgres -c \"CREATE INDEX userid_idx ON badge_counts(userid);\"\n",
    "!psql postgres -c \"CREATE INDEX count_idx ON badge_counts(count);\"\n",
    "\n",
    "q1 = \"\"\"\n",
    "SELECT DISTINCT b.userid\n",
    "FROM badges b\n",
    "JOIN badges b2 ON b.userid = b2.userid\n",
    "WHERE b.name ILIKE 'qu%'\n",
    "GROUP BY distinct b.userid\n",
    "HAVING COUNT(b2.name) = COUNT(b.name);\n",
    "\"\"\"\n",
    "\n",
    "print_avg_time(q1)\n"
   ]
  },
  {
   "cell_type": "markdown",
   "metadata": {},
   "source": [
    "# example d) monstrosity"
   ]
  },
  {
   "cell_type": "markdown",
   "metadata": {},
   "source": [
    "original query: `1127.81 ms`\n",
    "\n",
    "```sql\n",
    "SELECT distinct p.*\n",
    "FROM users u, posthistory h, posts p, badges b\n",
    "WHERE u.id = h.userid\n",
    "AND h.userid = u.id\n",
    "AND h.userdisplayname = u.displayname\n",
    "AND p.id = h.postid\n",
    "AND b.userid = u.id\n",
    "AND (b.name SIMILAR TO 'Supporter' OR b.name SIMILAR TO 'Editor')\n",
    "AND\n",
    "    (SELECT AVG(u2.upvotes) FROM users u2 WHERE u2.creationdate > p.creationdate)\n",
    "    >\n",
    "    (SELECT COUNT(*) FROM votes v WHERE v.votetypeid = 15 AND v.postid = h.postid AND h.ContentLicense LIKE '%CC BY%');\n",
    "```\n",
    "\n",
    "---\n",
    "\n",
    "natural join with fewer predicates: `938.23 ms`\n",
    "\n",
    "```sql\n",
    "SELECT distinct p.*\n",
    "FROM users u\n",
    "JOIN posthistory h ON u.id = h.userid AND h.userdisplayname = u.displayname\n",
    "JOIN posts p ON p.id = h.postid\n",
    "JOIN badges b ON b.userid = u.id\n",
    "WHERE b.name SIMILAR TO 'Supporter' OR b.name SIMILAR TO 'Editor'\n",
    "AND\n",
    "    (SELECT AVG(u2.upvotes) FROM users u2 WHERE u2.creationdate > p.creationdate)\n",
    "    >\n",
    "    (SELECT COUNT(*) FROM votes v WHERE v.votetypeid = 15 AND v.postid = h.postid AND h.ContentLicense LIKE '%CC BY%');\n",
    "```\n",
    "\n",
    "---\n",
    "\n",
    "one single optimized subquery: `423.92 ms`\n",
    "\n",
    "```sql\n",
    "SELECT DISTINCT p.*\n",
    "FROM users u\n",
    "JOIN posthistory h ON u.id = h.userid AND h.userdisplayname = u.displayname\n",
    "JOIN posts p ON p.id = h.postid\n",
    "JOIN badges b ON b.userid = u.id\n",
    "WHERE (b.name = 'Supporter' OR b.name = 'Editor')\n",
    "AND EXISTS (\n",
    "    SELECT 1\n",
    "    FROM users u2 \n",
    "    WHERE u2.creationdate > p.creationdate\n",
    "    GROUP BY u2.id\n",
    "    HAVING AVG(u2.upvotes) > ( \n",
    "        SELECT COUNT(*) \n",
    "        FROM votes v \n",
    "        WHERE v.votetypeid = 15 \n",
    "          AND v.postid = h.postid \n",
    "          AND h.ContentLicense LIKE '%CC BY%'\n",
    "    )\n",
    ");\n",
    "```\n",
    "\n",
    "---\n",
    "\n",
    "index on search fields: `311.79 ms`\n",
    "\n",
    "```sql\n",
    "CREATE INDEX idx_users_id_displayname ON users(id, displayname);\n",
    "CREATE INDEX idx_posthistory_userid_userdisplayname_postid ON posthistory(userid, userdisplayname, postid);\n",
    "CREATE INDEX idx_posts_id ON posts(id);\n",
    "CREATE INDEX idx_badges_userid ON badges(userid);\n",
    "\n",
    "SELECT DISTINCT p.*\n",
    "FROM users u\n",
    "JOIN posthistory h ON u.id = h.userid AND h.userdisplayname = u.displayname\n",
    "JOIN posts p ON p.id = h.postid\n",
    "JOIN badges b ON b.userid = u.id\n",
    "WHERE (b.name = 'Supporter' OR b.name = 'Editor')\n",
    "AND EXISTS (\n",
    "    SELECT 1\n",
    "    FROM users u2 \n",
    "    WHERE u2.creationdate > p.creationdate\n",
    "    GROUP BY u2.id\n",
    "    HAVING AVG(u2.upvotes) > ( \n",
    "        SELECT COUNT(*) \n",
    "        FROM votes v \n",
    "        WHERE v.votetypeid = 15 \n",
    "          AND v.postid = h.postid \n",
    "          AND h.ContentLicense LIKE '%CC BY%'\n",
    "    )\n",
    ");\n",
    "```"
   ]
  },
  {
   "cell_type": "code",
   "execution_count": 541,
   "metadata": {},
   "outputs": [
    {
     "name": "stdout",
     "output_type": "stream",
     "text": [
      "average execution time in 10 interations: 1175.34 ms\n"
     ]
    }
   ],
   "source": [
    "q = \"\"\"\n",
    "SELECT distinct p.*\n",
    "FROM users u, posthistory h, posts p, badges b\n",
    "WHERE u.id = h.userid\n",
    "AND h.userid = u.id\n",
    "AND h.userdisplayname = u.displayname\n",
    "AND p.id = h.postid\n",
    "AND b.userid = u.id\n",
    "AND (b.name SIMILAR TO 'Supporter' OR b.name SIMILAR TO 'Editor')\n",
    "AND\n",
    "    (SELECT AVG(u2.upvotes) FROM users u2 WHERE u2.creationdate > p.creationdate)\n",
    "    >\n",
    "    (SELECT COUNT(*) FROM votes v WHERE v.votetypeid = 15 AND v.postid = h.postid AND h.ContentLicense LIKE '%CC BY%');\n",
    "\"\"\"\n",
    "\n",
    "print_avg_time(q)"
   ]
  },
  {
   "cell_type": "code",
   "execution_count": 561,
   "metadata": {},
   "outputs": [
    {
     "name": "stdout",
     "output_type": "stream",
     "text": [
      "average execution time in 10 interations: 1127.81 ms\n",
      "average execution time in 10 interations: 899.95 ms\n"
     ]
    }
   ],
   "source": [
    "q1 = \"\"\"\n",
    "SELECT distinct p.*\n",
    "FROM users u, posthistory h, posts p, badges b\n",
    "WHERE u.id = h.userid                           \n",
    "AND h.userid = u.id                             \n",
    "AND h.userdisplayname = u.displayname           \n",
    "AND p.id = h.postid                             \n",
    "AND b.userid = u.id                             \n",
    "AND (b.name SIMILAR TO 'Supporter' OR b.name SIMILAR TO 'Editor')\n",
    "AND\n",
    "    (SELECT AVG(u2.upvotes) FROM users u2 WHERE u2.creationdate > p.creationdate)\n",
    "    >\n",
    "    (SELECT COUNT(*) FROM votes v WHERE v.votetypeid = 15 AND v.postid = h.postid AND h.ContentLicense LIKE '%CC BY%');\n",
    "\"\"\"\n",
    "\n",
    "q2 = \"\"\"\n",
    "SELECT distinct p.*\n",
    "FROM users u\n",
    "JOIN posthistory h ON u.id = h.userid AND h.userdisplayname = u.displayname\n",
    "JOIN posts p ON p.id = h.postid\n",
    "JOIN badges b ON b.userid = u.id\n",
    "WHERE b.name SIMILAR TO 'Supporter' OR b.name SIMILAR TO 'Editor'\n",
    "AND\n",
    "    (SELECT AVG(u2.upvotes) FROM users u2 WHERE u2.creationdate > p.creationdate)\n",
    "    >\n",
    "    (SELECT COUNT(*) FROM votes v WHERE v.votetypeid = 15 AND v.postid = h.postid AND h.ContentLicense LIKE '%CC BY%');\n",
    "\"\"\"\n",
    "\n",
    "assert equals_query(q1, q2), \"queries are not equivalent\"\n",
    "print_avg_time(q1)\n",
    "print_avg_time(q2)"
   ]
  },
  {
   "cell_type": "code",
   "execution_count": 584,
   "metadata": {},
   "outputs": [
    {
     "name": "stdout",
     "output_type": "stream",
     "text": [
      "average execution time in 10 interations: 938.23 ms\n",
      "average execution time in 10 interations: 423.92 ms\n"
     ]
    }
   ],
   "source": [
    "q1 = \"\"\"\n",
    "SELECT distinct p.*\n",
    "FROM users u\n",
    "JOIN posthistory h ON u.id = h.userid AND h.userdisplayname = u.displayname\n",
    "JOIN posts p ON p.id = h.postid\n",
    "JOIN badges b ON b.userid = u.id\n",
    "WHERE b.name SIMILAR TO 'Supporter' OR b.name SIMILAR TO 'Editor'\n",
    "AND\n",
    "    (SELECT AVG(u2.upvotes) FROM users u2 WHERE u2.creationdate > p.creationdate)\n",
    "    >\n",
    "    (SELECT COUNT(*) FROM votes v WHERE v.votetypeid = 15 AND v.postid = h.postid AND h.ContentLicense LIKE '%CC BY%');\n",
    "\"\"\"\n",
    "\n",
    "q2 = \"\"\"\n",
    "SELECT DISTINCT p.*\n",
    "FROM users u\n",
    "JOIN posthistory h ON u.id = h.userid AND h.userdisplayname = u.displayname\n",
    "JOIN posts p ON p.id = h.postid\n",
    "JOIN badges b ON b.userid = u.id\n",
    "WHERE (b.name = 'Supporter' OR b.name = 'Editor')\n",
    "AND EXISTS (\n",
    "    SELECT 1\n",
    "    FROM users u2 \n",
    "    WHERE u2.creationdate > p.creationdate\n",
    "    GROUP BY u2.id\n",
    "    HAVING AVG(u2.upvotes) > ( \n",
    "        SELECT COUNT(*) \n",
    "        FROM votes v \n",
    "        WHERE v.votetypeid = 15 \n",
    "          AND v.postid = h.postid \n",
    "          AND h.ContentLicense LIKE '%CC BY%'\n",
    "    )\n",
    ");\n",
    "\"\"\"\n",
    "\n",
    "assert equals_query(q1, q2), \"queries are not equivalent\"\n",
    "print_avg_time(q1)\n",
    "print_avg_time(q2)"
   ]
  },
  {
   "cell_type": "code",
   "execution_count": 598,
   "metadata": {},
   "outputs": [
    {
     "name": "stdout",
     "output_type": "stream",
     "text": [
      "ERROR:  relation \"idx_users_id_displayname\" already exists\n",
      "ERROR:  relation \"idx_posthistory_userid_userdisplayname_postid\" already exists\n",
      "ERROR:  relation \"idx_posts_id\" already exists\n",
      "ERROR:  relation \"idx_badges_userid\" already exists\n",
      "average execution time in 10 interations: 311.79 ms\n"
     ]
    }
   ],
   "source": [
    "!psql postgres -c \"CREATE INDEX idx_users_id_displayname ON users(id, displayname);\"\n",
    "!psql postgres -c \"CREATE INDEX idx_posthistory_userid_userdisplayname_postid ON posthistory(userid, userdisplayname, postid);\"\n",
    "!psql postgres -c \"CREATE INDEX idx_posts_id ON posts(id);\"\n",
    "!psql postgres -c \"CREATE INDEX idx_badges_userid ON badges(userid);\"\n",
    "\n",
    "q1 = \"\"\"\n",
    "SELECT DISTINCT p.*\n",
    "FROM users u\n",
    "JOIN posthistory h ON u.id = h.userid AND h.userdisplayname = u.displayname\n",
    "JOIN posts p ON p.id = h.postid\n",
    "JOIN badges b ON b.userid = u.id\n",
    "WHERE (b.name = 'Supporter' OR b.name = 'Editor')\n",
    "AND EXISTS (\n",
    "    SELECT 1\n",
    "    FROM users u2 \n",
    "    WHERE u2.creationdate > p.creationdate\n",
    "    GROUP BY u2.id\n",
    "    HAVING AVG(u2.upvotes) > ( \n",
    "        SELECT COUNT(*) \n",
    "        FROM votes v \n",
    "        WHERE v.votetypeid = 15 \n",
    "          AND v.postid = h.postid \n",
    "          AND h.ContentLicense LIKE '%CC BY%'\n",
    "    )\n",
    ");\n",
    "\"\"\"\n",
    "print_avg_time(q1)"
   ]
  },
  {
   "cell_type": "code",
   "execution_count": null,
   "metadata": {},
   "outputs": [],
   "source": []
  }
 ],
 "metadata": {
  "kernelspec": {
   "display_name": "Python 3",
   "language": "python",
   "name": "python3"
  },
  "language_info": {
   "codemirror_mode": {
    "name": "ipython",
    "version": 3
   },
   "file_extension": ".py",
   "mimetype": "text/x-python",
   "name": "python",
   "nbconvert_exporter": "python",
   "pygments_lexer": "ipython3",
   "version": "3.11.8"
  }
 },
 "nbformat": 4,
 "nbformat_minor": 2
}
